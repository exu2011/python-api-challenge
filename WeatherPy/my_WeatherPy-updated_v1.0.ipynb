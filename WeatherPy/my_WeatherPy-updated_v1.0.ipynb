{
 "cells": [
  {
   "cell_type": "markdown",
   "metadata": {},
   "source": [
    "# WeatherPy\n",
    "----\n",
    "\n",
    "#### Note\n",
    "* Instructions have been included for each segment. You do not have to follow them exactly, but they are included to help you think through the steps."
   ]
  },
  {
   "cell_type": "code",
   "execution_count": 1,
   "metadata": {
    "scrolled": true
   },
   "outputs": [],
   "source": [
    "# Dependencies and Setup\n",
    "import matplotlib.pyplot as plt\n",
    "import pandas as pd\n",
    "import numpy as np\n",
    "import requests\n",
    "import time\n",
    "from scipy.stats import linregress\n",
    "import pprint as pprint\n",
    "import json\n",
    "\n",
    "# Import API key\n",
    "from api_keys import weather_api_key\n",
    "\n",
    "# Incorporated citipy to determine city based on latitude and longitude\n",
    "## Install it from cmd prompt: (base) C:\\me\\Programming>pip install citipy\n",
    "from citipy import citipy\n",
    "\n",
    "# Output File (CSV)\n",
    "output_data_file = \"output_data/cities.csv\"\n",
    "\n",
    "# Range of latitudes and longitudes\n",
    "lat_range = (-90, 90)\n",
    "lng_range = (-180, 180)"
   ]
  },
  {
   "cell_type": "markdown",
   "metadata": {},
   "source": [
    "## Generate Cities List"
   ]
  },
  {
   "cell_type": "code",
   "execution_count": 2,
   "metadata": {},
   "outputs": [
    {
     "data": {
      "text/plain": [
       "620"
      ]
     },
     "execution_count": 2,
     "metadata": {},
     "output_type": "execute_result"
    }
   ],
   "source": [
    "# List for holding lat_lngs and cities\n",
    "lat_lngs = []\n",
    "cities = []\n",
    "\n",
    "# Create a set of random lat and lng combinations\n",
    "## random.uniform: Draw samples from a uniform distribution.\n",
    "## returns a zip object, which is an iterator of tuples where the first item in each passed iterator is paired together, and then the second item in each passed iterator are paired together etc.\n",
    "lats = np.random.uniform(lat_range[0], lat_range[1], size=1500)\n",
    "lngs = np.random.uniform(lng_range[0], lng_range[1], size=1500)\n",
    "\n",
    "## create (lat, lng) tuple lists\n",
    "lat_lngs = zip(lats, lngs)\n",
    "\n",
    "# Identify nearest city for each lat, lng combination\n",
    "for lat_lng in lat_lngs:\n",
    "    city = citipy.nearest_city(lat_lng[0], lat_lng[1]).city_name\n",
    "    \n",
    "    # If the city is unique, then add it to a our cities list\n",
    "    if city not in cities:\n",
    "        cities.append(city)\n",
    "\n",
    "# Print the city count to confirm sufficient count\n",
    "len(cities)"
   ]
  },
  {
   "cell_type": "code",
   "execution_count": 3,
   "metadata": {},
   "outputs": [],
   "source": [
    "## fetch the first 60 cities and use it as a test set for coding\n",
    "#test_cities = cities[0:70]\n",
    "#print(len(test_cities))\n",
    "#print(test_cities)\n",
    "\n"
   ]
  },
  {
   "cell_type": "markdown",
   "metadata": {},
   "source": [
    "### Perform API Calls\n",
    "* Perform a weather check on each city using a series of successive API calls.\n",
    "* Include a print log of each city as it'sbeing processed (with the city number and city name).\n"
   ]
  },
  {
   "cell_type": "markdown",
   "metadata": {},
   "source": [
    "Weather Check Using API Calls"
   ]
  },
  {
   "cell_type": "code",
   "execution_count": 4,
   "metadata": {},
   "outputs": [],
   "source": [
    "MAX_NUM_RECORD_PER_SET = 49\n",
    "\n",
    "# Save config information.\n",
    "url = \"http://api.openweathermap.org/data/2.5/weather?\"\n",
    "# api.openweathermap.org/data/2.5/weather?q={city name}&appid={API key}\n",
    "\n",
    "units = \"imperial\"\n",
    "\n",
    "# Build partial query URL\n",
    "query_url = f\"{url}appid={weather_api_key}&units={units}&q=\""
   ]
  },
  {
   "cell_type": "code",
   "execution_count": 5,
   "metadata": {},
   "outputs": [
    {
     "name": "stdout",
     "output_type": "stream",
     "text": [
      "Beginning Data Retrieval\n",
      "-------------------------------\n",
      "Processing Record 0 of Set 1 | olafsvik\n",
      "Processing Record 1 of Set 1 | labytnangi\n",
      "Processing Record 2 of Set 1 | punta arenas\n",
      "Processing Record 3 of Set 1 | los llanos de aridane\n",
      "Processing Record 4 of Set 1 | rikitea\n",
      "Processing Record 5 of Set 1 | puerto ayora\n",
      "Processing Record 6 of Set 1 | ushuaia\n",
      "Processing Record 7 of Set 1 | havre-saint-pierre\n",
      "Processing Record 8 of Set 1 | bethel\n",
      "Processing Record 9 of Set 1 | maumere\n",
      "Processing Record 10 of Set 1 | flin flon\n",
      "Processing Record 11 of Set 1 | fort nelson\n",
      "Processing Record 12 of Set 1 | tasiilaq\n",
      "City | belushya guba not found. Skipping...\n",
      "Processing Record 13 of Set 1 | casay\n",
      "City | attawapiskat not found. Skipping...\n",
      "City | mys shmidta not found. Skipping...\n",
      "Processing Record 14 of Set 1 | bluff\n",
      "Processing Record 15 of Set 1 | katsuura\n",
      "Processing Record 16 of Set 1 | butaritari\n",
      "Processing Record 17 of Set 1 | mataura\n",
      "Processing Record 18 of Set 1 | manavalakurichi\n",
      "Processing Record 19 of Set 1 | thompson\n",
      "Processing Record 20 of Set 1 | la macarena\n",
      "Processing Record 21 of Set 1 | hermanus\n",
      "Processing Record 22 of Set 1 | khatanga\n",
      "Processing Record 23 of Set 1 | new norfolk\n",
      "Processing Record 24 of Set 1 | port alfred\n",
      "Processing Record 25 of Set 1 | itacare\n",
      "Processing Record 26 of Set 1 | hamilton\n",
      "Processing Record 27 of Set 1 | cape town\n",
      "Processing Record 28 of Set 1 | hasaki\n",
      "Processing Record 29 of Set 1 | tuktoyaktuk\n",
      "Processing Record 30 of Set 1 | arraial do cabo\n",
      "Processing Record 31 of Set 1 | teguise\n",
      "Processing Record 32 of Set 1 | carnarvon\n",
      "City | sumbawa not found. Skipping...\n",
      "Processing Record 33 of Set 1 | vaini\n",
      "Processing Record 34 of Set 1 | cayenne\n",
      "Processing Record 35 of Set 1 | lagoa\n",
      "Processing Record 36 of Set 1 | mar del plata\n",
      "Processing Record 37 of Set 1 | avarua\n",
      "Processing Record 38 of Set 1 | shache\n",
      "Processing Record 39 of Set 1 | mangaratiba\n",
      "City | taolanaro not found. Skipping...\n",
      "Processing Record 40 of Set 1 | namibe\n",
      "Processing Record 41 of Set 1 | ponta do sol\n",
      "City | barentsburg not found. Skipping...\n",
      "Processing Record 42 of Set 1 | leningradskiy\n",
      "Processing Record 43 of Set 1 | hilo\n",
      "Processing Record 44 of Set 1 | mumbwa\n",
      "Processing Record 45 of Set 1 | demba\n",
      "Processing Record 46 of Set 1 | altay\n",
      "Processing Record 47 of Set 1 | cabo san lucas\n",
      "Processing Record 48 of Set 1 | port blair\n",
      "City | bargal not found. Skipping...\n",
      "Processing Record 49 of Set 1 | hobart\n",
      "Processing Record 0 of Set 2 | iqaluit\n",
      "Processing Record 1 of Set 2 | kisangani\n",
      "City | tsihombe not found. Skipping...\n",
      "Processing Record 2 of Set 2 | aykhal\n",
      "Processing Record 3 of Set 2 | atuona\n",
      "Processing Record 4 of Set 2 | dhidhdhoo\n",
      "Processing Record 5 of Set 2 | busselton\n",
      "Processing Record 6 of Set 2 | qaanaaq\n",
      "Processing Record 7 of Set 2 | srivardhan\n",
      "Processing Record 8 of Set 2 | east london\n",
      "Processing Record 9 of Set 2 | sovetskiy\n",
      "Processing Record 10 of Set 2 | soyo\n",
      "Processing Record 11 of Set 2 | shu\n",
      "Processing Record 12 of Set 2 | makakilo city\n",
      "City | amderma not found. Skipping...\n",
      "Processing Record 13 of Set 2 | motygino\n",
      "Processing Record 14 of Set 2 | ferrol\n",
      "Processing Record 15 of Set 2 | kapaa\n",
      "Processing Record 16 of Set 2 | tezu\n",
      "Processing Record 17 of Set 2 | norman wells\n",
      "Processing Record 18 of Set 2 | taitung\n",
      "Processing Record 19 of Set 2 | jumla\n",
      "Processing Record 20 of Set 2 | souillac\n",
      "Processing Record 21 of Set 2 | jamestown\n",
      "Processing Record 22 of Set 2 | teguldet\n",
      "Processing Record 23 of Set 2 | albany\n",
      "Processing Record 24 of Set 2 | takoradi\n",
      "Processing Record 25 of Set 2 | dikson\n",
      "Processing Record 26 of Set 2 | kieta\n",
      "Processing Record 27 of Set 2 | ketchikan\n",
      "Processing Record 28 of Set 2 | vestmanna\n",
      "Processing Record 29 of Set 2 | bulungu\n",
      "Processing Record 30 of Set 2 | yellowknife\n",
      "Processing Record 31 of Set 2 | parainen\n",
      "Processing Record 32 of Set 2 | bengkulu\n",
      "City | tumannyy not found. Skipping...\n",
      "Processing Record 33 of Set 2 | horki\n",
      "Processing Record 34 of Set 2 | comodoro rivadavia\n",
      "Processing Record 35 of Set 2 | turukhansk\n",
      "Processing Record 36 of Set 2 | kruisfontein\n",
      "Processing Record 37 of Set 2 | padang\n",
      "Processing Record 38 of Set 2 | oranjemund\n",
      "Processing Record 39 of Set 2 | saldanha\n",
      "Processing Record 40 of Set 2 | marrakesh\n",
      "Processing Record 41 of Set 2 | chara\n",
      "Processing Record 42 of Set 2 | torbay\n",
      "Processing Record 43 of Set 2 | san isidro\n",
      "Processing Record 44 of Set 2 | port hardy\n",
      "Processing Record 45 of Set 2 | atar\n",
      "Processing Record 46 of Set 2 | nizhneivkino\n",
      "Processing Record 47 of Set 2 | bairiki\n",
      "Processing Record 48 of Set 2 | oltu\n",
      "Processing Record 49 of Set 2 | rincon\n",
      "Processing Record 0 of Set 3 | talnakh\n",
      "Processing Record 1 of Set 3 | salta\n",
      "Processing Record 2 of Set 3 | ribeira grande\n",
      "Processing Record 3 of Set 3 | ajdabiya\n",
      "Processing Record 4 of Set 3 | sao joao da barra\n",
      "Processing Record 5 of Set 3 | saint-philippe\n",
      "Processing Record 6 of Set 3 | klyuchi\n",
      "Processing Record 7 of Set 3 | kavaratti\n",
      "Processing Record 8 of Set 3 | orsha\n",
      "Processing Record 9 of Set 3 | agustin codazzi\n",
      "Processing Record 10 of Set 3 | saint george\n",
      "Processing Record 11 of Set 3 | vestmannaeyjar\n",
      "Processing Record 12 of Set 3 | port elizabeth\n",
      "Processing Record 13 of Set 3 | shar\n",
      "Processing Record 14 of Set 3 | tiksi\n",
      "Processing Record 15 of Set 3 | jalu\n",
      "Processing Record 16 of Set 3 | hede\n",
      "Processing Record 17 of Set 3 | georgetown\n",
      "Processing Record 18 of Set 3 | nouadhibou\n",
      "Processing Record 19 of Set 3 | borogontsy\n",
      "City | illoqqortoormiut not found. Skipping...\n",
      "Processing Record 20 of Set 3 | los negros\n",
      "Processing Record 21 of Set 3 | faanui\n",
      "Processing Record 22 of Set 3 | clyde river\n",
      "City | yirol not found. Skipping...\n",
      "Processing Record 23 of Set 3 | cangucu\n",
      "Processing Record 24 of Set 3 | severo-kurilsk\n",
      "Processing Record 25 of Set 3 | victoria\n",
      "Processing Record 26 of Set 3 | yaan\n",
      "Processing Record 27 of Set 3 | ilulissat\n",
      "City | santa eulalia del rio not found. Skipping...\n",
      "Processing Record 28 of Set 3 | barrow\n",
      "Processing Record 29 of Set 3 | mantua\n",
      "City | samusu not found. Skipping...\n",
      "Processing Record 30 of Set 3 | japura\n",
      "Processing Record 31 of Set 3 | tokur\n",
      "Processing Record 32 of Set 3 | pacific grove\n",
      "Processing Record 33 of Set 3 | keshorai patan\n",
      "Processing Record 34 of Set 3 | kodiak\n",
      "Processing Record 35 of Set 3 | aklavik\n",
      "City | sataua not found. Skipping...\n",
      "City | marcona not found. Skipping...\n",
      "Processing Record 36 of Set 3 | boyolangu\n",
      "Processing Record 37 of Set 3 | rio grande\n",
      "City | chagda not found. Skipping...\n",
      "Processing Record 38 of Set 3 | ust-maya\n",
      "Processing Record 39 of Set 3 | ossora\n",
      "Processing Record 40 of Set 3 | sitka\n",
      "Processing Record 41 of Set 3 | bredasdorp\n",
      "Processing Record 42 of Set 3 | grasse\n",
      "Processing Record 43 of Set 3 | katangli\n",
      "Processing Record 44 of Set 3 | champerico\n",
      "Processing Record 45 of Set 3 | waingapu\n",
      "Processing Record 46 of Set 3 | parga\n",
      "Processing Record 47 of Set 3 | fare\n",
      "Processing Record 48 of Set 3 | halden\n",
      "Processing Record 49 of Set 3 | solnechnyy\n",
      "Processing Record 0 of Set 4 | saskylakh\n",
      "Processing Record 1 of Set 4 | tallahassee\n",
      "Processing Record 2 of Set 4 | songwa\n",
      "Processing Record 3 of Set 4 | toora-khem\n",
      "Processing Record 4 of Set 4 | dali\n",
      "Processing Record 5 of Set 4 | narasannapeta\n",
      "Processing Record 6 of Set 4 | geraldton\n",
      "Processing Record 7 of Set 4 | saraikela\n",
      "Processing Record 8 of Set 4 | ndele\n",
      "Processing Record 9 of Set 4 | nikolskoye\n",
      "Processing Record 10 of Set 4 | portalegre\n",
      "Processing Record 11 of Set 4 | isangel\n",
      "Processing Record 12 of Set 4 | castro\n",
      "Processing Record 13 of Set 4 | touros\n",
      "Processing Record 14 of Set 4 | longyearbyen\n",
      "City | ituni not found. Skipping...\n",
      "Processing Record 15 of Set 4 | bambous virieux\n",
      "Processing Record 16 of Set 4 | christchurch\n",
      "Processing Record 17 of Set 4 | poya\n",
      "Processing Record 18 of Set 4 | tuatapere\n",
      "Processing Record 19 of Set 4 | alekseyevskaya\n",
      "Processing Record 20 of Set 4 | constitucion\n",
      "Processing Record 21 of Set 4 | guatire\n",
      "Processing Record 22 of Set 4 | impfondo\n",
      "City | sentyabrskiy not found. Skipping...\n",
      "Processing Record 23 of Set 4 | kavieng\n",
      "Processing Record 24 of Set 4 | luderitz\n",
      "Processing Record 25 of Set 4 | green river\n",
      "Processing Record 26 of Set 4 | koson\n",
      "Processing Record 27 of Set 4 | gat\n",
      "Processing Record 28 of Set 4 | paso de los toros\n",
      "Processing Record 29 of Set 4 | cullinan\n",
      "Processing Record 30 of Set 4 | provideniya\n",
      "Processing Record 31 of Set 4 | sao filipe\n",
      "Processing Record 32 of Set 4 | ozieri\n",
      "Processing Record 33 of Set 4 | pisco\n",
      "Processing Record 34 of Set 4 | weihai\n",
      "Processing Record 35 of Set 4 | broome\n",
      "Processing Record 36 of Set 4 | hobyo\n",
      "Processing Record 37 of Set 4 | haines junction\n",
      "Processing Record 38 of Set 4 | newtownards\n",
      "Processing Record 39 of Set 4 | axim\n",
      "Processing Record 40 of Set 4 | amapa\n",
      "Processing Record 41 of Set 4 | tahta\n",
      "Processing Record 42 of Set 4 | kaitangata\n",
      "City | jiroft not found. Skipping...\n",
      "Processing Record 43 of Set 4 | gamba\n",
      "Processing Record 44 of Set 4 | sur\n",
      "Processing Record 45 of Set 4 | san pedro\n",
      "City | umzimvubu not found. Skipping...\n",
      "Processing Record 46 of Set 4 | vostok\n",
      "City | sayabec not found. Skipping...\n",
      "Processing Record 47 of Set 4 | camacha\n",
      "Processing Record 48 of Set 4 | druzhba\n",
      "Processing Record 49 of Set 4 | te anau\n",
      "Processing Record 0 of Set 5 | port lincoln\n",
      "Processing Record 1 of Set 5 | adet\n",
      "Processing Record 2 of Set 5 | beringovskiy\n",
      "Processing Record 3 of Set 5 | smidovich\n",
      "Processing Record 4 of Set 5 | taoudenni\n",
      "Processing Record 5 of Set 5 | kajaani\n",
      "Processing Record 6 of Set 5 | hithadhoo\n",
      "Processing Record 7 of Set 5 | high level\n",
      "Processing Record 8 of Set 5 | san cristobal\n",
      "Processing Record 9 of Set 5 | loanda\n",
      "City | viligili not found. Skipping...\n",
      "Processing Record 10 of Set 5 | necochea\n",
      "Processing Record 11 of Set 5 | tevaitoa\n",
      "Processing Record 12 of Set 5 | sao gabriel da cachoeira\n",
      "Processing Record 13 of Set 5 | slave lake\n",
      "Processing Record 14 of Set 5 | mayo\n",
      "Processing Record 15 of Set 5 | erzin\n",
      "Processing Record 16 of Set 5 | isugod\n",
      "Processing Record 17 of Set 5 | sumber\n",
      "Processing Record 18 of Set 5 | inhambane\n",
      "Processing Record 19 of Set 5 | petropavlovsk-kamchatskiy\n",
      "Processing Record 20 of Set 5 | manokwari\n",
      "Processing Record 21 of Set 5 | igrim\n",
      "Processing Record 22 of Set 5 | santa catalina\n",
      "Processing Record 23 of Set 5 | evensk\n",
      "Processing Record 24 of Set 5 | luanda\n",
      "Processing Record 25 of Set 5 | vanimo\n",
      "Processing Record 26 of Set 5 | dunedin\n",
      "Processing Record 27 of Set 5 | golden\n",
      "Processing Record 28 of Set 5 | lazaro cardenas\n",
      "Processing Record 29 of Set 5 | lorengau\n",
      "Processing Record 30 of Set 5 | blaubeuren\n",
      "Processing Record 31 of Set 5 | constantine\n",
      "Processing Record 32 of Set 5 | strezhevoy\n",
      "Processing Record 33 of Set 5 | tilichiki\n",
      "Processing Record 34 of Set 5 | loukhi\n",
      "Processing Record 35 of Set 5 | la tuque\n",
      "Processing Record 36 of Set 5 | bubaque\n",
      "Processing Record 37 of Set 5 | verkhnyaya inta\n",
      "Processing Record 38 of Set 5 | half moon bay\n",
      "Processing Record 39 of Set 5 | klaksvik\n",
      "Processing Record 40 of Set 5 | houma\n",
      "Processing Record 41 of Set 5 | walvis bay\n",
      "Processing Record 42 of Set 5 | airai\n",
      "Processing Record 43 of Set 5 | saint-augustin\n",
      "Processing Record 44 of Set 5 | mauganj\n",
      "Processing Record 45 of Set 5 | kommunisticheskiy\n",
      "Processing Record 46 of Set 5 | tautira\n",
      "Processing Record 47 of Set 5 | upernavik\n",
      "Processing Record 48 of Set 5 | portland\n",
      "Processing Record 49 of Set 5 | pathein\n",
      "Processing Record 0 of Set 6 | sao lourenco do oeste\n",
      "Processing Record 1 of Set 6 | sakakah\n",
      "Processing Record 2 of Set 6 | antofagasta\n",
      "Processing Record 3 of Set 6 | wahiawa\n",
      "Processing Record 4 of Set 6 | vila velha\n",
      "Processing Record 5 of Set 6 | praia da vitoria\n",
      "Processing Record 6 of Set 6 | rajanpur\n",
      "Processing Record 7 of Set 6 | katobu\n",
      "Processing Record 8 of Set 6 | skoghall\n",
      "Processing Record 9 of Set 6 | menongue\n",
      "Processing Record 10 of Set 6 | isetskoye\n",
      "Processing Record 11 of Set 6 | romans-sur-isere\n",
      "Processing Record 12 of Set 6 | tambacounda\n",
      "Processing Record 13 of Set 6 | lompoc\n",
      "Processing Record 14 of Set 6 | aras\n",
      "City | rawannawi not found. Skipping...\n",
      "Processing Record 15 of Set 6 | portage lakes\n",
      "Processing Record 16 of Set 6 | baruun-urt\n",
      "Processing Record 17 of Set 6 | esperance\n",
      "Processing Record 18 of Set 6 | wahpeton\n",
      "Processing Record 19 of Set 6 | bouloupari\n",
      "Processing Record 20 of Set 6 | remedios\n",
      "Processing Record 21 of Set 6 | mahebourg\n",
      "Processing Record 22 of Set 6 | gorontalo\n",
      "Processing Record 23 of Set 6 | chuy\n",
      "Processing Record 24 of Set 6 | boende\n",
      "Processing Record 25 of Set 6 | hit\n",
      "Processing Record 26 of Set 6 | deputatskiy\n",
      "Processing Record 27 of Set 6 | les cayes\n",
      "Processing Record 28 of Set 6 | tazovskiy\n",
      "Processing Record 29 of Set 6 | paamiut\n",
      "Processing Record 30 of Set 6 | kahului\n",
      "Processing Record 31 of Set 6 | batagay-alyta\n",
      "Processing Record 32 of Set 6 | lata\n",
      "Processing Record 33 of Set 6 | mahon\n",
      "Processing Record 34 of Set 6 | lavrentiya\n",
      "Processing Record 35 of Set 6 | santa cruz\n",
      "Processing Record 36 of Set 6 | ostrovnoy\n",
      "Processing Record 37 of Set 6 | nadym\n",
      "Processing Record 38 of Set 6 | koshurnikovo\n",
      "City | vaitupu not found. Skipping...\n",
      "Processing Record 39 of Set 6 | gayeri\n",
      "Processing Record 40 of Set 6 | travnik\n",
      "Processing Record 41 of Set 6 | mount gambier\n",
      "Processing Record 42 of Set 6 | khandbari\n",
      "Processing Record 43 of Set 6 | tayu\n",
      "Processing Record 44 of Set 6 | arinos\n",
      "Processing Record 45 of Set 6 | varberg\n",
      "Processing Record 46 of Set 6 | skibbereen\n",
      "Processing Record 47 of Set 6 | poum\n",
      "Processing Record 48 of Set 6 | seljord\n",
      "Processing Record 49 of Set 6 | torrington\n",
      "Processing Record 0 of Set 7 | plainview\n",
      "Processing Record 1 of Set 7 | qom\n",
      "Processing Record 2 of Set 7 | hirara\n",
      "City | tabiauea not found. Skipping...\n",
      "Processing Record 3 of Set 7 | huilong\n",
      "Processing Record 4 of Set 7 | sohag\n",
      "Processing Record 5 of Set 7 | santa ines\n",
      "Processing Record 6 of Set 7 | varena\n",
      "Processing Record 7 of Set 7 | goderich\n",
      "Processing Record 8 of Set 7 | tomatlan\n",
      "Processing Record 9 of Set 7 | tezpur\n",
      "Processing Record 10 of Set 7 | guerrero negro\n",
      "Processing Record 11 of Set 7 | altea\n",
      "Processing Record 12 of Set 7 | marzuq\n",
      "Processing Record 13 of Set 7 | lodja\n",
      "City | ondorhaan not found. Skipping...\n",
      "Processing Record 14 of Set 7 | balikpapan\n",
      "Processing Record 15 of Set 7 | kyzyl-suu\n",
      "City | nizhneyansk not found. Skipping...\n",
      "Processing Record 16 of Set 7 | tres passos\n",
      "Processing Record 17 of Set 7 | ventspils\n",
      "City | wulanhaote not found. Skipping...\n",
      "Processing Record 18 of Set 7 | meulaboh\n",
      "Processing Record 19 of Set 7 | grindavik\n",
      "Processing Record 20 of Set 7 | verkhnyaya sinyachikha\n",
      "Processing Record 21 of Set 7 | kununurra\n",
      "Processing Record 22 of Set 7 | sorland\n",
      "Processing Record 23 of Set 7 | okhotsk\n",
      "Processing Record 24 of Set 7 | teeli\n",
      "Processing Record 25 of Set 7 | sadovoye\n",
      "Processing Record 26 of Set 7 | uvat\n",
      "Processing Record 27 of Set 7 | padilla\n",
      "Processing Record 28 of Set 7 | itoman\n",
      "Processing Record 29 of Set 7 | hami\n",
      "Processing Record 30 of Set 7 | turayf\n",
      "City | grand river south east not found. Skipping...\n",
      "Processing Record 31 of Set 7 | henties bay\n",
      "Processing Record 32 of Set 7 | linjiang\n",
      "Processing Record 33 of Set 7 | kudahuvadhoo\n",
      "City | opobo not found. Skipping...\n",
      "Processing Record 34 of Set 7 | port hedland\n",
      "Processing Record 35 of Set 7 | berlevag\n",
      "Processing Record 36 of Set 7 | khani\n",
      "Processing Record 37 of Set 7 | plettenberg bay\n",
      "City | aakirkeby not found. Skipping...\n",
      "Processing Record 38 of Set 7 | forest acres\n",
      "City | shkotovo-26 not found. Skipping...\n",
      "Processing Record 39 of Set 7 | iquitos\n",
      "Processing Record 40 of Set 7 | naze\n",
      "Processing Record 41 of Set 7 | suzun\n",
      "Processing Record 42 of Set 7 | taujica\n",
      "Processing Record 43 of Set 7 | northam\n",
      "Processing Record 44 of Set 7 | novo aripuana\n",
      "Processing Record 45 of Set 7 | chokurdakh\n",
      "Processing Record 46 of Set 7 | oussouye\n",
      "Processing Record 47 of Set 7 | basoko\n",
      "Processing Record 48 of Set 7 | esso\n",
      "Processing Record 49 of Set 7 | acari\n",
      "City | burica not found. Skipping...\n",
      "Processing Record 0 of Set 8 | namatanai\n",
      "Processing Record 1 of Set 8 | inza\n",
      "Processing Record 2 of Set 8 | faro\n",
      "Processing Record 3 of Set 8 | karratha\n",
      "Processing Record 4 of Set 8 | bodden town\n",
      "Processing Record 5 of Set 8 | pingzhuang\n",
      "Processing Record 6 of Set 8 | bogorodskoye\n",
      "Processing Record 7 of Set 8 | xinzhou\n",
      "Processing Record 8 of Set 8 | saint anthony\n",
      "Processing Record 9 of Set 8 | laguna\n",
      "Processing Record 10 of Set 8 | udachnyy\n",
      "Processing Record 11 of Set 8 | korla\n",
      "Processing Record 12 of Set 8 | hundorp\n",
      "Processing Record 13 of Set 8 | taian\n",
      "Processing Record 14 of Set 8 | wakefield\n",
      "Processing Record 15 of Set 8 | beloha\n",
      "Processing Record 16 of Set 8 | komsomolskiy\n",
      "Processing Record 17 of Set 8 | bassar\n",
      "Processing Record 18 of Set 8 | gobabis\n",
      "Processing Record 19 of Set 8 | barhi\n",
      "City | berikulskiy not found. Skipping...\n",
      "Processing Record 20 of Set 8 | husavik\n",
      "Processing Record 21 of Set 8 | puerto colombia\n",
      "Processing Record 22 of Set 8 | adrar\n",
      "Processing Record 23 of Set 8 | diu\n",
      "Processing Record 24 of Set 8 | las cruces\n",
      "Processing Record 25 of Set 8 | phalodi\n",
      "Processing Record 26 of Set 8 | maralal\n",
      "Processing Record 27 of Set 8 | izhma\n",
      "Processing Record 28 of Set 8 | ust-kulom\n",
      "Processing Record 29 of Set 8 | kidal\n",
      "Processing Record 30 of Set 8 | nexo\n",
      "Processing Record 31 of Set 8 | ola\n",
      "Processing Record 32 of Set 8 | nizhniy baskunchak\n",
      "Processing Record 33 of Set 8 | fortuna foothills\n",
      "Processing Record 34 of Set 8 | asosa\n",
      "Processing Record 35 of Set 8 | peniche\n",
      "Processing Record 36 of Set 8 | port-gentil\n",
      "Processing Record 37 of Set 8 | sahuaripa\n",
      "Processing Record 38 of Set 8 | akdepe\n",
      "Processing Record 39 of Set 8 | havelock\n",
      "Processing Record 40 of Set 8 | abu dhabi\n",
      "Processing Record 41 of Set 8 | catamarca\n",
      "Processing Record 42 of Set 8 | cherskiy\n",
      "Processing Record 43 of Set 8 | malakal\n",
      "Processing Record 44 of Set 8 | edd\n",
      "Processing Record 45 of Set 8 | nishihara\n",
      "Processing Record 46 of Set 8 | maniitsoq\n",
      "Processing Record 47 of Set 8 | egvekinot\n",
      "City | barbar not found. Skipping...\n",
      "City | phan rang not found. Skipping...\n",
      "Processing Record 48 of Set 8 | bonavista\n",
      "Processing Record 49 of Set 8 | toyooka\n",
      "Processing Record 0 of Set 9 | nuuk\n",
      "Processing Record 1 of Set 9 | nyurba\n",
      "Processing Record 2 of Set 9 | seoul\n",
      "Processing Record 3 of Set 9 | santa luzia\n",
      "City | viksoyri not found. Skipping...\n",
      "Processing Record 4 of Set 9 | yerbogachen\n",
      "City | bokspits not found. Skipping...\n",
      "City | gorkovskoye not found. Skipping...\n",
      "Processing Record 5 of Set 9 | tual\n",
      "Processing Record 6 of Set 9 | lerwick\n",
      "Processing Record 7 of Set 9 | morros\n",
      "Processing Record 8 of Set 9 | parana\n",
      "Processing Record 9 of Set 9 | uyuni\n",
      "City | saleaula not found. Skipping...\n",
      "Processing Record 10 of Set 9 | rumoi\n",
      "Processing Record 11 of Set 9 | rjukan\n",
      "Processing Record 12 of Set 9 | saint-francois\n",
      "Processing Record 13 of Set 9 | caravelas\n",
      "Processing Record 14 of Set 9 | rennes\n",
      "Processing Record 15 of Set 9 | cidreira\n",
      "Processing Record 16 of Set 9 | bafoulabe\n",
      "Processing Record 17 of Set 9 | kailua\n",
      "Processing Record 18 of Set 9 | krasnoye-na-volge\n",
      "Processing Record 19 of Set 9 | inirida\n",
      "Processing Record 20 of Set 9 | tignere\n",
      "Processing Record 21 of Set 9 | marienburg\n",
      "Processing Record 22 of Set 9 | mokrous\n",
      "City | hihifo not found. Skipping...\n",
      "Processing Record 23 of Set 9 | cedar city\n",
      "Processing Record 24 of Set 9 | nicoya\n",
      "Processing Record 25 of Set 9 | simao\n",
      "City | warqla not found. Skipping...\n",
      "City | karkaralinsk not found. Skipping...\n",
      "Processing Record 26 of Set 9 | cocobeach\n",
      "Processing Record 27 of Set 9 | cabinda\n",
      "Processing Record 28 of Set 9 | cassino\n",
      "Processing Record 29 of Set 9 | araouane\n",
      "Processing Record 30 of Set 9 | grand gaube\n",
      "Processing Record 31 of Set 9 | isilkul\n",
      "Processing Record 32 of Set 9 | astaneh-ye ashrafiyeh\n",
      "Processing Record 33 of Set 9 | byron bay\n",
      "Processing Record 34 of Set 9 | pizarro\n",
      "Processing Record 35 of Set 9 | cap malheureux\n",
      "Processing Record 36 of Set 9 | vilyuysk\n",
      "City | jarjis not found. Skipping...\n",
      "Processing Record 37 of Set 9 | college\n",
      "Processing Record 38 of Set 9 | beidao\n",
      "Processing Record 39 of Set 9 | ojinaga\n",
      "Processing Record 40 of Set 9 | lacarak\n",
      "Processing Record 41 of Set 9 | serenje\n",
      "Processing Record 42 of Set 9 | mangai\n",
      "Processing Record 43 of Set 9 | luba\n",
      "Processing Record 44 of Set 9 | san quintin\n",
      "Processing Record 45 of Set 9 | wellington\n",
      "Processing Record 46 of Set 9 | horsham\n",
      "Processing Record 47 of Set 9 | puerto escondido\n",
      "Processing Record 48 of Set 9 | dudinka\n",
      "Processing Record 49 of Set 9 | tabou\n",
      "Processing Record 0 of Set 10 | sisimiut\n",
      "Processing Record 1 of Set 10 | hay river\n",
      "Processing Record 2 of Set 10 | teknaf\n",
      "Processing Record 3 of Set 10 | mirador\n",
      "Processing Record 4 of Set 10 | margate\n",
      "Processing Record 5 of Set 10 | shwebo\n",
      "Processing Record 6 of Set 10 | lasa\n",
      "Processing Record 7 of Set 10 | tshikapa\n",
      "Processing Record 8 of Set 10 | rio gallegos\n",
      "Processing Record 9 of Set 10 | bathsheba\n",
      "Processing Record 10 of Set 10 | indramayu\n",
      "Processing Record 11 of Set 10 | son la\n",
      "Processing Record 12 of Set 10 | nizwa\n",
      "Processing Record 13 of Set 10 | blagoyevo\n",
      "Processing Record 14 of Set 10 | vao\n",
      "City | gorno-chuyskiy not found. Skipping...\n",
      "Processing Record 15 of Set 10 | guarapari\n",
      "Processing Record 16 of Set 10 | waipawa\n",
      "Processing Record 17 of Set 10 | caramay\n",
      "Processing Record 18 of Set 10 | creston\n",
      "Processing Record 19 of Set 10 | roma\n",
      "Processing Record 20 of Set 10 | puri\n",
      "Processing Record 21 of Set 10 | mizdah\n",
      "City | tasbuget not found. Skipping...\n",
      "Processing Record 22 of Set 10 | san vicente de canete\n",
      "Processing Record 23 of Set 10 | karlskoga\n",
      "Processing Record 24 of Set 10 | mirnyy\n",
      "Processing Record 25 of Set 10 | vung tau\n",
      "Processing Record 26 of Set 10 | rawson\n",
      "Processing Record 27 of Set 10 | puerto ayacucho\n",
      "Processing Record 28 of Set 10 | cassilandia\n",
      "Processing Record 29 of Set 10 | baltati\n",
      "Processing Record 30 of Set 10 | yenagoa\n",
      "Processing Record 31 of Set 10 | tyukhtet\n",
      "Processing Record 32 of Set 10 | pouebo\n",
      "Processing Record 33 of Set 10 | nome\n",
      "Processing Record 34 of Set 10 | amahai\n",
      "Processing Record 35 of Set 10 | taybad\n",
      "Processing Record 36 of Set 10 | dargaville\n",
      "Processing Record 37 of Set 10 | labuhan\n",
      "Processing Record 38 of Set 10 | eyl\n",
      "Processing Record 39 of Set 10 | mahibadhoo\n",
      "Processing Record 40 of Set 10 | ternate\n",
      "Processing Record 41 of Set 10 | linda\n",
      "Processing Record 42 of Set 10 | cairns\n",
      "Processing Record 43 of Set 10 | riyadh\n",
      "Processing Record 44 of Set 10 | banda aceh\n",
      "Processing Record 45 of Set 10 | pasighat\n",
      "Processing Record 46 of Set 10 | camana\n",
      "Processing Record 47 of Set 10 | bandarbeyla\n",
      "Processing Record 48 of Set 10 | ono\n",
      "Processing Record 49 of Set 10 | bilma\n",
      "Processing Record 0 of Set 11 | taraza\n",
      "Processing Record 1 of Set 11 | san patricio\n",
      "Processing Record 2 of Set 11 | dingle\n",
      "Processing Record 3 of Set 11 | aguada de pasajeros\n",
      "Processing Record 4 of Set 11 | shenjiamen\n",
      "Processing Record 5 of Set 11 | angol\n",
      "Processing Record 6 of Set 11 | viesca\n",
      "Processing Record 7 of Set 11 | moultrie\n",
      "Processing Record 8 of Set 11 | clonakilty\n",
      "Processing Record 9 of Set 11 | mogadishu\n",
      "Processing Record 10 of Set 11 | brigantine\n",
      "Processing Record 11 of Set 11 | manzhouli\n",
      "Processing Record 12 of Set 11 | peace river\n",
      "Processing Record 13 of Set 11 | gizo\n",
      "Processing Record 14 of Set 11 | puerto baquerizo moreno\n",
      "Processing Record 15 of Set 11 | changli\n",
      "Processing Record 16 of Set 11 | coleraine\n",
      "Processing Record 17 of Set 11 | wana\n",
      "Processing Record 18 of Set 11 | yumen\n",
      "Processing Record 19 of Set 11 | sol-iletsk\n",
      "Processing Record 20 of Set 11 | haapiti\n",
      "Processing Record 21 of Set 11 | sambava\n",
      "Processing Record 22 of Set 11 | sibolga\n",
      "Processing Record 23 of Set 11 | loa janan\n",
      "Processing Record 24 of Set 11 | prainha\n",
      "City | falealupo not found. Skipping...\n",
      "City | kazalinsk not found. Skipping...\n",
      "Processing Record 25 of Set 11 | svirstroy\n",
      "Processing Record 26 of Set 11 | la orilla\n",
      "Processing Record 27 of Set 11 | emerald\n",
      "Processing Record 28 of Set 11 | obihiro\n",
      "Processing Record 29 of Set 11 | acapulco\n",
      "Processing Record 30 of Set 11 | mandalgovi\n",
      "City | utiroa not found. Skipping...\n",
      "City | el faiyum not found. Skipping...\n",
      "Processing Record 31 of Set 11 | san antonio\n",
      "City | ozgon not found. Skipping...\n",
      "Processing Record 32 of Set 11 | elverum\n",
      "Processing Record 33 of Set 11 | yinchuan\n",
      "Processing Record 34 of Set 11 | tateyama\n",
      "Processing Record 35 of Set 11 | pangody\n",
      "Processing Record 36 of Set 11 | morgan city\n",
      "Processing Record 37 of Set 11 | anyang\n",
      "Processing Record 38 of Set 11 | nanortalik\n",
      "City | gangotri not found. Skipping...\n",
      "Processing Record 39 of Set 11 | fortuna\n",
      "Processing Record 40 of Set 11 | jiazi\n",
      "Processing Record 41 of Set 11 | eureka\n",
      "Processing Record 42 of Set 11 | cascais\n",
      "City | lolua not found. Skipping...\n",
      "Processing Record 43 of Set 11 | leo\n",
      "Processing Record 44 of Set 11 | coihaique\n",
      "Processing Record 45 of Set 11 | okoneshnikovo\n",
      "Processing Record 46 of Set 11 | baft\n",
      "Processing Record 47 of Set 11 | aketi\n",
      "Processing Record 48 of Set 11 | lusambo\n",
      "City | satitoa not found. Skipping...\n",
      "Processing Record 49 of Set 11 | kargil\n",
      "Processing Record 0 of Set 12 | saint-louis\n",
      "Processing Record 1 of Set 12 | yanam\n",
      "Processing Record 2 of Set 12 | bud\n",
      "Processing Record 3 of Set 12 | aksarka\n",
      "Processing Record 4 of Set 12 | erenhot\n",
      "Processing Record 5 of Set 12 | boissevain\n",
      "Processing Record 6 of Set 12 | monte alegre\n",
      "Processing Record 7 of Set 12 | zyryanskoye\n",
      "Processing Record 8 of Set 12 | la rioja\n",
      "Processing Record 9 of Set 12 | pala\n",
      "Processing Record 10 of Set 12 | humen\n",
      "Processing Record 11 of Set 12 | xining\n",
      "Processing Record 12 of Set 12 | montepuez\n",
      "Processing Record 13 of Set 12 | lebu\n",
      "Processing Record 14 of Set 12 | maragogi\n",
      "-------------------------------\n",
      "Data Retrieval Complete\n",
      "-------------------------------\n"
     ]
    }
   ],
   "source": [
    "## Declare a list of variables to hold the Max Temperature, Humidity, Cloudiness, Wind Speed, and Country\n",
    "lat_ar = []\n",
    "lng_ar = []\n",
    "max_temperature_ar = []\n",
    "humidity_ar = []\n",
    "cloudiness_ar = []\n",
    "wind_speed_ar = []\n",
    "date_ar = []\n",
    "country_ar = []\n",
    "\n",
    "set_no = 1\n",
    "record_no = 0\n",
    "\n",
    "## print the log file header\n",
    "print(\"Beginning Data Retrieval\")\n",
    "print(\"-------------------------------\")\n",
    "\n",
    "## for loop: \n",
    "##for i in range(70):\n",
    "for i in range(len(cities)):\n",
    "    ## Avoid overloading the system with API requests\n",
    "    time.sleep(1) \n",
    "    \n",
    "    ##city_url = query_url + cities[i]\n",
    "    city_url = query_url + cities[i]\n",
    "    \n",
    "    ## print(f\"City_url = {city_url}\")\n",
    "    \n",
    "    response_json = requests.get(city_url).json()\n",
    "\n",
    "    ## Catch the situations with the attribute name, but value is empty\n",
    "    try: \n",
    "        lat_ar.append(response_json['coord']['lat'])\n",
    "        lng_ar.append(response_json['coord']['lon'])\n",
    "        max_temperature_ar.append(response_json['main']['temp_max'])\n",
    "        humidity_ar.append(response_json['main']['humidity'])\n",
    "        cloudiness_ar.append(response_json['clouds']['all'])\n",
    "        wind_speed_ar.append(response_json['wind']['speed'])\n",
    "        date_ar.append(response_json['dt'])\n",
    "        country_ar.append(response_json['sys']['country'])\n",
    "        \n",
    "        ## print the log file line for each city: \n",
    "        print(f\"Processing Record {record_no} of Set {set_no} | {cities[i]}\")\n",
    "            \n",
    "        ## check to see if city_no = 50, if so, increment set_no\n",
    "        ## set the record_no and set_no for the next round of log printing\n",
    "        if record_no == MAX_NUM_RECORD_PER_SET:\n",
    "            record_no = 0\n",
    "            set_no += 1\n",
    "            ##print(f\"record_no = {record_no}, set_no = {set_no}\")\n",
    "        else:\n",
    "            record_no += 1\n",
    "            ##print(f\"Just add 1 to record_no: record_no = {record_no}\")     \n",
    "        \n",
    "    except KeyError:\n",
    "        ## don't have data -> put NaN\n",
    "        lat_ar.append(np.nan)\n",
    "        lng_ar.append(np.nan)\n",
    "        max_temperature_ar.append(np.nan)\n",
    "        humidity_ar.append(np.nan)\n",
    "        cloudiness_ar.append(0)\n",
    "        wind_speed_ar.append(np.nan)\n",
    "        date_ar.append(np.nan)\n",
    "        country_ar.append(np.nan)\n",
    "        print(f\"City | {cities[i]} not found. Skipping...\")\n",
    "        ##print(f\"record_no = {record_no}, set_no = {set_no}\")\n",
    "    \n",
    "## print the log file ending sentence\n",
    "print(\"-------------------------------\")\n",
    "print(\"Data Retrieval Complete\")\n",
    "print(\"-------------------------------\")\n",
    "  "
   ]
  },
  {
   "cell_type": "code",
   "execution_count": null,
   "metadata": {
    "scrolled": true
   },
   "outputs": [],
   "source": [
    "          "
   ]
  },
  {
   "cell_type": "markdown",
   "metadata": {},
   "source": [
    "### Convert Raw Data to DataFrame\n",
    "* Export the city data into a .csv.\n",
    "* Display the DataFrame"
   ]
  },
  {
   "cell_type": "code",
   "execution_count": 7,
   "metadata": {},
   "outputs": [
    {
     "name": "stdout",
     "output_type": "stream",
     "text": [
      "city_weather_df = 620\n",
      "clean_city_weather_df size is 565\n"
     ]
    },
    {
     "data": {
      "text/html": [
       "<div>\n",
       "<style scoped>\n",
       "    .dataframe tbody tr th:only-of-type {\n",
       "        vertical-align: middle;\n",
       "    }\n",
       "\n",
       "    .dataframe tbody tr th {\n",
       "        vertical-align: top;\n",
       "    }\n",
       "\n",
       "    .dataframe thead th {\n",
       "        text-align: right;\n",
       "    }\n",
       "</style>\n",
       "<table border=\"1\" class=\"dataframe\">\n",
       "  <thead>\n",
       "    <tr style=\"text-align: right;\">\n",
       "      <th></th>\n",
       "      <th>City</th>\n",
       "      <th>Cloudiness</th>\n",
       "      <th>Country</th>\n",
       "      <th>Date</th>\n",
       "      <th>Humidity</th>\n",
       "      <th>Lat</th>\n",
       "      <th>Lng</th>\n",
       "      <th>Max Temp</th>\n",
       "      <th>Wind Speed</th>\n",
       "    </tr>\n",
       "  </thead>\n",
       "  <tbody>\n",
       "    <tr>\n",
       "      <th>0</th>\n",
       "      <td>olafsvik</td>\n",
       "      <td>99</td>\n",
       "      <td>IS</td>\n",
       "      <td>1.616997e+09</td>\n",
       "      <td>67.0</td>\n",
       "      <td>64.8945</td>\n",
       "      <td>-23.7142</td>\n",
       "      <td>29.50</td>\n",
       "      <td>14.23</td>\n",
       "    </tr>\n",
       "    <tr>\n",
       "      <th>1</th>\n",
       "      <td>labytnangi</td>\n",
       "      <td>75</td>\n",
       "      <td>RU</td>\n",
       "      <td>1.616997e+09</td>\n",
       "      <td>92.0</td>\n",
       "      <td>66.6572</td>\n",
       "      <td>66.4183</td>\n",
       "      <td>3.72</td>\n",
       "      <td>8.14</td>\n",
       "    </tr>\n",
       "    <tr>\n",
       "      <th>2</th>\n",
       "      <td>punta arenas</td>\n",
       "      <td>0</td>\n",
       "      <td>CL</td>\n",
       "      <td>1.616997e+09</td>\n",
       "      <td>75.0</td>\n",
       "      <td>-53.1500</td>\n",
       "      <td>-70.9167</td>\n",
       "      <td>42.80</td>\n",
       "      <td>3.44</td>\n",
       "    </tr>\n",
       "    <tr>\n",
       "      <th>3</th>\n",
       "      <td>los llanos de aridane</td>\n",
       "      <td>75</td>\n",
       "      <td>ES</td>\n",
       "      <td>1.616997e+09</td>\n",
       "      <td>72.0</td>\n",
       "      <td>28.6585</td>\n",
       "      <td>-17.9182</td>\n",
       "      <td>64.40</td>\n",
       "      <td>12.66</td>\n",
       "    </tr>\n",
       "    <tr>\n",
       "      <th>4</th>\n",
       "      <td>rikitea</td>\n",
       "      <td>3</td>\n",
       "      <td>PF</td>\n",
       "      <td>1.616997e+09</td>\n",
       "      <td>72.0</td>\n",
       "      <td>-23.1203</td>\n",
       "      <td>-134.9692</td>\n",
       "      <td>79.20</td>\n",
       "      <td>14.56</td>\n",
       "    </tr>\n",
       "  </tbody>\n",
       "</table>\n",
       "</div>"
      ],
      "text/plain": [
       "                    City  Cloudiness Country          Date  Humidity      Lat  \\\n",
       "0               olafsvik          99      IS  1.616997e+09      67.0  64.8945   \n",
       "1             labytnangi          75      RU  1.616997e+09      92.0  66.6572   \n",
       "2           punta arenas           0      CL  1.616997e+09      75.0 -53.1500   \n",
       "3  los llanos de aridane          75      ES  1.616997e+09      72.0  28.6585   \n",
       "4                rikitea           3      PF  1.616997e+09      72.0 -23.1203   \n",
       "\n",
       "        Lng  Max Temp  Wind Speed  \n",
       "0  -23.7142     29.50       14.23  \n",
       "1   66.4183      3.72        8.14  \n",
       "2  -70.9167     42.80        3.44  \n",
       "3  -17.9182     64.40       12.66  \n",
       "4 -134.9692     79.20       14.56  "
      ]
     },
     "execution_count": 7,
     "metadata": {},
     "output_type": "execute_result"
    }
   ],
   "source": [
    "## Creata a dataframe with all the data retrieved\n",
    "##city_weather_df = pd.DataFrame(\"City\": cities, \n",
    "city_weather_df = pd.DataFrame({\"City\": cities, \n",
    "                               \"Lat\": lat_ar, \n",
    "                               \"Lng\": lng_ar,\n",
    "                               \"Max Temp\": max_temperature_ar, \n",
    "                               \"Humidity\": humidity_ar,\n",
    "                               \"Cloudiness\": cloudiness_ar,\n",
    "                               \"Wind Speed\": wind_speed_ar,\n",
    "                               \"Country\": country_ar,\n",
    "                               \"Date\": date_ar\n",
    "                               })\n",
    "\n",
    "## before drop_na, \n",
    "old_len = len(city_weather_df[\"City\"])\n",
    "print(f\"city_weather_df = {str(old_len)}\")\n",
    "# print(f\"city_weather_df size is {len(city_weather_df[\"City\"])}\")\n",
    "\n",
    "## Clean up df by dropping rows with NaN\n",
    "clean_city_weather_df = city_weather_df.dropna(how='any')\n",
    "\n",
    "new_len = len(clean_city_weather_df[\"City\"])\n",
    "print(f\"clean_city_weather_df size is {str(new_len)}\")\n",
    "\n",
    "## export the city data into a csv file\n",
    "clean_city_weather_df.to_csv('../output_data/cities.csv',encoding = 'utf-8',index = False)\n",
    "\n",
    "## display the DataFrame\n",
    "city_weather_df.head()"
   ]
  },
  {
   "cell_type": "code",
   "execution_count": null,
   "metadata": {},
   "outputs": [],
   "source": []
  },
  {
   "cell_type": "code",
   "execution_count": 8,
   "metadata": {},
   "outputs": [
    {
     "data": {
      "text/html": [
       "<div>\n",
       "<style scoped>\n",
       "    .dataframe tbody tr th:only-of-type {\n",
       "        vertical-align: middle;\n",
       "    }\n",
       "\n",
       "    .dataframe tbody tr th {\n",
       "        vertical-align: top;\n",
       "    }\n",
       "\n",
       "    .dataframe thead th {\n",
       "        text-align: right;\n",
       "    }\n",
       "</style>\n",
       "<table border=\"1\" class=\"dataframe\">\n",
       "  <thead>\n",
       "    <tr style=\"text-align: right;\">\n",
       "      <th></th>\n",
       "      <th>Cloudiness</th>\n",
       "      <th>Date</th>\n",
       "      <th>Humidity</th>\n",
       "      <th>Lat</th>\n",
       "      <th>Lng</th>\n",
       "      <th>Max Temp</th>\n",
       "      <th>Wind Speed</th>\n",
       "    </tr>\n",
       "  </thead>\n",
       "  <tbody>\n",
       "    <tr>\n",
       "      <th>count</th>\n",
       "      <td>565.000000</td>\n",
       "      <td>5.650000e+02</td>\n",
       "      <td>565.000000</td>\n",
       "      <td>565.000000</td>\n",
       "      <td>565.000000</td>\n",
       "      <td>565.000000</td>\n",
       "      <td>565.000000</td>\n",
       "    </tr>\n",
       "    <tr>\n",
       "      <th>mean</th>\n",
       "      <td>54.205310</td>\n",
       "      <td>1.616997e+09</td>\n",
       "      <td>70.139823</td>\n",
       "      <td>22.086691</td>\n",
       "      <td>19.113912</td>\n",
       "      <td>57.143363</td>\n",
       "      <td>8.477150</td>\n",
       "    </tr>\n",
       "    <tr>\n",
       "      <th>std</th>\n",
       "      <td>38.895071</td>\n",
       "      <td>2.584712e+02</td>\n",
       "      <td>24.220323</td>\n",
       "      <td>32.386755</td>\n",
       "      <td>88.736610</td>\n",
       "      <td>24.932326</td>\n",
       "      <td>5.974642</td>\n",
       "    </tr>\n",
       "    <tr>\n",
       "      <th>min</th>\n",
       "      <td>0.000000</td>\n",
       "      <td>1.616996e+09</td>\n",
       "      <td>1.000000</td>\n",
       "      <td>-54.800000</td>\n",
       "      <td>-179.166700</td>\n",
       "      <td>-23.800000</td>\n",
       "      <td>0.020000</td>\n",
       "    </tr>\n",
       "    <tr>\n",
       "      <th>25%</th>\n",
       "      <td>11.000000</td>\n",
       "      <td>1.616997e+09</td>\n",
       "      <td>61.000000</td>\n",
       "      <td>-3.333300</td>\n",
       "      <td>-56.154900</td>\n",
       "      <td>39.900000</td>\n",
       "      <td>3.940000</td>\n",
       "    </tr>\n",
       "    <tr>\n",
       "      <th>50%</th>\n",
       "      <td>66.000000</td>\n",
       "      <td>1.616997e+09</td>\n",
       "      <td>76.000000</td>\n",
       "      <td>27.133300</td>\n",
       "      <td>20.647300</td>\n",
       "      <td>61.000000</td>\n",
       "      <td>6.930000</td>\n",
       "    </tr>\n",
       "    <tr>\n",
       "      <th>75%</th>\n",
       "      <td>90.000000</td>\n",
       "      <td>1.616997e+09</td>\n",
       "      <td>88.000000</td>\n",
       "      <td>49.600000</td>\n",
       "      <td>94.733300</td>\n",
       "      <td>76.530000</td>\n",
       "      <td>11.500000</td>\n",
       "    </tr>\n",
       "    <tr>\n",
       "      <th>max</th>\n",
       "      <td>100.000000</td>\n",
       "      <td>1.616998e+09</td>\n",
       "      <td>100.000000</td>\n",
       "      <td>78.218600</td>\n",
       "      <td>179.316700</td>\n",
       "      <td>102.200000</td>\n",
       "      <td>32.970000</td>\n",
       "    </tr>\n",
       "  </tbody>\n",
       "</table>\n",
       "</div>"
      ],
      "text/plain": [
       "       Cloudiness          Date    Humidity         Lat         Lng  \\\n",
       "count  565.000000  5.650000e+02  565.000000  565.000000  565.000000   \n",
       "mean    54.205310  1.616997e+09   70.139823   22.086691   19.113912   \n",
       "std     38.895071  2.584712e+02   24.220323   32.386755   88.736610   \n",
       "min      0.000000  1.616996e+09    1.000000  -54.800000 -179.166700   \n",
       "25%     11.000000  1.616997e+09   61.000000   -3.333300  -56.154900   \n",
       "50%     66.000000  1.616997e+09   76.000000   27.133300   20.647300   \n",
       "75%     90.000000  1.616997e+09   88.000000   49.600000   94.733300   \n",
       "max    100.000000  1.616998e+09  100.000000   78.218600  179.316700   \n",
       "\n",
       "         Max Temp  Wind Speed  \n",
       "count  565.000000  565.000000  \n",
       "mean    57.143363    8.477150  \n",
       "std     24.932326    5.974642  \n",
       "min    -23.800000    0.020000  \n",
       "25%     39.900000    3.940000  \n",
       "50%     61.000000    6.930000  \n",
       "75%     76.530000   11.500000  \n",
       "max    102.200000   32.970000  "
      ]
     },
     "execution_count": 8,
     "metadata": {},
     "output_type": "execute_result"
    }
   ],
   "source": [
    "clean_city_weather_df.describe()"
   ]
  },
  {
   "cell_type": "code",
   "execution_count": null,
   "metadata": {},
   "outputs": [],
   "source": []
  },
  {
   "cell_type": "code",
   "execution_count": null,
   "metadata": {},
   "outputs": [],
   "source": []
  },
  {
   "cell_type": "markdown",
   "metadata": {},
   "source": [
    "## Inspect the data and remove the cities where the humidity > 100%.\n",
    "----\n",
    "Skip this step if there are no cities that have humidity > 100%. "
   ]
  },
  {
   "cell_type": "code",
   "execution_count": null,
   "metadata": {},
   "outputs": [],
   "source": []
  },
  {
   "cell_type": "code",
   "execution_count": 9,
   "metadata": {},
   "outputs": [
    {
     "name": "stdout",
     "output_type": "stream",
     "text": [
      "Number of cities with humidity > 100: 0\n"
     ]
    },
    {
     "data": {
      "text/plain": [
       "Int64Index([], dtype='int64')"
      ]
     },
     "execution_count": 9,
     "metadata": {},
     "output_type": "execute_result"
    }
   ],
   "source": [
    "#  Get the indices of cities that have humidity over 100%.\n",
    "\n",
    "## get the index list from the df\n",
    "idx = clean_city_weather_df.index\n",
    "\n",
    "## Get the indices that satisfy the humidity condition\n",
    "humidity_exceed_max_indices = idx[clean_city_weather_df[\"Humidity\"] > 100]\n",
    "\n",
    "print(f\"Number of cities with humidity > 100: {str(len(humidity_exceed_max_indices.tolist()))}\")\n",
    "\n",
    "## print the indices\n",
    "humidity_exceed_max_indices\n"
   ]
  },
  {
   "cell_type": "code",
   "execution_count": null,
   "metadata": {},
   "outputs": [],
   "source": []
  },
  {
   "cell_type": "code",
   "execution_count": 10,
   "metadata": {},
   "outputs": [
    {
     "data": {
      "text/html": [
       "<div>\n",
       "<style scoped>\n",
       "    .dataframe tbody tr th:only-of-type {\n",
       "        vertical-align: middle;\n",
       "    }\n",
       "\n",
       "    .dataframe tbody tr th {\n",
       "        vertical-align: top;\n",
       "    }\n",
       "\n",
       "    .dataframe thead th {\n",
       "        text-align: right;\n",
       "    }\n",
       "</style>\n",
       "<table border=\"1\" class=\"dataframe\">\n",
       "  <thead>\n",
       "    <tr style=\"text-align: right;\">\n",
       "      <th></th>\n",
       "      <th>City</th>\n",
       "      <th>Cloudiness</th>\n",
       "      <th>Country</th>\n",
       "      <th>Date</th>\n",
       "      <th>Humidity</th>\n",
       "      <th>Lat</th>\n",
       "      <th>Lng</th>\n",
       "      <th>Max Temp</th>\n",
       "      <th>Wind Speed</th>\n",
       "    </tr>\n",
       "  </thead>\n",
       "  <tbody>\n",
       "    <tr>\n",
       "      <th>0</th>\n",
       "      <td>olafsvik</td>\n",
       "      <td>99</td>\n",
       "      <td>IS</td>\n",
       "      <td>1.616997e+09</td>\n",
       "      <td>67.0</td>\n",
       "      <td>64.8945</td>\n",
       "      <td>-23.7142</td>\n",
       "      <td>29.50</td>\n",
       "      <td>14.23</td>\n",
       "    </tr>\n",
       "    <tr>\n",
       "      <th>1</th>\n",
       "      <td>labytnangi</td>\n",
       "      <td>75</td>\n",
       "      <td>RU</td>\n",
       "      <td>1.616997e+09</td>\n",
       "      <td>92.0</td>\n",
       "      <td>66.6572</td>\n",
       "      <td>66.4183</td>\n",
       "      <td>3.72</td>\n",
       "      <td>8.14</td>\n",
       "    </tr>\n",
       "    <tr>\n",
       "      <th>2</th>\n",
       "      <td>punta arenas</td>\n",
       "      <td>0</td>\n",
       "      <td>CL</td>\n",
       "      <td>1.616997e+09</td>\n",
       "      <td>75.0</td>\n",
       "      <td>-53.1500</td>\n",
       "      <td>-70.9167</td>\n",
       "      <td>42.80</td>\n",
       "      <td>3.44</td>\n",
       "    </tr>\n",
       "    <tr>\n",
       "      <th>3</th>\n",
       "      <td>los llanos de aridane</td>\n",
       "      <td>75</td>\n",
       "      <td>ES</td>\n",
       "      <td>1.616997e+09</td>\n",
       "      <td>72.0</td>\n",
       "      <td>28.6585</td>\n",
       "      <td>-17.9182</td>\n",
       "      <td>64.40</td>\n",
       "      <td>12.66</td>\n",
       "    </tr>\n",
       "    <tr>\n",
       "      <th>4</th>\n",
       "      <td>rikitea</td>\n",
       "      <td>3</td>\n",
       "      <td>PF</td>\n",
       "      <td>1.616997e+09</td>\n",
       "      <td>72.0</td>\n",
       "      <td>-23.1203</td>\n",
       "      <td>-134.9692</td>\n",
       "      <td>79.20</td>\n",
       "      <td>14.56</td>\n",
       "    </tr>\n",
       "  </tbody>\n",
       "</table>\n",
       "</div>"
      ],
      "text/plain": [
       "                    City  Cloudiness Country          Date  Humidity      Lat  \\\n",
       "0               olafsvik          99      IS  1.616997e+09      67.0  64.8945   \n",
       "1             labytnangi          75      RU  1.616997e+09      92.0  66.6572   \n",
       "2           punta arenas           0      CL  1.616997e+09      75.0 -53.1500   \n",
       "3  los llanos de aridane          75      ES  1.616997e+09      72.0  28.6585   \n",
       "4                rikitea           3      PF  1.616997e+09      72.0 -23.1203   \n",
       "\n",
       "        Lng  Max Temp  Wind Speed  \n",
       "0  -23.7142     29.50       14.23  \n",
       "1   66.4183      3.72        8.14  \n",
       "2  -70.9167     42.80        3.44  \n",
       "3  -17.9182     64.40       12.66  \n",
       "4 -134.9692     79.20       14.56  "
      ]
     },
     "execution_count": 10,
     "metadata": {},
     "output_type": "execute_result"
    }
   ],
   "source": [
    "# Make a new DataFrame equal to the city data to drop all humidity outliers by index.\n",
    "# Passing \"inplace=False\" will make a copy of the city_data DataFrame, which we call \"clean_city_data\".\n",
    "\n",
    "## Skip this step because no city in clean_city_weather_df has humidity > 100. \n",
    "\n",
    "## print the clean_city_weather_df\n",
    "clean_city_weather_df.head()"
   ]
  },
  {
   "cell_type": "code",
   "execution_count": null,
   "metadata": {},
   "outputs": [],
   "source": []
  },
  {
   "cell_type": "markdown",
   "metadata": {},
   "source": [
    "## Plotting the Data\n",
    "* Use proper labeling of the plots using plot titles (including date of analysis) and axes labels.\n",
    "* Save the plotted figures as .pngs."
   ]
  },
  {
   "cell_type": "markdown",
   "metadata": {},
   "source": [
    "## Latitude vs. Temperature Plot"
   ]
  },
  {
   "cell_type": "code",
   "execution_count": 12,
   "metadata": {
    "scrolled": true
   },
   "outputs": [
    {
     "data": {
      "image/png": "[encoded data removed]",
      "text/plain": [
       "<matplotlib.figure.Figure at 0x111cf6908>"
      ]
     },
     "metadata": {},
     "output_type": "display_data"
    }
   ],
   "source": [
    "plt.figure(figsize=(7,5))\n",
    "\n",
    "## Plot the lat vs the Max Temp\n",
    "plt.scatter(x = clean_city_weather_df['Lat'], y = clean_city_weather_df['Max Temp'], linewidths = 0.75, color = 'blue', edgecolor = 'black', s = 35)\n",
    "plt.grid()\n",
    "\n",
    "## Label the plot\n",
    "plt.xlabel('Latitude')\n",
    "plt.ylabel('Max Temperature (F)')\n",
    "plt.title(\"City Latitute vs. Max Temperature (03/28/21)\")\n",
    "\n",
    "## Save the plot\n",
    "plt.savefig(\"../output_data/CityLat_vs_MaxTemp.png\")\n",
    "\n",
    "## Show plot\n",
    "plt.tight_layout()\n",
    "plt.show()"
   ]
  },
  {
   "cell_type": "markdown",
   "metadata": {},
   "source": [
    "## Latitude vs. Humidity Plot"
   ]
  },
  {
   "cell_type": "code",
   "execution_count": null,
   "metadata": {},
   "outputs": [],
   "source": []
  },
  {
   "cell_type": "markdown",
   "metadata": {},
   "source": [
    "## Latitude vs. Cloudiness Plot"
   ]
  },
  {
   "cell_type": "code",
   "execution_count": null,
   "metadata": {},
   "outputs": [],
   "source": []
  },
  {
   "cell_type": "markdown",
   "metadata": {},
   "source": [
    "## Latitude vs. Wind Speed Plot"
   ]
  },
  {
   "cell_type": "code",
   "execution_count": null,
   "metadata": {},
   "outputs": [],
   "source": []
  },
  {
   "cell_type": "markdown",
   "metadata": {},
   "source": [
    "## Linear Regression"
   ]
  },
  {
   "cell_type": "code",
   "execution_count": 24,
   "metadata": {},
   "outputs": [],
   "source": []
  },
  {
   "cell_type": "markdown",
   "metadata": {},
   "source": [
    "####  Northern Hemisphere - Max Temp vs. Latitude Linear Regression"
   ]
  },
  {
   "cell_type": "code",
   "execution_count": 25,
   "metadata": {},
   "outputs": [
    {
     "name": "stdout",
     "output_type": "stream",
     "text": [
      "The r-value is: 0.46937863826630627\n"
     ]
    },
    {
     "data": {
      "image/png": "[encoded data removed]",
      "text/plain": [
       "<Figure size 432x288 with 1 Axes>"
      ]
     },
     "metadata": {
      "needs_background": "light"
     },
     "output_type": "display_data"
    }
   ],
   "source": []
  },
  {
   "cell_type": "markdown",
   "metadata": {},
   "source": [
    "####  Southern Hemisphere - Max Temp vs. Latitude Linear Regression"
   ]
  },
  {
   "cell_type": "code",
   "execution_count": 26,
   "metadata": {},
   "outputs": [
    {
     "name": "stdout",
     "output_type": "stream",
     "text": [
      "The r-value is: 0.6082708688906918\n"
     ]
    },
    {
     "data": {
      "image/png": "[encoded data removed]",
      "text/plain": [
       "<Figure size 432x288 with 1 Axes>"
      ]
     },
     "metadata": {
      "needs_background": "light"
     },
     "output_type": "display_data"
    }
   ],
   "source": []
  },
  {
   "cell_type": "markdown",
   "metadata": {},
   "source": [
    "####  Northern Hemisphere - Humidity (%) vs. Latitude Linear Regression"
   ]
  },
  {
   "cell_type": "code",
   "execution_count": 27,
   "metadata": {},
   "outputs": [
    {
     "name": "stdout",
     "output_type": "stream",
     "text": [
      "The r-value is: 0.000543987878808455\n"
     ]
    },
    {
     "data": {
      "image/png": "[encoded data removed]",
      "text/plain": [
       "<Figure size 432x288 with 1 Axes>"
      ]
     },
     "metadata": {
      "needs_background": "light"
     },
     "output_type": "display_data"
    }
   ],
   "source": []
  },
  {
   "cell_type": "markdown",
   "metadata": {},
   "source": [
    "####  Southern Hemisphere - Humidity (%) vs. Latitude Linear Regression"
   ]
  },
  {
   "cell_type": "code",
   "execution_count": 28,
   "metadata": {},
   "outputs": [
    {
     "name": "stdout",
     "output_type": "stream",
     "text": [
      "The r-value is: 0.014985174297345524\n"
     ]
    },
    {
     "data": {
      "image/png": "[encoded data removed]",
      "text/plain": [
       "<Figure size 432x288 with 1 Axes>"
      ]
     },
     "metadata": {
      "needs_background": "light"
     },
     "output_type": "display_data"
    }
   ],
   "source": []
  },
  {
   "cell_type": "markdown",
   "metadata": {},
   "source": [
    "####  Northern Hemisphere - Cloudiness (%) vs. Latitude Linear Regression"
   ]
  },
  {
   "cell_type": "code",
   "execution_count": 29,
   "metadata": {},
   "outputs": [
    {
     "name": "stdout",
     "output_type": "stream",
     "text": [
      "The r-value is: 0.0020898727664228514\n"
     ]
    },
    {
     "data": {
      "image/png": "[encoded data removed]",
      "text/plain": [
       "<Figure size 432x288 with 1 Axes>"
      ]
     },
     "metadata": {
      "needs_background": "light"
     },
     "output_type": "display_data"
    }
   ],
   "source": []
  },
  {
   "cell_type": "markdown",
   "metadata": {},
   "source": [
    "####  Southern Hemisphere - Cloudiness (%) vs. Latitude Linear Regression"
   ]
  },
  {
   "cell_type": "code",
   "execution_count": 30,
   "metadata": {},
   "outputs": [
    {
     "name": "stdout",
     "output_type": "stream",
     "text": [
      "The r-value is: 0.0035263772085582894\n"
     ]
    },
    {
     "data": {
      "image/png": "[encoded data removed]",
      "text/plain": [
       "<Figure size 432x288 with 1 Axes>"
      ]
     },
     "metadata": {
      "needs_background": "light"
     },
     "output_type": "display_data"
    }
   ],
   "source": []
  },
  {
   "cell_type": "markdown",
   "metadata": {},
   "source": [
    "####  Northern Hemisphere - Wind Speed (mph) vs. Latitude Linear Regression"
   ]
  },
  {
   "cell_type": "code",
   "execution_count": 31,
   "metadata": {},
   "outputs": [
    {
     "name": "stdout",
     "output_type": "stream",
     "text": [
      "The r-value is: 0.04019723576144484\n"
     ]
    },
    {
     "data": {
      "image/png": "[encoded data removed]",
      "text/plain": [
       "<Figure size 432x288 with 1 Axes>"
      ]
     },
     "metadata": {
      "needs_background": "light"
     },
     "output_type": "display_data"
    }
   ],
   "source": []
  },
  {
   "cell_type": "markdown",
   "metadata": {},
   "source": [
    "####  Southern Hemisphere - Wind Speed (mph) vs. Latitude Linear Regression"
   ]
  },
  {
   "cell_type": "code",
   "execution_count": 32,
   "metadata": {},
   "outputs": [
    {
     "name": "stdout",
     "output_type": "stream",
     "text": [
      "The r-value is: 0.017128274759839232\n"
     ]
    },
    {
     "data": {
      "image/png": "[encoded data removed]",
      "text/plain": [
       "<Figure size 432x288 with 1 Axes>"
      ]
     },
     "metadata": {
      "needs_background": "light"
     },
     "output_type": "display_data"
    }
   ],
   "source": []
  },
  {
   "cell_type": "code",
   "execution_count": null,
   "metadata": {},
   "outputs": [],
   "source": []
  }
 ],
 "metadata": {
  "anaconda-cloud": {},
  "kernel_info": {
   "name": "python3"
  },
  "kernelspec": {
   "display_name": "Python 3",
   "language": "python",
   "name": "python3"
  },
  "language_info": {
   "codemirror_mode": {
    "name": "ipython",
    "version": 3
   },
   "file_extension": ".py",
   "mimetype": "text/x-python",
   "name": "python",
   "nbconvert_exporter": "python",
   "pygments_lexer": "ipython3",
   "version": "3.6.4"
  },
  "latex_envs": {
   "LaTeX_envs_menu_present": true,
   "autoclose": false,
   "autocomplete": true,
   "bibliofile": "biblio.bib",
   "cite_by": "apalike",
   "current_citInitial": 1,
   "eqLabelWithNumbers": true,
   "eqNumInitial": 1,
   "hotkeys": {
    "equation": "Ctrl-E",
    "itemize": "Ctrl-I"
   },
   "labels_anchors": false,
   "latex_user_defs": false,
   "report_style_numbering": false,
   "user_envs_cfg": false
  },
  "nteract": {
   "version": "0.12.3"
  }
 },
 "nbformat": 4,
 "nbformat_minor": 4
}
