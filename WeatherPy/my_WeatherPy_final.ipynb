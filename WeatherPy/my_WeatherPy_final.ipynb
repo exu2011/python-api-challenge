{
 "cells": [
  {
   "cell_type": "markdown",
   "metadata": {},
   "source": [
    "# WeatherPy\n",
    "----\n",
    "\n",
    "#### Note\n",
    "* Instructions have been included for each segment. You do not have to follow them exactly, but they are included to help you think through the steps."
   ]
  },
  {
   "cell_type": "code",
   "execution_count": 3,
   "metadata": {
    "scrolled": true
   },
   "outputs": [],
   "source": [
    "# Dependencies and Setup\n",
    "import matplotlib.pyplot as plt\n",
    "import pandas as pd\n",
    "import numpy as np\n",
    "import requests\n",
    "import time\n",
    "from scipy.stats import linregress\n",
    "import scipy.stats as st\n",
    "import pprint as pprint\n",
    "import json\n",
    "\n",
    "# Import API key\n",
    "from api_keys import weather_api_key\n",
    "\n",
    "# Incorporated citipy to determine city based on latitude and longitude\n",
    "## Install it from cmd prompt: (base) C:\\me\\Programming>pip install citipy\n",
    "from citipy import citipy\n",
    "\n",
    "# Output File (CSV)\n",
    "output_data_file = \"../output_data/cities.csv\"\n",
    "\n",
    "# Range of latitudes and longitudes\n",
    "lat_range = (-90, 90)\n",
    "lng_range = (-180, 180)"
   ]
  },
  {
   "cell_type": "code",
   "execution_count": null,
   "metadata": {},
   "outputs": [],
   "source": []
  },
  {
   "cell_type": "markdown",
   "metadata": {},
   "source": [
    "## Generate Cities List"
   ]
  },
  {
   "cell_type": "code",
   "execution_count": 4,
   "metadata": {},
   "outputs": [
    {
     "data": {
      "text/plain": [
       "641"
      ]
     },
     "execution_count": 4,
     "metadata": {},
     "output_type": "execute_result"
    }
   ],
   "source": [
    "# List for holding lat_lngs and cities\n",
    "lat_lngs = []\n",
    "cities = []\n",
    "\n",
    "# Create a set of random lat and lng combinations\n",
    "## random.uniform: Draw samples from a uniform distribution.\n",
    "## returns a zip object, which is an iterator of tuples where the first item in each passed iterator is paired together, and then the second item in each passed iterator are paired together etc.\n",
    "lats = np.random.uniform(lat_range[0], lat_range[1], size=1500)\n",
    "lngs = np.random.uniform(lng_range[0], lng_range[1], size=1500)\n",
    "\n",
    "## create (lat, lng) tuple lists\n",
    "lat_lngs = zip(lats, lngs)\n",
    "\n",
    "# Identify nearest city for each lat, lng combination\n",
    "for lat_lng in lat_lngs:\n",
    "    city = citipy.nearest_city(lat_lng[0], lat_lng[1]).city_name\n",
    "    \n",
    "    # If the city is unique, then add it to a our cities list\n",
    "    if city not in cities:\n",
    "        cities.append(city)\n",
    "\n",
    "# Print the city count to confirm sufficient count\n",
    "len(cities)"
   ]
  },
  {
   "cell_type": "code",
   "execution_count": 5,
   "metadata": {},
   "outputs": [],
   "source": [
    "## fetch the first 60 cities and use it as a test set for coding\n",
    "# test_cities = cities[0:70]"
   ]
  },
  {
   "cell_type": "markdown",
   "metadata": {},
   "source": [
    "### Perform API Calls\n",
    "* Perform a weather check on each city using a series of successive API calls.\n",
    "* Include a print log of each city as it'sbeing processed (with the city number and city name).\n"
   ]
  },
  {
   "cell_type": "markdown",
   "metadata": {},
   "source": [
    "Weather Check Using API Calls"
   ]
  },
  {
   "cell_type": "code",
   "execution_count": 6,
   "metadata": {},
   "outputs": [],
   "source": [
    "MAX_NUM_RECORD_PER_SET = 49\n",
    "\n",
    "# Save config information.\n",
    "url = \"http://api.openweathermap.org/data/2.5/weather?\"\n",
    "# api.openweathermap.org/data/2.5/weather?q={city name}&appid={API key}\n",
    "\n",
    "units = \"imperial\"\n",
    "\n",
    "# Build partial query URL\n",
    "query_url = f\"{url}appid={weather_api_key}&units={units}&q=\""
   ]
  },
  {
   "cell_type": "code",
   "execution_count": 7,
   "metadata": {},
   "outputs": [
    {
     "name": "stdout",
     "output_type": "stream",
     "text": [
      "Beginning Data Retrieval\n",
      "-------------------------------\n",
      "Processing Record 0 of Set 1 | baghdad\n",
      "Processing Record 1 of Set 1 | cabo san lucas\n",
      "Processing Record 2 of Set 1 | shangzhi\n",
      "City | belushya guba not found. Skipping...\n",
      "Processing Record 3 of Set 1 | gimbi\n",
      "Processing Record 4 of Set 1 | arraial do cabo\n",
      "Processing Record 5 of Set 1 | te anau\n",
      "Processing Record 6 of Set 1 | mehamn\n",
      "Processing Record 7 of Set 1 | narsaq\n",
      "Processing Record 8 of Set 1 | tautira\n",
      "Processing Record 9 of Set 1 | yellowknife\n",
      "Processing Record 10 of Set 1 | puerto ayora\n",
      "Processing Record 11 of Set 1 | constitucion\n",
      "Processing Record 12 of Set 1 | praia da vitoria\n",
      "Processing Record 13 of Set 1 | east london\n",
      "Processing Record 14 of Set 1 | port hedland\n",
      "Processing Record 15 of Set 1 | rikitea\n",
      "Processing Record 16 of Set 1 | cidreira\n",
      "Processing Record 17 of Set 1 | atuona\n",
      "Processing Record 18 of Set 1 | bluff\n",
      "Processing Record 19 of Set 1 | san quintin\n",
      "Processing Record 20 of Set 1 | hofn\n",
      "Processing Record 21 of Set 1 | khatanga\n",
      "Processing Record 22 of Set 1 | vila franca do campo\n",
      "Processing Record 23 of Set 1 | jiangyou\n",
      "Processing Record 24 of Set 1 | saldanha\n",
      "City | marcona not found. Skipping...\n",
      "Processing Record 25 of Set 1 | longyearbyen\n",
      "Processing Record 26 of Set 1 | victoria\n",
      "Processing Record 27 of Set 1 | batemans bay\n",
      "Processing Record 28 of Set 1 | san patricio\n",
      "Processing Record 29 of Set 1 | punta arenas\n",
      "Processing Record 30 of Set 1 | port lincoln\n",
      "Processing Record 31 of Set 1 | ganzhou\n",
      "City | mocambique not found. Skipping...\n",
      "Processing Record 32 of Set 1 | castro\n",
      "City | taolanaro not found. Skipping...\n",
      "Processing Record 33 of Set 1 | upernavik\n",
      "Processing Record 34 of Set 1 | torata\n",
      "Processing Record 35 of Set 1 | cherskiy\n",
      "Processing Record 36 of Set 1 | buchanan\n",
      "Processing Record 37 of Set 1 | namibe\n",
      "Processing Record 38 of Set 1 | thunder bay\n",
      "Processing Record 39 of Set 1 | manokwari\n",
      "Processing Record 40 of Set 1 | avarua\n",
      "Processing Record 41 of Set 1 | kununurra\n",
      "Processing Record 42 of Set 1 | chuy\n",
      "Processing Record 43 of Set 1 | havoysund\n",
      "Processing Record 44 of Set 1 | port elizabeth\n",
      "Processing Record 45 of Set 1 | kodiak\n",
      "Processing Record 46 of Set 1 | ulaanbaatar\n",
      "Processing Record 47 of Set 1 | ushuaia\n",
      "Processing Record 48 of Set 1 | hammerfest\n",
      "Processing Record 49 of Set 1 | esperance\n",
      "Processing Record 0 of Set 2 | lipin bor\n",
      "Processing Record 1 of Set 2 | klaksvik\n",
      "Processing Record 2 of Set 2 | qaanaaq\n",
      "Processing Record 3 of Set 2 | thompson\n",
      "Processing Record 4 of Set 2 | mgandu\n",
      "Processing Record 5 of Set 2 | amapa\n",
      "Processing Record 6 of Set 2 | pombas\n",
      "Processing Record 7 of Set 2 | vaini\n",
      "Processing Record 8 of Set 2 | mandalgovi\n",
      "Processing Record 9 of Set 2 | kapaa\n",
      "Processing Record 10 of Set 2 | nikolskoye\n",
      "Processing Record 11 of Set 2 | santa maria\n",
      "Processing Record 12 of Set 2 | tefe\n",
      "Processing Record 13 of Set 2 | inuvik\n",
      "Processing Record 14 of Set 2 | isugod\n",
      "Processing Record 15 of Set 2 | bani walid\n",
      "Processing Record 16 of Set 2 | yeppoon\n",
      "Processing Record 17 of Set 2 | mataura\n",
      "City | nizhneyansk not found. Skipping...\n",
      "Processing Record 18 of Set 2 | torbay\n",
      "Processing Record 19 of Set 2 | hobart\n",
      "City | illoqqortoormiut not found. Skipping...\n",
      "Processing Record 20 of Set 2 | busselton\n",
      "Processing Record 21 of Set 2 | sitka\n",
      "Processing Record 22 of Set 2 | butaritari\n",
      "Processing Record 23 of Set 2 | bambous virieux\n",
      "City | karaul not found. Skipping...\n",
      "Processing Record 24 of Set 2 | new norfolk\n",
      "Processing Record 25 of Set 2 | laguna\n",
      "City | vaitupu not found. Skipping...\n",
      "Processing Record 26 of Set 2 | mattru\n",
      "Processing Record 27 of Set 2 | manbij\n",
      "Processing Record 28 of Set 2 | leningradskiy\n",
      "Processing Record 29 of Set 2 | sao filipe\n",
      "Processing Record 30 of Set 2 | lchashen\n",
      "Processing Record 31 of Set 2 | faya\n",
      "Processing Record 32 of Set 2 | georgetown\n",
      "Processing Record 33 of Set 2 | port alfred\n",
      "City | laiagam not found. Skipping...\n",
      "Processing Record 34 of Set 2 | saskylakh\n",
      "Processing Record 35 of Set 2 | melilla\n",
      "Processing Record 36 of Set 2 | caravelas\n",
      "Processing Record 37 of Set 2 | alice springs\n",
      "Processing Record 38 of Set 2 | bengkulu\n",
      "Processing Record 39 of Set 2 | coquimbo\n",
      "Processing Record 40 of Set 2 | ambon\n",
      "Processing Record 41 of Set 2 | comodoro rivadavia\n",
      "Processing Record 42 of Set 2 | aykhal\n",
      "Processing Record 43 of Set 2 | itarema\n",
      "Processing Record 44 of Set 2 | tuktoyaktuk\n",
      "Processing Record 45 of Set 2 | caborca\n",
      "Processing Record 46 of Set 2 | kindu\n",
      "Processing Record 47 of Set 2 | mahebourg\n",
      "Processing Record 48 of Set 2 | lavrentiya\n",
      "Processing Record 49 of Set 2 | oktyabrskoye\n",
      "Processing Record 0 of Set 3 | juneau\n",
      "Processing Record 1 of Set 3 | airai\n",
      "Processing Record 2 of Set 3 | grindavik\n",
      "Processing Record 3 of Set 3 | basoko\n",
      "Processing Record 4 of Set 3 | bo phloi\n",
      "Processing Record 5 of Set 3 | tasiilaq\n",
      "Processing Record 6 of Set 3 | cape town\n",
      "Processing Record 7 of Set 3 | albany\n",
      "Processing Record 8 of Set 3 | monticello\n",
      "City | mrirt not found. Skipping...\n",
      "Processing Record 9 of Set 3 | abu samrah\n",
      "Processing Record 10 of Set 3 | port hardy\n",
      "Processing Record 11 of Set 3 | isangel\n",
      "City | zachagansk not found. Skipping...\n",
      "Processing Record 12 of Set 3 | hilo\n",
      "Processing Record 13 of Set 3 | matagami\n",
      "Processing Record 14 of Set 3 | tomatlan\n",
      "Processing Record 15 of Set 3 | egvekinot\n",
      "Processing Record 16 of Set 3 | maragogi\n",
      "City | chagda not found. Skipping...\n",
      "Processing Record 17 of Set 3 | san clemente\n",
      "Processing Record 18 of Set 3 | touros\n",
      "Processing Record 19 of Set 3 | kaitangata\n",
      "Processing Record 20 of Set 3 | palauig\n",
      "Processing Record 21 of Set 3 | kahului\n",
      "Processing Record 22 of Set 3 | panaba\n",
      "Processing Record 23 of Set 3 | bethel\n",
      "Processing Record 24 of Set 3 | biloela\n",
      "Processing Record 25 of Set 3 | moree\n",
      "Processing Record 26 of Set 3 | hithadhoo\n",
      "Processing Record 27 of Set 3 | vanavara\n",
      "Processing Record 28 of Set 3 | christchurch\n",
      "Processing Record 29 of Set 3 | port blair\n",
      "Processing Record 30 of Set 3 | biak\n",
      "Processing Record 31 of Set 3 | holme\n",
      "Processing Record 32 of Set 3 | luderitz\n",
      "Processing Record 33 of Set 3 | alakurtti\n",
      "Processing Record 34 of Set 3 | yerbogachen\n",
      "Processing Record 35 of Set 3 | nyurba\n",
      "Processing Record 36 of Set 3 | man\n",
      "Processing Record 37 of Set 3 | jalu\n",
      "Processing Record 38 of Set 3 | raga\n",
      "Processing Record 39 of Set 3 | san jose\n",
      "Processing Record 40 of Set 3 | bara\n",
      "Processing Record 41 of Set 3 | dunhua\n",
      "Processing Record 42 of Set 3 | gonbad-e qabus\n",
      "Processing Record 43 of Set 3 | hermanus\n",
      "Processing Record 44 of Set 3 | ponta do sol\n",
      "Processing Record 45 of Set 3 | kabompo\n",
      "Processing Record 46 of Set 3 | seymchan\n",
      "Processing Record 47 of Set 3 | bredasdorp\n",
      "Processing Record 48 of Set 3 | barrow\n",
      "Processing Record 49 of Set 3 | martapura\n",
      "Processing Record 0 of Set 4 | san pedro\n",
      "Processing Record 1 of Set 4 | kriva palanka\n",
      "Processing Record 2 of Set 4 | north bend\n",
      "City | samusu not found. Skipping...\n",
      "Processing Record 3 of Set 4 | mar del plata\n",
      "Processing Record 4 of Set 4 | colinas\n",
      "Processing Record 5 of Set 4 | alyangula\n",
      "Processing Record 6 of Set 4 | senno\n",
      "Processing Record 7 of Set 4 | yulara\n",
      "Processing Record 8 of Set 4 | shevchenkove\n",
      "Processing Record 9 of Set 4 | kabare\n",
      "Processing Record 10 of Set 4 | nicoya\n",
      "Processing Record 11 of Set 4 | saint-philippe\n",
      "Processing Record 12 of Set 4 | bilma\n",
      "Processing Record 13 of Set 4 | half moon bay\n",
      "Processing Record 14 of Set 4 | yar-sale\n",
      "Processing Record 15 of Set 4 | souillac\n",
      "Processing Record 16 of Set 4 | krasnomayskiy\n",
      "Processing Record 17 of Set 4 | bathsheba\n",
      "Processing Record 18 of Set 4 | roseburg\n",
      "Processing Record 19 of Set 4 | beloha\n",
      "Processing Record 20 of Set 4 | panguipulli\n",
      "Processing Record 21 of Set 4 | clyde river\n",
      "City | amderma not found. Skipping...\n",
      "Processing Record 22 of Set 4 | santo angelo\n",
      "Processing Record 23 of Set 4 | gazli\n",
      "Processing Record 24 of Set 4 | preobrazheniye\n",
      "Processing Record 25 of Set 4 | agadez\n",
      "Processing Record 26 of Set 4 | waitati\n",
      "Processing Record 27 of Set 4 | dayong\n",
      "Processing Record 28 of Set 4 | unguia\n",
      "Processing Record 29 of Set 4 | berlevag\n",
      "Processing Record 30 of Set 4 | kontagora\n",
      "Processing Record 31 of Set 4 | bambanglipuro\n",
      "Processing Record 32 of Set 4 | guerrero negro\n",
      "Processing Record 33 of Set 4 | puerto narino\n",
      "Processing Record 34 of Set 4 | sangar\n",
      "Processing Record 35 of Set 4 | bundaberg\n",
      "Processing Record 36 of Set 4 | maunabo\n",
      "Processing Record 37 of Set 4 | dogondoutchi\n",
      "City | tumannyy not found. Skipping...\n",
      "Processing Record 38 of Set 4 | tvoroyri\n",
      "Processing Record 39 of Set 4 | acapulco\n",
      "Processing Record 40 of Set 4 | mityana\n",
      "Processing Record 41 of Set 4 | kuna\n",
      "Processing Record 42 of Set 4 | sinnamary\n",
      "Processing Record 43 of Set 4 | tete\n",
      "City | buariki not found. Skipping...\n",
      "Processing Record 44 of Set 4 | lebu\n",
      "Processing Record 45 of Set 4 | sicuani\n",
      "Processing Record 46 of Set 4 | meiganga\n",
      "Processing Record 47 of Set 4 | talnakh\n",
      "Processing Record 48 of Set 4 | shimoda\n",
      "Processing Record 49 of Set 4 | novyy svit\n",
      "City | tsihombe not found. Skipping...\n",
      "Processing Record 0 of Set 5 | bela\n",
      "Processing Record 1 of Set 5 | bonthe\n",
      "City | tayibe not found. Skipping...\n",
      "Processing Record 2 of Set 5 | samarai\n",
      "Processing Record 3 of Set 5 | sholapur\n",
      "Processing Record 4 of Set 5 | katsuura\n",
      "Processing Record 5 of Set 5 | grand baie\n",
      "Processing Record 6 of Set 5 | novikovo\n",
      "Processing Record 7 of Set 5 | belmonte\n",
      "Processing Record 8 of Set 5 | lompoc\n",
      "Processing Record 9 of Set 5 | ust-nera\n",
      "Processing Record 10 of Set 5 | klyuchi\n",
      "Processing Record 11 of Set 5 | nome\n",
      "City | palabuhanratu not found. Skipping...\n",
      "Processing Record 12 of Set 5 | fairbanks\n",
      "Processing Record 13 of Set 5 | sao joao da barra\n",
      "Processing Record 14 of Set 5 | faanui\n",
      "Processing Record 15 of Set 5 | boyolangu\n",
      "Processing Record 16 of Set 5 | kudahuvadhoo\n",
      "Processing Record 17 of Set 5 | shushtar\n",
      "Processing Record 18 of Set 5 | dubbo\n",
      "Processing Record 19 of Set 5 | rudbar\n",
      "Processing Record 20 of Set 5 | nhamunda\n",
      "Processing Record 21 of Set 5 | ponta delgada\n",
      "Processing Record 22 of Set 5 | blairmore\n",
      "Processing Record 23 of Set 5 | shanghai\n",
      "Processing Record 24 of Set 5 | rio grande\n",
      "Processing Record 25 of Set 5 | carnarvon\n",
      "Processing Record 26 of Set 5 | jamestown\n",
      "Processing Record 27 of Set 5 | sisimiut\n",
      "Processing Record 28 of Set 5 | alofi\n",
      "Processing Record 29 of Set 5 | kodinsk\n",
      "Processing Record 30 of Set 5 | saint-augustin\n",
      "Processing Record 31 of Set 5 | nikita\n",
      "City | temaraia not found. Skipping...\n",
      "Processing Record 32 of Set 5 | atambua\n",
      "Processing Record 33 of Set 5 | rawson\n",
      "Processing Record 34 of Set 5 | naze\n",
      "Processing Record 35 of Set 5 | morant bay\n",
      "Processing Record 36 of Set 5 | hervey bay\n",
      "Processing Record 37 of Set 5 | pirenopolis\n",
      "Processing Record 38 of Set 5 | iqaluit\n",
      "Processing Record 39 of Set 5 | rio gallegos\n",
      "Processing Record 40 of Set 5 | campiglia marittima\n",
      "Processing Record 41 of Set 5 | imbituba\n",
      "Processing Record 42 of Set 5 | ilulissat\n",
      "Processing Record 43 of Set 5 | palmer\n",
      "Processing Record 44 of Set 5 | geraldton\n",
      "Processing Record 45 of Set 5 | druzhba\n",
      "Processing Record 46 of Set 5 | ahipara\n",
      "Processing Record 47 of Set 5 | puerto baquerizo moreno\n",
      "Processing Record 48 of Set 5 | berdigestyakh\n",
      "Processing Record 49 of Set 5 | ekhabi\n",
      "Processing Record 0 of Set 6 | katangli\n",
      "Processing Record 1 of Set 6 | cockburn town\n",
      "Processing Record 2 of Set 6 | kiama\n",
      "Processing Record 3 of Set 6 | namatanai\n",
      "Processing Record 4 of Set 6 | saint george\n",
      "Processing Record 5 of Set 6 | banes\n",
      "Processing Record 6 of Set 6 | daru\n",
      "Processing Record 7 of Set 6 | mamallapuram\n",
      "Processing Record 8 of Set 6 | solnechnyy\n",
      "Processing Record 9 of Set 6 | kathmandu\n",
      "Processing Record 10 of Set 6 | ixtapa\n",
      "Processing Record 11 of Set 6 | nanortalik\n",
      "Processing Record 12 of Set 6 | roros\n",
      "Processing Record 13 of Set 6 | bardiyah\n",
      "Processing Record 14 of Set 6 | poli\n",
      "Processing Record 15 of Set 6 | yershov\n",
      "Processing Record 16 of Set 6 | redlands\n",
      "Processing Record 17 of Set 6 | dikson\n",
      "Processing Record 18 of Set 6 | isiro\n",
      "Processing Record 19 of Set 6 | harper\n",
      "Processing Record 20 of Set 6 | udachnyy\n",
      "City | barentsburg not found. Skipping...\n",
      "Processing Record 21 of Set 6 | nelson bay\n",
      "Processing Record 22 of Set 6 | ouesso\n",
      "Processing Record 23 of Set 6 | guaruja\n",
      "Processing Record 24 of Set 6 | kohlu\n",
      "Processing Record 25 of Set 6 | takapau\n",
      "Processing Record 26 of Set 6 | andenes\n",
      "Processing Record 27 of Set 6 | ploemeur\n",
      "Processing Record 28 of Set 6 | ucluelet\n",
      "Processing Record 29 of Set 6 | kruisfontein\n",
      "Processing Record 30 of Set 6 | doctor cecilio baez\n",
      "Processing Record 31 of Set 6 | goderich\n",
      "Processing Record 32 of Set 6 | norman wells\n",
      "Processing Record 33 of Set 6 | sambava\n",
      "Processing Record 34 of Set 6 | sao caetano de odivelas\n",
      "Processing Record 35 of Set 6 | terme\n",
      "Processing Record 36 of Set 6 | soe\n",
      "Processing Record 37 of Set 6 | iskateley\n",
      "Processing Record 38 of Set 6 | ancud\n",
      "Processing Record 39 of Set 6 | santa rosa\n",
      "Processing Record 40 of Set 6 | olafsvik\n",
      "Processing Record 41 of Set 6 | usinsk\n",
      "Processing Record 42 of Set 6 | jinka\n",
      "Processing Record 43 of Set 6 | hovd\n",
      "Processing Record 44 of Set 6 | los llanos de aridane\n",
      "Processing Record 45 of Set 6 | terrace\n",
      "Processing Record 46 of Set 6 | deputatskiy\n",
      "Processing Record 47 of Set 6 | tamandare\n",
      "Processing Record 48 of Set 6 | vila velha\n",
      "Processing Record 49 of Set 6 | tsabong\n",
      "Processing Record 0 of Set 7 | tadine\n",
      "Processing Record 1 of Set 7 | mount isa\n",
      "Processing Record 2 of Set 7 | chenzhou\n",
      "Processing Record 3 of Set 7 | dalkola\n",
      "City | kalomo not found. Skipping...\n",
      "Processing Record 4 of Set 7 | grojdibodu\n",
      "Processing Record 5 of Set 7 | bayeux\n",
      "Processing Record 6 of Set 7 | lovington\n",
      "Processing Record 7 of Set 7 | farafangana\n",
      "Processing Record 8 of Set 7 | kozhva\n",
      "Processing Record 9 of Set 7 | severo-kurilsk\n",
      "Processing Record 10 of Set 7 | rudnogorsk\n",
      "Processing Record 11 of Set 7 | houston\n",
      "Processing Record 12 of Set 7 | kavieng\n",
      "Processing Record 13 of Set 7 | fortuna\n",
      "Processing Record 14 of Set 7 | sur\n",
      "Processing Record 15 of Set 7 | havre-saint-pierre\n",
      "Processing Record 16 of Set 7 | pevek\n",
      "Processing Record 17 of Set 7 | husavik\n",
      "City | ruatoria not found. Skipping...\n",
      "Processing Record 18 of Set 7 | kuchinarai\n",
      "Processing Record 19 of Set 7 | pandhurna\n",
      "Processing Record 20 of Set 7 | talcher\n",
      "Processing Record 21 of Set 7 | conceicao do araguaia\n",
      "Processing Record 22 of Set 7 | verkhnevilyuysk\n",
      "Processing Record 23 of Set 7 | dunedin\n",
      "Processing Record 24 of Set 7 | grants\n",
      "Processing Record 25 of Set 7 | eureka\n",
      "Processing Record 26 of Set 7 | mongo\n",
      "City | saleaula not found. Skipping...\n",
      "Processing Record 27 of Set 7 | tarauaca\n",
      "Processing Record 28 of Set 7 | kandiari\n",
      "Processing Record 29 of Set 7 | tura\n",
      "Processing Record 30 of Set 7 | adre\n",
      "City | attawapiskat not found. Skipping...\n",
      "Processing Record 31 of Set 7 | belaya gora\n",
      "Processing Record 32 of Set 7 | banamba\n",
      "Processing Record 33 of Set 7 | luneville\n",
      "Processing Record 34 of Set 7 | san juan del sur\n",
      "Processing Record 35 of Set 7 | znamenskoye\n",
      "Processing Record 36 of Set 7 | juba\n",
      "Processing Record 37 of Set 7 | karwar\n",
      "Processing Record 38 of Set 7 | honningsvag\n",
      "City | mys shmidta not found. Skipping...\n",
      "Processing Record 39 of Set 7 | dali\n",
      "Processing Record 40 of Set 7 | chifeng\n",
      "Processing Record 41 of Set 7 | boddam\n",
      "Processing Record 42 of Set 7 | vestmannaeyjar\n",
      "Processing Record 43 of Set 7 | srednekolymsk\n",
      "City | barawe not found. Skipping...\n",
      "City | nguiu not found. Skipping...\n",
      "Processing Record 44 of Set 7 | langsa\n",
      "Processing Record 45 of Set 7 | salur\n",
      "Processing Record 46 of Set 7 | angoche\n",
      "Processing Record 47 of Set 7 | sanbu\n",
      "Processing Record 48 of Set 7 | itoman\n",
      "Processing Record 49 of Set 7 | gao\n",
      "Processing Record 0 of Set 8 | uyuni\n",
      "Processing Record 1 of Set 8 | urucui\n",
      "Processing Record 2 of Set 8 | oistins\n",
      "Processing Record 3 of Set 8 | yaan\n",
      "Processing Record 4 of Set 8 | tual\n",
      "Processing Record 5 of Set 8 | luanda\n",
      "Processing Record 6 of Set 8 | the valley\n",
      "Processing Record 7 of Set 8 | portland\n",
      "Processing Record 8 of Set 8 | tanout\n",
      "Processing Record 9 of Set 8 | jinxiang\n",
      "Processing Record 10 of Set 8 | lorengau\n",
      "Processing Record 11 of Set 8 | broome\n",
      "Processing Record 12 of Set 8 | jolalpan\n",
      "Processing Record 13 of Set 8 | tuatapere\n",
      "Processing Record 14 of Set 8 | vidalia\n",
      "Processing Record 15 of Set 8 | mpulungu\n",
      "Processing Record 16 of Set 8 | high level\n",
      "Processing Record 17 of Set 8 | ola\n",
      "Processing Record 18 of Set 8 | augusta\n",
      "Processing Record 19 of Set 8 | beringovskiy\n",
      "Processing Record 20 of Set 8 | coihaique\n",
      "Processing Record 21 of Set 8 | prince rupert\n",
      "Processing Record 22 of Set 8 | itabira\n",
      "Processing Record 23 of Set 8 | vanimo\n",
      "Processing Record 24 of Set 8 | umkomaas\n",
      "Processing Record 25 of Set 8 | toamasina\n",
      "Processing Record 26 of Set 8 | nizhniy kuranakh\n",
      "Processing Record 27 of Set 8 | ewa beach\n",
      "Processing Record 28 of Set 8 | waipawa\n",
      "Processing Record 29 of Set 8 | awbari\n",
      "Processing Record 30 of Set 8 | ribeira grande\n",
      "Processing Record 31 of Set 8 | takaka\n",
      "Processing Record 32 of Set 8 | bako\n",
      "Processing Record 33 of Set 8 | simao\n",
      "City | grand river south east not found. Skipping...\n",
      "Processing Record 34 of Set 8 | pakxe\n",
      "Processing Record 35 of Set 8 | provideniya\n",
      "Processing Record 36 of Set 8 | pisco\n",
      "Processing Record 37 of Set 8 | meadow lake\n",
      "Processing Record 38 of Set 8 | lardos\n",
      "Processing Record 39 of Set 8 | bereda\n",
      "Processing Record 40 of Set 8 | gamba\n",
      "Processing Record 41 of Set 8 | ugoofaaru\n",
      "City | sorvag not found. Skipping...\n",
      "Processing Record 42 of Set 8 | coihueco\n",
      "Processing Record 43 of Set 8 | astana\n",
      "Processing Record 44 of Set 8 | mangai\n",
      "Processing Record 45 of Set 8 | mugumu\n",
      "City | metsovon not found. Skipping...\n",
      "Processing Record 46 of Set 8 | that phanom\n",
      "Processing Record 47 of Set 8 | aksarka\n",
      "Processing Record 48 of Set 8 | bairiki\n",
      "Processing Record 49 of Set 8 | malim\n",
      "Processing Record 0 of Set 9 | buin\n",
      "Processing Record 1 of Set 9 | mimongo\n",
      "Processing Record 2 of Set 9 | codrington\n",
      "Processing Record 3 of Set 9 | plettenberg bay\n",
      "Processing Record 4 of Set 9 | hambantota\n",
      "Processing Record 5 of Set 9 | nouna\n",
      "Processing Record 6 of Set 9 | ambanja\n",
      "Processing Record 7 of Set 9 | cabedelo\n",
      "Processing Record 8 of Set 9 | ushibuka\n",
      "Processing Record 9 of Set 9 | molina\n",
      "Processing Record 10 of Set 9 | banjar\n",
      "Processing Record 11 of Set 9 | santa vitoria do palmar\n",
      "Processing Record 12 of Set 9 | canico\n",
      "Processing Record 13 of Set 9 | kandrian\n",
      "Processing Record 14 of Set 9 | malartic\n",
      "Processing Record 15 of Set 9 | cuamba\n",
      "Processing Record 16 of Set 9 | tiksi\n",
      "City | toliary not found. Skipping...\n",
      "Processing Record 17 of Set 9 | chebenki\n",
      "Processing Record 18 of Set 9 | sao miguel do iguacu\n",
      "Processing Record 19 of Set 9 | hamilton\n",
      "Processing Record 20 of Set 9 | lagoa\n",
      "Processing Record 21 of Set 9 | chara\n",
      "Processing Record 22 of Set 9 | lata\n",
      "Processing Record 23 of Set 9 | lastoursville\n",
      "Processing Record 24 of Set 9 | sept-iles\n",
      "Processing Record 25 of Set 9 | edea\n",
      "Processing Record 26 of Set 9 | rabo de peixe\n",
      "Processing Record 27 of Set 9 | laval\n",
      "Processing Record 28 of Set 9 | hasaki\n",
      "Processing Record 29 of Set 9 | loandjili\n",
      "Processing Record 30 of Set 9 | wilmington\n",
      "Processing Record 31 of Set 9 | urumqi\n",
      "Processing Record 32 of Set 9 | gat\n",
      "Processing Record 33 of Set 9 | puerto del rosario\n",
      "Processing Record 34 of Set 9 | cooma\n",
      "Processing Record 35 of Set 9 | tahta\n",
      "Processing Record 36 of Set 9 | katima mulilo\n",
      "City | urdzhar not found. Skipping...\n",
      "Processing Record 37 of Set 9 | qaqortoq\n",
      "Processing Record 38 of Set 9 | labuhan\n",
      "Processing Record 39 of Set 9 | flinders\n",
      "Processing Record 40 of Set 9 | hualmay\n",
      "Processing Record 41 of Set 9 | leua\n",
      "Processing Record 42 of Set 9 | vila\n",
      "Processing Record 43 of Set 9 | saint-francois\n",
      "City | gorno-chuyskiy not found. Skipping...\n",
      "Processing Record 44 of Set 9 | lubao\n",
      "Processing Record 45 of Set 9 | coyah\n",
      "Processing Record 46 of Set 9 | lazaro cardenas\n",
      "Processing Record 47 of Set 9 | fulton\n",
      "Processing Record 48 of Set 9 | litovko\n",
      "Processing Record 49 of Set 9 | khuzdar\n",
      "Processing Record 0 of Set 10 | liaocheng\n",
      "Processing Record 1 of Set 10 | luganville\n",
      "Processing Record 2 of Set 10 | victor harbor\n",
      "Processing Record 3 of Set 10 | vostok\n",
      "Processing Record 4 of Set 10 | shyryayeve\n",
      "Processing Record 5 of Set 10 | nisia floresta\n",
      "Processing Record 6 of Set 10 | muros\n",
      "Processing Record 7 of Set 10 | sharjah\n",
      "Processing Record 8 of Set 10 | ust-maya\n",
      "Processing Record 9 of Set 10 | sungaipenuh\n",
      "City | labutta not found. Skipping...\n",
      "Processing Record 10 of Set 10 | kapoeta\n",
      "Processing Record 11 of Set 10 | petropavlovsk-kamchatskiy\n",
      "Processing Record 12 of Set 10 | ayan\n",
      "City | mbacke not found. Skipping...\n",
      "Processing Record 13 of Set 10 | vuktyl\n",
      "Processing Record 14 of Set 10 | beaverton\n",
      "Processing Record 15 of Set 10 | soyo\n",
      "Processing Record 16 of Set 10 | naklo nad notecia\n",
      "Processing Record 17 of Set 10 | omsukchan\n",
      "Processing Record 18 of Set 10 | mutis\n",
      "City | andevoranto not found. Skipping...\n",
      "Processing Record 19 of Set 10 | tungor\n",
      "Processing Record 20 of Set 10 | miri\n",
      "Processing Record 21 of Set 10 | dixon\n",
      "Processing Record 22 of Set 10 | igrim\n",
      "City | gangotri not found. Skipping...\n",
      "Processing Record 23 of Set 10 | churapcha\n",
      "Processing Record 24 of Set 10 | inhambane\n",
      "Processing Record 25 of Set 10 | lodwar\n",
      "Processing Record 26 of Set 10 | sobolevo\n",
      "City | zhemchuzhnyy not found. Skipping...\n",
      "Processing Record 27 of Set 10 | kastamonu\n",
      "Processing Record 28 of Set 10 | sri aman\n",
      "Processing Record 29 of Set 10 | wajid\n",
      "Processing Record 30 of Set 10 | carazinho\n",
      "Processing Record 31 of Set 10 | chissamba\n",
      "Processing Record 32 of Set 10 | tilichiki\n",
      "Processing Record 33 of Set 10 | zhangye\n",
      "Processing Record 34 of Set 10 | porbandar\n",
      "City | jiddah not found. Skipping...\n",
      "Processing Record 35 of Set 10 | camacha\n",
      "Processing Record 36 of Set 10 | razole\n",
      "Processing Record 37 of Set 10 | ust-kuyga\n",
      "Processing Record 38 of Set 10 | vao\n",
      "Processing Record 39 of Set 10 | kousseri\n",
      "City | sentyabrskiy not found. Skipping...\n",
      "City | bolshoy uluy not found. Skipping...\n",
      "Processing Record 40 of Set 10 | oulu\n",
      "Processing Record 41 of Set 10 | selma\n",
      "Processing Record 42 of Set 10 | lakeside\n",
      "Processing Record 43 of Set 10 | aguada de pasajeros\n",
      "City | opobo not found. Skipping...\n",
      "Processing Record 44 of Set 10 | ternate\n",
      "Processing Record 45 of Set 10 | henties bay\n",
      "Processing Record 46 of Set 10 | khandyga\n",
      "Processing Record 47 of Set 10 | chokurdakh\n",
      "Processing Record 48 of Set 10 | guaranesia\n",
      "Processing Record 49 of Set 10 | gwadar\n",
      "Processing Record 0 of Set 11 | flin flon\n",
      "Processing Record 1 of Set 11 | tekirdag\n",
      "Processing Record 2 of Set 11 | pangnirtung\n",
      "Processing Record 3 of Set 11 | savelugu\n",
      "Processing Record 4 of Set 11 | yangmei\n",
      "City | galiwinku not found. Skipping...\n",
      "Processing Record 5 of Set 11 | dryden\n",
      "Processing Record 6 of Set 11 | saint anthony\n",
      "Processing Record 7 of Set 11 | salalah\n",
      "Processing Record 8 of Set 11 | scottsboro\n",
      "Processing Record 9 of Set 11 | varhaug\n",
      "Processing Record 10 of Set 11 | north shore\n",
      "Processing Record 11 of Set 11 | bandarbeyla\n",
      "Processing Record 12 of Set 11 | westport\n",
      "Processing Record 13 of Set 11 | puebloviejo\n",
      "Processing Record 14 of Set 11 | itupiranga\n",
      "City | kamenskoye not found. Skipping...\n",
      "Processing Record 15 of Set 11 | oranjemund\n",
      "City | blonduos not found. Skipping...\n",
      "Processing Record 16 of Set 11 | buala\n",
      "Processing Record 17 of Set 11 | puerto maldonado\n",
      "Processing Record 18 of Set 11 | kazachinskoye\n",
      "Processing Record 19 of Set 11 | portel\n",
      "Processing Record 20 of Set 11 | abaza\n",
      "Processing Record 21 of Set 11 | sinazongwe\n",
      "Processing Record 22 of Set 11 | quatre cocos\n",
      "Processing Record 23 of Set 11 | oksfjord\n",
      "Processing Record 24 of Set 11 | debre sina\n",
      "Processing Record 25 of Set 11 | kloulklubed\n",
      "Processing Record 26 of Set 11 | kailua\n",
      "Processing Record 27 of Set 11 | aklavik\n",
      "Processing Record 28 of Set 11 | san borja\n",
      "Processing Record 29 of Set 11 | braniewo\n",
      "Processing Record 30 of Set 11 | luwuk\n",
      "Processing Record 31 of Set 11 | adrar\n",
      "Processing Record 32 of Set 11 | bubaque\n",
      "Processing Record 33 of Set 11 | sabang\n",
      "Processing Record 34 of Set 11 | chateaubelair\n",
      "Processing Record 35 of Set 11 | pundaguitan\n",
      "Processing Record 36 of Set 11 | matara\n",
      "Processing Record 37 of Set 11 | presidente epitacio\n",
      "Processing Record 38 of Set 11 | soligalich\n",
      "Processing Record 39 of Set 11 | manjacaze\n",
      "Processing Record 40 of Set 11 | huarmey\n",
      "Processing Record 41 of Set 11 | sfantu gheorghe\n",
      "Processing Record 42 of Set 11 | berlin\n",
      "Processing Record 43 of Set 11 | marawi\n",
      "Processing Record 44 of Set 11 | japura\n",
      "Processing Record 45 of Set 11 | gorban\n",
      "Processing Record 46 of Set 11 | maniitsoq\n",
      "Processing Record 47 of Set 11 | atherton\n",
      "City | talawdi not found. Skipping...\n",
      "City | guajara-mirim not found. Skipping...\n",
      "Processing Record 48 of Set 11 | libertador general san martin\n",
      "Processing Record 49 of Set 11 | troitsko-pechorsk\n",
      "City | skagastrond not found. Skipping...\n",
      "Processing Record 0 of Set 12 | puerto ayacucho\n",
      "Processing Record 1 of Set 12 | northam\n",
      "Processing Record 2 of Set 12 | mulege\n",
      "Processing Record 3 of Set 12 | mastic beach\n",
      "Processing Record 4 of Set 12 | roald\n",
      "Processing Record 5 of Set 12 | chernyshevskiy\n",
      "Processing Record 6 of Set 12 | grand-santi\n",
      "Processing Record 7 of Set 12 | ikalamavony\n",
      "Processing Record 8 of Set 12 | wanlaweyn\n",
      "Processing Record 9 of Set 12 | lumberton\n",
      "Processing Record 10 of Set 12 | tigil\n",
      "Processing Record 11 of Set 12 | monterey\n",
      "Processing Record 12 of Set 12 | beian\n",
      "Processing Record 13 of Set 12 | riyadh\n",
      "Processing Record 14 of Set 12 | odweyne\n",
      "Processing Record 15 of Set 12 | beyneu\n",
      "Processing Record 16 of Set 12 | calvinia\n",
      "Processing Record 17 of Set 12 | kaa-khem\n",
      "Processing Record 18 of Set 12 | ngunguru\n",
      "Processing Record 19 of Set 12 | nchelenge\n",
      "Processing Record 20 of Set 12 | peniche\n",
      "Processing Record 21 of Set 12 | kendari\n",
      "Processing Record 22 of Set 12 | sola\n",
      "Processing Record 23 of Set 12 | lascahobas\n",
      "Processing Record 24 of Set 12 | marsa matruh\n",
      "Processing Record 25 of Set 12 | ostrovnoy\n",
      "Processing Record 26 of Set 12 | general roca\n",
      "Processing Record 27 of Set 12 | chicama\n",
      "Processing Record 28 of Set 12 | padang\n",
      "Processing Record 29 of Set 12 | san jeronimo\n",
      "Processing Record 30 of Set 12 | misratah\n",
      "Processing Record 31 of Set 12 | ampanihy\n",
      "Processing Record 32 of Set 12 | nynashamn\n",
      "Processing Record 33 of Set 12 | port-gentil\n",
      "City | ust-kamchatsk not found. Skipping...\n",
      "Processing Record 34 of Set 12 | nandurbar\n",
      "Processing Record 35 of Set 12 | olinda\n",
      "Processing Record 36 of Set 12 | kingaroy\n",
      "Processing Record 37 of Set 12 | grootfontein\n",
      "Processing Record 38 of Set 12 | bukachacha\n",
      "Processing Record 39 of Set 12 | kalmunai\n",
      "Processing Record 40 of Set 12 | balclutha\n",
      "-------------------------------\n",
      "Data Retrieval Complete\n",
      "-------------------------------\n"
     ]
    }
   ],
   "source": [
    "## Declare a list of variables to hold the Max Temperature, Humidity, Cloudiness, Wind Speed, and Country\n",
    "lat_ar = []\n",
    "lng_ar = []\n",
    "max_temperature_ar = []\n",
    "humidity_ar = []\n",
    "cloudiness_ar = []\n",
    "wind_speed_ar = []\n",
    "date_ar = []\n",
    "country_ar = []\n",
    "\n",
    "set_no = 1\n",
    "record_no = 0\n",
    "\n",
    "## print the log file header\n",
    "print(\"Beginning Data Retrieval\")\n",
    "print(\"-------------------------------\")\n",
    "\n",
    "## for loop: \n",
    "##for i in range(70):\n",
    "for i in range(len(cities)):\n",
    "    ## Avoid overloading the system with API requests\n",
    "    time.sleep(1) \n",
    "    \n",
    "    ##city_url = query_url + cities[i]\n",
    "    city_url = query_url + cities[i]\n",
    "    \n",
    "    ## print(f\"City_url = {city_url}\")\n",
    "    \n",
    "    response_json = requests.get(city_url).json()\n",
    "\n",
    "    ## Catch the situations with the attribute name, but value is empty\n",
    "    try: \n",
    "        lat_ar.append(response_json['coord']['lat'])\n",
    "        lng_ar.append(response_json['coord']['lon'])\n",
    "        max_temperature_ar.append(response_json['main']['temp_max'])\n",
    "        humidity_ar.append(response_json['main']['humidity'])\n",
    "        cloudiness_ar.append(response_json['clouds']['all'])\n",
    "        wind_speed_ar.append(response_json['wind']['speed'])\n",
    "        date_ar.append(response_json['dt'])\n",
    "        country_ar.append(response_json['sys']['country'])\n",
    "        \n",
    "        ## print the log file line for each city: \n",
    "        print(f\"Processing Record {record_no} of Set {set_no} | {cities[i]}\")\n",
    "            \n",
    "        ## check to see if city_no = 50, if so, increment set_no\n",
    "        ## set the record_no and set_no for the next round of log printing\n",
    "        if record_no == MAX_NUM_RECORD_PER_SET:\n",
    "            record_no = 0\n",
    "            set_no += 1\n",
    "            ##print(f\"record_no = {record_no}, set_no = {set_no}\")\n",
    "        else:\n",
    "            record_no += 1\n",
    "            ##print(f\"Just add 1 to record_no: record_no = {record_no}\")     \n",
    "        \n",
    "    except KeyError:\n",
    "        ## don't have data -> put NaN\n",
    "        lat_ar.append(np.nan)\n",
    "        lng_ar.append(np.nan)\n",
    "        max_temperature_ar.append(np.nan)\n",
    "        humidity_ar.append(np.nan)\n",
    "        cloudiness_ar.append(0)\n",
    "        wind_speed_ar.append(np.nan)\n",
    "        date_ar.append(np.nan)\n",
    "        country_ar.append(np.nan)\n",
    "        print(f\"City | {cities[i]} not found. Skipping...\")\n",
    "        ##print(f\"record_no = {record_no}, set_no = {set_no}\")\n",
    "    \n",
    "## print the log file ending sentence\n",
    "print(\"-------------------------------\")\n",
    "print(\"Data Retrieval Complete\")\n",
    "print(\"-------------------------------\")\n",
    "  "
   ]
  },
  {
   "cell_type": "code",
   "execution_count": null,
   "metadata": {
    "scrolled": true
   },
   "outputs": [],
   "source": []
  },
  {
   "cell_type": "markdown",
   "metadata": {},
   "source": [
    "### Convert Raw Data to DataFrame\n",
    "* Export the city data into a .csv.\n",
    "* Display the DataFrame"
   ]
  },
  {
   "cell_type": "code",
   "execution_count": 10,
   "metadata": {},
   "outputs": [
    {
     "name": "stdout",
     "output_type": "stream",
     "text": [
      "The size of the city_weather_df = 641\n",
      "The size of the clean_city_weather_df size is 591\n",
      "\n"
     ]
    },
    {
     "data": {
      "text/html": [
       "<div>\n",
       "<style scoped>\n",
       "    .dataframe tbody tr th:only-of-type {\n",
       "        vertical-align: middle;\n",
       "    }\n",
       "\n",
       "    .dataframe tbody tr th {\n",
       "        vertical-align: top;\n",
       "    }\n",
       "\n",
       "    .dataframe thead th {\n",
       "        text-align: right;\n",
       "    }\n",
       "</style>\n",
       "<table border=\"1\" class=\"dataframe\">\n",
       "  <thead>\n",
       "    <tr style=\"text-align: right;\">\n",
       "      <th></th>\n",
       "      <th>City</th>\n",
       "      <th>Lat</th>\n",
       "      <th>Lng</th>\n",
       "      <th>Max Temp</th>\n",
       "      <th>Humidity</th>\n",
       "      <th>Cloudiness</th>\n",
       "      <th>Wind Speed</th>\n",
       "      <th>Country</th>\n",
       "      <th>Date</th>\n",
       "    </tr>\n",
       "  </thead>\n",
       "  <tbody>\n",
       "    <tr>\n",
       "      <th>0</th>\n",
       "      <td>baghdad</td>\n",
       "      <td>33.3406</td>\n",
       "      <td>44.4009</td>\n",
       "      <td>68.00</td>\n",
       "      <td>21.0</td>\n",
       "      <td>0</td>\n",
       "      <td>9.22</td>\n",
       "      <td>IQ</td>\n",
       "      <td>1.617037e+09</td>\n",
       "    </tr>\n",
       "    <tr>\n",
       "      <th>1</th>\n",
       "      <td>cabo san lucas</td>\n",
       "      <td>22.8909</td>\n",
       "      <td>-109.9124</td>\n",
       "      <td>78.01</td>\n",
       "      <td>25.0</td>\n",
       "      <td>40</td>\n",
       "      <td>7.61</td>\n",
       "      <td>MX</td>\n",
       "      <td>1.617037e+09</td>\n",
       "    </tr>\n",
       "    <tr>\n",
       "      <th>2</th>\n",
       "      <td>shangzhi</td>\n",
       "      <td>45.2167</td>\n",
       "      <td>127.9667</td>\n",
       "      <td>40.15</td>\n",
       "      <td>82.0</td>\n",
       "      <td>100</td>\n",
       "      <td>13.65</td>\n",
       "      <td>CN</td>\n",
       "      <td>1.617037e+09</td>\n",
       "    </tr>\n",
       "    <tr>\n",
       "      <th>3</th>\n",
       "      <td>belushya guba</td>\n",
       "      <td>NaN</td>\n",
       "      <td>NaN</td>\n",
       "      <td>NaN</td>\n",
       "      <td>NaN</td>\n",
       "      <td>0</td>\n",
       "      <td>NaN</td>\n",
       "      <td>NaN</td>\n",
       "      <td>NaN</td>\n",
       "    </tr>\n",
       "    <tr>\n",
       "      <th>4</th>\n",
       "      <td>gimbi</td>\n",
       "      <td>9.1667</td>\n",
       "      <td>35.8333</td>\n",
       "      <td>69.64</td>\n",
       "      <td>40.0</td>\n",
       "      <td>99</td>\n",
       "      <td>4.92</td>\n",
       "      <td>ET</td>\n",
       "      <td>1.617037e+09</td>\n",
       "    </tr>\n",
       "  </tbody>\n",
       "</table>\n",
       "</div>"
      ],
      "text/plain": [
       "             City      Lat       Lng  Max Temp  Humidity  Cloudiness  \\\n",
       "0         baghdad  33.3406   44.4009     68.00      21.0           0   \n",
       "1  cabo san lucas  22.8909 -109.9124     78.01      25.0          40   \n",
       "2        shangzhi  45.2167  127.9667     40.15      82.0         100   \n",
       "3   belushya guba      NaN       NaN       NaN       NaN           0   \n",
       "4           gimbi   9.1667   35.8333     69.64      40.0          99   \n",
       "\n",
       "   Wind Speed Country          Date  \n",
       "0        9.22      IQ  1.617037e+09  \n",
       "1        7.61      MX  1.617037e+09  \n",
       "2       13.65      CN  1.617037e+09  \n",
       "3         NaN     NaN           NaN  \n",
       "4        4.92      ET  1.617037e+09  "
      ]
     },
     "execution_count": 10,
     "metadata": {},
     "output_type": "execute_result"
    }
   ],
   "source": [
    "## Creata a dataframe with all the data retrieved\n",
    "##city_weather_df = pd.DataFrame(\"City\": cities, \n",
    "city_weather_df = pd.DataFrame({\"City\": cities, \n",
    "                               \"Lat\": lat_ar, \n",
    "                               \"Lng\": lng_ar,\n",
    "                               \"Max Temp\": max_temperature_ar, \n",
    "                               \"Humidity\": humidity_ar,\n",
    "                               \"Cloudiness\": cloudiness_ar,\n",
    "                               \"Wind Speed\": wind_speed_ar,\n",
    "                               \"Country\": country_ar,\n",
    "                               \"Date\": date_ar\n",
    "                               })\n",
    "\n",
    "## before drop_na, \n",
    "old_len = len(city_weather_df[\"City\"])\n",
    "print(f\"The size of the city_weather_df = {str(old_len)}\")\n",
    "# print(f\"city_weather_df size is {len(city_weather_df[\"City\"])}\")\n",
    "\n",
    "## Clean up df by dropping rows with NaN\n",
    "clean_city_weather_df = city_weather_df.dropna(how='any')\n",
    "\n",
    "new_len = len(clean_city_weather_df[\"City\"])\n",
    "print(f\"The size of the clean_city_weather_df size is {str(new_len)}\\n\")\n",
    "\n",
    "## export the city data into a csv file\n",
    "clean_city_weather_df.to_csv('../output_data/cities.csv',encoding = 'utf-8',index = False)\n",
    "\n",
    "## display the DataFrame\n",
    "city_weather_df.head()"
   ]
  },
  {
   "cell_type": "code",
   "execution_count": 43,
   "metadata": {},
   "outputs": [
    {
     "data": {
      "text/html": [
       "<div>\n",
       "<style scoped>\n",
       "    .dataframe tbody tr th:only-of-type {\n",
       "        vertical-align: middle;\n",
       "    }\n",
       "\n",
       "    .dataframe tbody tr th {\n",
       "        vertical-align: top;\n",
       "    }\n",
       "\n",
       "    .dataframe thead th {\n",
       "        text-align: right;\n",
       "    }\n",
       "</style>\n",
       "<table border=\"1\" class=\"dataframe\">\n",
       "  <thead>\n",
       "    <tr style=\"text-align: right;\">\n",
       "      <th></th>\n",
       "      <th>Lat</th>\n",
       "      <th>Lng</th>\n",
       "      <th>Max Temp</th>\n",
       "      <th>Humidity</th>\n",
       "      <th>Cloudiness</th>\n",
       "      <th>Wind Speed</th>\n",
       "      <th>Date</th>\n",
       "    </tr>\n",
       "  </thead>\n",
       "  <tbody>\n",
       "    <tr>\n",
       "      <th>count</th>\n",
       "      <td>576.000000</td>\n",
       "      <td>576.000000</td>\n",
       "      <td>576.000000</td>\n",
       "      <td>576.000000</td>\n",
       "      <td>576.000000</td>\n",
       "      <td>576.000000</td>\n",
       "      <td>5.760000e+02</td>\n",
       "    </tr>\n",
       "    <tr>\n",
       "      <th>mean</th>\n",
       "      <td>20.694232</td>\n",
       "      <td>15.616549</td>\n",
       "      <td>56.585556</td>\n",
       "      <td>71.579861</td>\n",
       "      <td>54.998264</td>\n",
       "      <td>7.356806</td>\n",
       "      <td>1.616905e+09</td>\n",
       "    </tr>\n",
       "    <tr>\n",
       "      <th>std</th>\n",
       "      <td>33.004994</td>\n",
       "      <td>92.539684</td>\n",
       "      <td>25.123126</td>\n",
       "      <td>22.665750</td>\n",
       "      <td>39.386182</td>\n",
       "      <td>5.592977</td>\n",
       "      <td>8.022916e+01</td>\n",
       "    </tr>\n",
       "    <tr>\n",
       "      <th>min</th>\n",
       "      <td>-54.800000</td>\n",
       "      <td>-179.166700</td>\n",
       "      <td>-28.860000</td>\n",
       "      <td>3.000000</td>\n",
       "      <td>0.000000</td>\n",
       "      <td>0.340000</td>\n",
       "      <td>1.616904e+09</td>\n",
       "    </tr>\n",
       "    <tr>\n",
       "      <th>25%</th>\n",
       "      <td>-5.983400</td>\n",
       "      <td>-67.417500</td>\n",
       "      <td>37.955000</td>\n",
       "      <td>60.000000</td>\n",
       "      <td>9.750000</td>\n",
       "      <td>3.440000</td>\n",
       "      <td>1.616905e+09</td>\n",
       "    </tr>\n",
       "    <tr>\n",
       "      <th>50%</th>\n",
       "      <td>25.753600</td>\n",
       "      <td>19.465550</td>\n",
       "      <td>62.755000</td>\n",
       "      <td>77.000000</td>\n",
       "      <td>69.500000</td>\n",
       "      <td>5.750000</td>\n",
       "      <td>1.616905e+09</td>\n",
       "    </tr>\n",
       "    <tr>\n",
       "      <th>75%</th>\n",
       "      <td>49.239975</td>\n",
       "      <td>99.928225</td>\n",
       "      <td>76.170000</td>\n",
       "      <td>88.000000</td>\n",
       "      <td>95.000000</td>\n",
       "      <td>9.535000</td>\n",
       "      <td>1.616905e+09</td>\n",
       "    </tr>\n",
       "    <tr>\n",
       "      <th>max</th>\n",
       "      <td>78.218600</td>\n",
       "      <td>179.316700</td>\n",
       "      <td>98.600000</td>\n",
       "      <td>100.000000</td>\n",
       "      <td>100.000000</td>\n",
       "      <td>48.340000</td>\n",
       "      <td>1.616905e+09</td>\n",
       "    </tr>\n",
       "  </tbody>\n",
       "</table>\n",
       "</div>"
      ],
      "text/plain": [
       "              Lat         Lng    Max Temp    Humidity  Cloudiness  Wind Speed  \\\n",
       "count  576.000000  576.000000  576.000000  576.000000  576.000000  576.000000   \n",
       "mean    20.694232   15.616549   56.585556   71.579861   54.998264    7.356806   \n",
       "std     33.004994   92.539684   25.123126   22.665750   39.386182    5.592977   \n",
       "min    -54.800000 -179.166700  -28.860000    3.000000    0.000000    0.340000   \n",
       "25%     -5.983400  -67.417500   37.955000   60.000000    9.750000    3.440000   \n",
       "50%     25.753600   19.465550   62.755000   77.000000   69.500000    5.750000   \n",
       "75%     49.239975   99.928225   76.170000   88.000000   95.000000    9.535000   \n",
       "max     78.218600  179.316700   98.600000  100.000000  100.000000   48.340000   \n",
       "\n",
       "               Date  \n",
       "count  5.760000e+02  \n",
       "mean   1.616905e+09  \n",
       "std    8.022916e+01  \n",
       "min    1.616904e+09  \n",
       "25%    1.616905e+09  \n",
       "50%    1.616905e+09  \n",
       "75%    1.616905e+09  \n",
       "max    1.616905e+09  "
      ]
     },
     "execution_count": 43,
     "metadata": {},
     "output_type": "execute_result"
    }
   ],
   "source": [
    "clean_city_weather_df.describe()"
   ]
  },
  {
   "cell_type": "code",
   "execution_count": null,
   "metadata": {},
   "outputs": [],
   "source": []
  },
  {
   "cell_type": "markdown",
   "metadata": {},
   "source": [
    "## Inspect the data and remove the cities where the humidity > 100%.\n",
    "----\n",
    "Skip this step if there are no cities that have humidity > 100%. "
   ]
  },
  {
   "cell_type": "code",
   "execution_count": 13,
   "metadata": {},
   "outputs": [
    {
     "name": "stdout",
     "output_type": "stream",
     "text": [
      "Number of cities with humidity > 100: 0\n"
     ]
    },
    {
     "data": {
      "text/plain": [
       "Int64Index([], dtype='int64')"
      ]
     },
     "execution_count": 13,
     "metadata": {},
     "output_type": "execute_result"
    }
   ],
   "source": [
    "#  Get the indices of cities that have humidity over 100%.\n",
    "## The easiest way to find the max_humidity is to describe the df to see the max value\n",
    "clean_city_weather_df.describe()\n",
    "\n",
    "## Alternatively, use the following code: \n",
    "## get the index list from the df\n",
    "idx = clean_city_weather_df.index\n",
    "\n",
    "## Get the row indices that satisfy the humidity condition\n",
    "humidity_exceed_max_indices = idx[clean_city_weather_df[\"Humidity\"] > 100]\n",
    "\n",
    "print(f\"Number of cities with humidity > 100: {str(len(humidity_exceed_max_indices.tolist()))}\")\n",
    "\n",
    "## print the indices\n",
    "humidity_exceed_max_indices\n"
   ]
  },
  {
   "cell_type": "code",
   "execution_count": null,
   "metadata": {},
   "outputs": [],
   "source": []
  },
  {
   "cell_type": "code",
   "execution_count": 14,
   "metadata": {},
   "outputs": [
    {
     "data": {
      "text/html": [
       "<div>\n",
       "<style scoped>\n",
       "    .dataframe tbody tr th:only-of-type {\n",
       "        vertical-align: middle;\n",
       "    }\n",
       "\n",
       "    .dataframe tbody tr th {\n",
       "        vertical-align: top;\n",
       "    }\n",
       "\n",
       "    .dataframe thead th {\n",
       "        text-align: right;\n",
       "    }\n",
       "</style>\n",
       "<table border=\"1\" class=\"dataframe\">\n",
       "  <thead>\n",
       "    <tr style=\"text-align: right;\">\n",
       "      <th></th>\n",
       "      <th>City</th>\n",
       "      <th>Lat</th>\n",
       "      <th>Lng</th>\n",
       "      <th>Max Temp</th>\n",
       "      <th>Humidity</th>\n",
       "      <th>Cloudiness</th>\n",
       "      <th>Wind Speed</th>\n",
       "      <th>Country</th>\n",
       "      <th>Date</th>\n",
       "    </tr>\n",
       "  </thead>\n",
       "  <tbody>\n",
       "    <tr>\n",
       "      <th>0</th>\n",
       "      <td>baghdad</td>\n",
       "      <td>33.3406</td>\n",
       "      <td>44.4009</td>\n",
       "      <td>68.00</td>\n",
       "      <td>21.0</td>\n",
       "      <td>0</td>\n",
       "      <td>9.22</td>\n",
       "      <td>IQ</td>\n",
       "      <td>1.617037e+09</td>\n",
       "    </tr>\n",
       "    <tr>\n",
       "      <th>1</th>\n",
       "      <td>cabo san lucas</td>\n",
       "      <td>22.8909</td>\n",
       "      <td>-109.9124</td>\n",
       "      <td>78.01</td>\n",
       "      <td>25.0</td>\n",
       "      <td>40</td>\n",
       "      <td>7.61</td>\n",
       "      <td>MX</td>\n",
       "      <td>1.617037e+09</td>\n",
       "    </tr>\n",
       "    <tr>\n",
       "      <th>2</th>\n",
       "      <td>shangzhi</td>\n",
       "      <td>45.2167</td>\n",
       "      <td>127.9667</td>\n",
       "      <td>40.15</td>\n",
       "      <td>82.0</td>\n",
       "      <td>100</td>\n",
       "      <td>13.65</td>\n",
       "      <td>CN</td>\n",
       "      <td>1.617037e+09</td>\n",
       "    </tr>\n",
       "    <tr>\n",
       "      <th>4</th>\n",
       "      <td>gimbi</td>\n",
       "      <td>9.1667</td>\n",
       "      <td>35.8333</td>\n",
       "      <td>69.64</td>\n",
       "      <td>40.0</td>\n",
       "      <td>99</td>\n",
       "      <td>4.92</td>\n",
       "      <td>ET</td>\n",
       "      <td>1.617037e+09</td>\n",
       "    </tr>\n",
       "    <tr>\n",
       "      <th>5</th>\n",
       "      <td>arraial do cabo</td>\n",
       "      <td>-22.9661</td>\n",
       "      <td>-42.0278</td>\n",
       "      <td>95.00</td>\n",
       "      <td>62.0</td>\n",
       "      <td>20</td>\n",
       "      <td>13.80</td>\n",
       "      <td>BR</td>\n",
       "      <td>1.617037e+09</td>\n",
       "    </tr>\n",
       "  </tbody>\n",
       "</table>\n",
       "</div>"
      ],
      "text/plain": [
       "              City      Lat       Lng  Max Temp  Humidity  Cloudiness  \\\n",
       "0          baghdad  33.3406   44.4009     68.00      21.0           0   \n",
       "1   cabo san lucas  22.8909 -109.9124     78.01      25.0          40   \n",
       "2         shangzhi  45.2167  127.9667     40.15      82.0         100   \n",
       "4            gimbi   9.1667   35.8333     69.64      40.0          99   \n",
       "5  arraial do cabo -22.9661  -42.0278     95.00      62.0          20   \n",
       "\n",
       "   Wind Speed Country          Date  \n",
       "0        9.22      IQ  1.617037e+09  \n",
       "1        7.61      MX  1.617037e+09  \n",
       "2       13.65      CN  1.617037e+09  \n",
       "4        4.92      ET  1.617037e+09  \n",
       "5       13.80      BR  1.617037e+09  "
      ]
     },
     "execution_count": 14,
     "metadata": {},
     "output_type": "execute_result"
    }
   ],
   "source": [
    "# Make a new DataFrame equal to the city data to drop all humidity outliers by index.\n",
    "# Passing \"inplace=False\" will make a copy of the city_data DataFrame, which we call \"clean_city_data\".\n",
    "\n",
    "## Skip this step because no city in clean_city_weather_df has humidity > 100. \n",
    "## No rows has humidity > 100 in clean_cityclean_city_weather_df\n",
    "\n",
    "## print the clean_city_weather_df\n",
    "clean_city_weather_df.head()"
   ]
  },
  {
   "cell_type": "code",
   "execution_count": null,
   "metadata": {},
   "outputs": [],
   "source": []
  },
  {
   "cell_type": "markdown",
   "metadata": {},
   "source": [
    "## Plotting the Data\n",
    "* Use proper labeling of the plots using plot titles (including date of analysis) and axes labels.\n",
    "* Save the plotted figures as .pngs."
   ]
  },
  {
   "cell_type": "markdown",
   "metadata": {},
   "source": [
    "## Latitude vs. Temperature Plot"
   ]
  },
  {
   "cell_type": "code",
   "execution_count": 61,
   "metadata": {},
   "outputs": [
    {
     "data": {
      "image/png": "[encoded data removed]",
      "text/plain": [
       "<Figure size 504x360 with 1 Axes>"
      ]
     },
     "metadata": {
      "needs_background": "light"
     },
     "output_type": "display_data"
    }
   ],
   "source": [
    "plt.figure(figsize=(7,5))\n",
    "\n",
    "## Plot the lat vs the Max Temp\n",
    "plt.scatter(x = clean_city_weather_df['Lat'], y = clean_city_weather_df['Max Temp'], linewidths = 0.75, color = 'blue', edgecolor = 'black', s = 35)\n",
    "plt.grid()\n",
    "\n",
    "## Label the plot\n",
    "plt.xlabel('Latitude')\n",
    "plt.ylabel('Max Temperature (F)')\n",
    "plt.title(\"City Latitute vs. Max Temperature (03/28/21)\")\n",
    "\n",
    "## Save the plot\n",
    "plt.savefig(\"../output_data/CityLat_vs_MaxTemp.png\")\n",
    "\n",
    "## Show plot\n",
    "plt.tight_layout()\n",
    "plt.show()"
   ]
  },
  {
   "cell_type": "markdown",
   "metadata": {},
   "source": [
    "Note: The hottest place is near equator whose latitude is zero. When moving away from equator, a) in the Northern hemisphere, the larger the latitute, the lower the temperature; b) In the Southern hemisphere, as the latitute decreases, so is the temperature. \n",
    "\n"
   ]
  },
  {
   "cell_type": "markdown",
   "metadata": {},
   "source": [
    "## Latitude vs. Humidity Plot"
   ]
  },
  {
   "cell_type": "code",
   "execution_count": 62,
   "metadata": {},
   "outputs": [
    {
     "data": {
      "image/png": "[encoded data removed]",
      "text/plain": [
       "<Figure size 504x360 with 1 Axes>"
      ]
     },
     "metadata": {
      "needs_background": "light"
     },
     "output_type": "display_data"
    }
   ],
   "source": [
    "plt.figure(figsize=(7,5))\n",
    "\n",
    "## Plot the lat vs Humidity\n",
    "plt.scatter(x = clean_city_weather_df['Lat'], y = clean_city_weather_df['Humidity'], linewidths = 0.75, color = 'blue', edgecolor = 'black', s = 35)\n",
    "plt.grid()\n",
    "\n",
    "## Label the plot\n",
    "plt.xlabel('Latitude')\n",
    "plt.ylabel('Humidity (%)')\n",
    "plt.title(\"City Latitute vs. Humidity (03/28/21)\")\n",
    "\n",
    "## Save the plot\n",
    "plt.savefig(\"../output_data/CityLat_vs_Humidity.png\")\n",
    "\n",
    "## Show plot\n",
    "plt.tight_layout()\n",
    "plt.show()"
   ]
  },
  {
   "cell_type": "markdown",
   "metadata": {},
   "source": [
    "Note: Humidity is very high (>70%) near equator. \n",
    "In the Northern hemisphere, the humidity increases when latitute become bigger. In Southern hemisphere, the correlation between latitude and humidity is not strong.\n",
    "\n",
    "\n"
   ]
  },
  {
   "cell_type": "markdown",
   "metadata": {},
   "source": [
    "## Latitude vs. Cloudiness Plot"
   ]
  },
  {
   "cell_type": "code",
   "execution_count": 63,
   "metadata": {},
   "outputs": [
    {
     "data": {
      "image/png": "[encoded data removed]",
      "text/plain": [
       "<Figure size 504x360 with 1 Axes>"
      ]
     },
     "metadata": {
      "needs_background": "light"
     },
     "output_type": "display_data"
    }
   ],
   "source": [
    "plt.figure(figsize=(7,5))\n",
    "\n",
    "## Plot the lat vs Humidity\n",
    "plt.scatter(x = clean_city_weather_df['Lat'], y = clean_city_weather_df['Cloudiness'], linewidths = 0.75, color = 'blue', edgecolor = 'black', s = 35)\n",
    "plt.grid()\n",
    "\n",
    "## Label the plot\n",
    "plt.xlabel('Latitude')\n",
    "plt.ylabel('Cloudiness (%)')\n",
    "plt.title(\"City Latitude vs. Cloudiness (03/28/21)\")\n",
    "\n",
    "## Save the plot\n",
    "plt.savefig(\"../output_data/CityLat_vs_Cloudiness.png\")\n",
    "\n",
    "## Show plot\n",
    "plt.tight_layout()\n",
    "plt.show()"
   ]
  },
  {
   "cell_type": "markdown",
   "metadata": {},
   "source": [
    "Note: No clear relationship between latitude and cloudiness.\n",
    "\n"
   ]
  },
  {
   "cell_type": "markdown",
   "metadata": {},
   "source": [
    "## Latitude vs. Wind Speed Plot"
   ]
  },
  {
   "cell_type": "code",
   "execution_count": 64,
   "metadata": {},
   "outputs": [
    {
     "data": {
      "image/png": "[encoded data removed]",
      "text/plain": [
       "<Figure size 504x360 with 1 Axes>"
      ]
     },
     "metadata": {
      "needs_background": "light"
     },
     "output_type": "display_data"
    }
   ],
   "source": [
    "plt.figure(figsize=(7,5))\n",
    "\n",
    "## Plot the lat vs Humidity\n",
    "plt.scatter(x = clean_city_weather_df['Lat'], y = clean_city_weather_df['Wind Speed'], linewidths = 0.75, color = 'blue', edgecolor = 'black', s = 35)\n",
    "plt.grid()\n",
    "\n",
    "## Label the plot\n",
    "plt.xlabel('Latitude')\n",
    "plt.ylabel('Wind Speed (mph)')\n",
    "plt.title(\"City Latitude vs. Wind Speed (03/28/21)\")\n",
    "\n",
    "## Save the plot\n",
    "plt.savefig(\"../output_data/CityLat_vs_WindSpeed.png\")\n",
    "\n",
    "## Show plot\n",
    "plt.tight_layout()\n",
    "plt.show()"
   ]
  },
  {
   "cell_type": "markdown",
   "metadata": {},
   "source": [
    "Note: No strong correlation bewteen latitude and wind speed. However, we do see that as we move away from equator, the wind speed increase for a small number of cities. "
   ]
  },
  {
   "cell_type": "markdown",
   "metadata": {},
   "source": [
    "## Linear Regression"
   ]
  },
  {
   "cell_type": "code",
   "execution_count": 65,
   "metadata": {},
   "outputs": [],
   "source": [
    "## The Equator, or line of 0 degrees latitude, divides the Earth into the Northern and Southern hemispheres. \n",
    "## Create two dataframes, one holds northern hemisphere data, one holds southern hemisphere data\n",
    "northern_hemi_df = clean_city_weather_df.loc[clean_city_weather_df['Lat'] >= 0]\n",
    "southern_hemi_df = clean_city_weather_df.loc[clean_city_weather_df['Lat'] < 0]"
   ]
  },
  {
   "cell_type": "code",
   "execution_count": 66,
   "metadata": {},
   "outputs": [],
   "source": [
    "## Define a function to print r-squared value\n",
    "## R-squared is a goodness-of-fit measure for linear regression models\n",
    "def display_r_squared_line(x_values, y_values):\n",
    "    print(f\"The r-squared is: {round(st.pearsonr(x_values, y_values)[0],9)}\")\n",
    "    print(\"\\n\")\n",
    "\n",
    "## Define a function for creating linear regression, and then draw scatter plot\n",
    "def calc_linear_regress_func(x_values, y_values):\n",
    "    ## Calculate the line y = kx + b\n",
    "    (slope, intercept, rvalue, pvalue, stderr) = linregress(x_values, y_values)\n",
    "    regress_values = x_values * slope + intercept\n",
    "    line_eq = \"y = \" + str(round(slope,2)) + \"x + \" + str(round(intercept,2))\n",
    "    \n",
    "    ## Plot the scatter plot with regression line\n",
    "    plt.scatter(x_values, y_values)\n",
    "    plt.plot(x_values, regress_values, \"r-\")\n",
    "    \n",
    "    return line_eq\n",
    "\n",
    "## print the regression line\n",
    "def print_regress_line_func(line_eq, a, b):\n",
    "    plt.annotate(line_eq, (a, b), fontsize=15, color=\"red\")\n",
    "\n",
    "## print the equation on the plot\n",
    "def display_line_eq_func(line_eq):\n",
    "    ax1.annotate(line_eq, xy=(20, 40), xycoords='data',xytext=(0.8, 0.95), textcoords='axes fraction',horizontalalignment='right', verticalalignment='top',fontsize=15,color=\"red\")\n",
    "    "
   ]
  },
  {
   "cell_type": "code",
   "execution_count": null,
   "metadata": {},
   "outputs": [],
   "source": []
  },
  {
   "cell_type": "markdown",
   "metadata": {},
   "source": [
    "####  Northern Hemisphere - Max Temp vs. Latitude Linear Regression"
   ]
  },
  {
   "cell_type": "code",
   "execution_count": 67,
   "metadata": {},
   "outputs": [
    {
     "name": "stdout",
     "output_type": "stream",
     "text": [
      "The r-squared is: -0.887958337\n",
      "\n",
      "\n"
     ]
    },
    {
     "data": {
      "image/png": "[encoded data removed]",
      "text/plain": [
       "<Figure size 432x288 with 1 Axes>"
      ]
     },
     "metadata": {
      "needs_background": "light"
     },
     "output_type": "display_data"
    }
   ],
   "source": [
    "## Display r-squared statement: \n",
    "display_r_squared_line(northern_hemi_df['Lat'], northern_hemi_df['Max Temp'])\n",
    "\n",
    "## Call calc_linear_regress_func to calculate and display the regression line equation\n",
    "north_hemi_temp_line_eq = calc_linear_regress_func(northern_hemi_df['Lat'], northern_hemi_df['Max Temp'])\n",
    "\n",
    "## Call print_regress_line_func\n",
    "print_regress_line_func(north_hemi_temp_line_eq, 6, 10)\n",
    "\n",
    "## Set the title, x-label and y-label\n",
    "plt.title('Northern Hemisphere - Max Temp vs. Latitude Linear Regression', loc='center', wrap=True)\n",
    "\n",
    "plt.xlabel('Latitude')\n",
    "plt.ylabel('Max Temp (F)')\n",
    "\n",
    "# Save the plot\n",
    "plt.savefig(\"../output_data/NorthernHemisphere_MaxTemp_vs_Latitude_LinearRegression.png\")\n",
    "\n",
    "## Display the plot:\n",
    "plt.tight_layout()\n",
    "plt.show()\n"
   ]
  },
  {
   "cell_type": "markdown",
   "metadata": {},
   "source": [
    "Note: The relatively tight fit of the regression model with the data points of Latitute & Max Temperature for the Northern Hemisphere. \n",
    "?? Not sure why the r-squared is negative. I thought it should be around 0.6 - 0.7 instead."
   ]
  },
  {
   "cell_type": "code",
   "execution_count": null,
   "metadata": {},
   "outputs": [],
   "source": []
  },
  {
   "cell_type": "markdown",
   "metadata": {},
   "source": [
    "####  Southern Hemisphere - Max Temp vs. Latitude Linear Regression"
   ]
  },
  {
   "cell_type": "code",
   "execution_count": 68,
   "metadata": {},
   "outputs": [
    {
     "name": "stdout",
     "output_type": "stream",
     "text": [
      "The r-squared is: 0.611926822\n",
      "\n",
      "\n"
     ]
    },
    {
     "data": {
      "image/png": "[encoded data removed]",
      "text/plain": [
       "<Figure size 432x288 with 1 Axes>"
      ]
     },
     "metadata": {
      "needs_background": "light"
     },
     "output_type": "display_data"
    }
   ],
   "source": [
    "## Display r-squared statement: \n",
    "display_r_squared_line(southern_hemi_df['Lat'], southern_hemi_df['Max Temp'])\n",
    "\n",
    "## Call calc_linear_regress_func to calculate and display the regression line equation\n",
    "south_hemi_temp_line_eq = calc_linear_regress_func(southern_hemi_df['Lat'], southern_hemi_df['Max Temp'])\n",
    "\n",
    "## Call print_regress_line_func\n",
    "print_regress_line_func(south_hemi_temp_line_eq, -30, 50)\n",
    "\n",
    "## Set the title, x-label and y-label\n",
    "plt.title('Southern Hemisphere - Max Temp vs. Latitude Linear Regression', loc='center', wrap=True)\n",
    "plt.xlabel('Latitude')\n",
    "plt.ylabel('Max Temp (F)')\n",
    "\n",
    "# Save the plot\n",
    "plt.savefig(\"../output_data/SouthernHemisphere_MaxTemp_vs_Latitude_LinearRegression.png\")\n",
    "\n",
    "## Display the plot:\n",
    "plt.show()\n"
   ]
  },
  {
   "cell_type": "markdown",
   "metadata": {},
   "source": [
    "Note: We can see a positive correlation was observed between the latitude and the maximum temperature for Southern Hemisphere."
   ]
  },
  {
   "cell_type": "markdown",
   "metadata": {},
   "source": [
    "####  Northern Hemisphere - Humidity (%) vs. Latitude Linear Regression"
   ]
  },
  {
   "cell_type": "code",
   "execution_count": 69,
   "metadata": {},
   "outputs": [
    {
     "name": "stdout",
     "output_type": "stream",
     "text": [
      "The r-squared is: 0.415234897\n",
      "\n",
      "\n"
     ]
    },
    {
     "data": {
      "image/png": "[encoded data removed]",
      "text/plain": [
       "<Figure size 432x288 with 1 Axes>"
      ]
     },
     "metadata": {
      "needs_background": "light"
     },
     "output_type": "display_data"
    }
   ],
   "source": [
    "## Display r-squared statement: \n",
    "display_r_squared_line(northern_hemi_df['Lat'], northern_hemi_df['Humidity'])\n",
    "\n",
    "## Call calc_linear_regress_func to calculate and display the regression line equation\n",
    "north_Lat_hum_line_eq = calc_linear_regress_func(northern_hemi_df['Lat'], northern_hemi_df['Humidity'])\n",
    "\n",
    "## Call print_regress_line_func\n",
    "print_regress_line_func(north_Lat_hum_line_eq, 38, 15)\n",
    "\n",
    "## Set the title, x-label and y-label\n",
    "# plt.title('Northern Hemisphere - Humidity (%) vs. Latitude Linear Regression',fontsize =15)\n",
    "plt.title('Northern Hemisphere - Humidity (%) vs. Latitude Linear Regression', loc='center', wrap=True)\n",
    "plt.xlabel('Latitude')\n",
    "plt.ylabel('Humidity (%)')\n",
    "\n",
    "# Save the plot\n",
    "plt.savefig(\"../output_data/NorthernHemisphere_Humidity_vs_Latitude_LinearRegression.png\")\n",
    "\n",
    "## Display the plot:\n",
    "plt.tight_layout()\n",
    "plt.show()"
   ]
  },
  {
   "cell_type": "markdown",
   "metadata": {},
   "source": [
    "Note: Moderate positive correlation between Lat and Humidity for the Northern Hemisphere."
   ]
  },
  {
   "cell_type": "markdown",
   "metadata": {},
   "source": [
    "####  Southern Hemisphere - Humidity (%) vs. Latitude Linear Regression"
   ]
  },
  {
   "cell_type": "code",
   "execution_count": 70,
   "metadata": {},
   "outputs": [
    {
     "name": "stdout",
     "output_type": "stream",
     "text": [
      "The r-squared is: 0.155150872\n",
      "\n",
      "\n"
     ]
    },
    {
     "data": {
      "image/png": "[encoded data removed]",
      "text/plain": [
       "<Figure size 432x288 with 1 Axes>"
      ]
     },
     "metadata": {
      "needs_background": "light"
     },
     "output_type": "display_data"
    }
   ],
   "source": [
    "## Display r-squared statement: \n",
    "display_r_squared_line(southern_hemi_df['Lat'], southern_hemi_df['Humidity'])\n",
    "\n",
    "## Call calc_linear_regress_func to calculate and display the regression line equation\n",
    "south_hemi_hum_line_eq = calc_linear_regress_func(southern_hemi_df['Lat'], southern_hemi_df['Humidity'])\n",
    "\n",
    "## Call print_regress_line_func\n",
    "print_regress_line_func(south_hemi_hum_line_eq, -25, 40)\n",
    "\n",
    "## Set the title, x-label and y-label\n",
    "plt.title('Southern Hemisphere - Humidity (%) vs. Latitude Linear Regression',loc='center', wrap=True)\n",
    "plt.xlabel('Latitude')\n",
    "plt.ylabel('Humidity (%)')\n",
    "\n",
    "# Save the plot\n",
    "plt.savefig(\"../output_data/SouthernHemisphere_Humidity_vs_Latitude_LinearRegression.png\")\n",
    "\n",
    "## Display the plot:\n",
    "plt.show()\n"
   ]
  },
  {
   "cell_type": "markdown",
   "metadata": {},
   "source": [
    "Note: For Southern hemisphere, We can see a small positive correlation between humidity and latitude. "
   ]
  },
  {
   "cell_type": "code",
   "execution_count": null,
   "metadata": {},
   "outputs": [],
   "source": []
  },
  {
   "cell_type": "markdown",
   "metadata": {},
   "source": [
    "####  Northern Hemisphere - Cloudiness (%) vs. Latitude Linear Regression"
   ]
  },
  {
   "cell_type": "code",
   "execution_count": 71,
   "metadata": {},
   "outputs": [
    {
     "name": "stdout",
     "output_type": "stream",
     "text": [
      "The r-squared is: 0.200999562\n",
      "\n",
      "\n"
     ]
    },
    {
     "data": {
      "image/png": "[encoded data removed]",
      "text/plain": [
       "<Figure size 432x288 with 1 Axes>"
      ]
     },
     "metadata": {
      "needs_background": "light"
     },
     "output_type": "display_data"
    }
   ],
   "source": [
    "## Display r-squared statement: \n",
    "display_r_squared_line(northern_hemi_df['Lat'], northern_hemi_df['Cloudiness'])\n",
    "\n",
    "## Call calc_linear_regress_func to calculate and display the regression line equation\n",
    "north_Lat_cloud_line_eq = calc_linear_regress_func(northern_hemi_df['Lat'], northern_hemi_df['Cloudiness'])\n",
    "\n",
    "## Call print_regress_line_func\n",
    "print_regress_line_func(north_Lat_cloud_line_eq, 35, 45)\n",
    "\n",
    "## Set the title, x-label and y-label\n",
    "plt.title('Northern Hemisphere - Cloudiness (%) vs. Latitude Linear Regression', loc='center', wrap=True)\n",
    "plt.xlabel('Latitude')\n",
    "plt.ylabel('Cloudiness')\n",
    "\n",
    "# Save the plot\n",
    "plt.savefig(\"../output_data/NorthernHemisphere_Cloudiness_vs_Latitude_LinearRegression.png\")\n",
    "\n",
    "## Display the plot:\n",
    "plt.tight_layout()\n",
    "plt.show()"
   ]
  },
  {
   "cell_type": "markdown",
   "metadata": {},
   "source": [
    "Note: Slightly positive correlation between latitude and Cloudiness. "
   ]
  },
  {
   "cell_type": "code",
   "execution_count": null,
   "metadata": {},
   "outputs": [],
   "source": []
  },
  {
   "cell_type": "markdown",
   "metadata": {},
   "source": [
    "####  Southern Hemisphere - Cloudiness (%) vs. Latitude Linear Regression"
   ]
  },
  {
   "cell_type": "code",
   "execution_count": 72,
   "metadata": {},
   "outputs": [
    {
     "name": "stdout",
     "output_type": "stream",
     "text": [
      "The r-squared is: 0.221768524\n",
      "\n",
      "\n"
     ]
    },
    {
     "data": {
      "image/png": "[encoded data removed]",
      "text/plain": [
       "<Figure size 432x288 with 1 Axes>"
      ]
     },
     "metadata": {
      "needs_background": "light"
     },
     "output_type": "display_data"
    }
   ],
   "source": [
    "## Display r-squared statement: \n",
    "display_r_squared_line(southern_hemi_df['Lat'], southern_hemi_df['Cloudiness'])\n",
    "\n",
    "## Call calc_linear_regress_func to calculate and display the regression line equation\n",
    "south_hemi_cloud_line_eq = calc_linear_regress_func(southern_hemi_df['Lat'], southern_hemi_df['Cloudiness'])\n",
    "\n",
    "## Call print_regress_line_func\n",
    "print_regress_line_func(south_hemi_cloud_line_eq, -25, 30)\n",
    "\n",
    "## Set the title, x-label and y-label\n",
    "plt.title('Southern Hemisphere - Cloudiness (%) vs. Latitude Linear Regression', loc='center', wrap=True)\n",
    "plt.xlabel('Latitude')\n",
    "plt.ylabel('Cloudiness')\n",
    "\n",
    "# Save the plot\n",
    "plt.savefig(\"../output_data/SouthernHemisphere_Cloudiness_vs_Latitude_LinearRegression.png\")\n",
    "\n",
    "## Display the plot:\n",
    "plt.show()\n"
   ]
  },
  {
   "cell_type": "markdown",
   "metadata": {},
   "source": [
    "Note: The correlation between cloudiness and city latitude is not strong. We can see a slightly correlation between them."
   ]
  },
  {
   "cell_type": "code",
   "execution_count": null,
   "metadata": {},
   "outputs": [],
   "source": []
  },
  {
   "cell_type": "markdown",
   "metadata": {},
   "source": [
    "####  Northern Hemisphere - Wind Speed (mph) vs. Latitude Linear Regression"
   ]
  },
  {
   "cell_type": "code",
   "execution_count": 74,
   "metadata": {},
   "outputs": [
    {
     "name": "stdout",
     "output_type": "stream",
     "text": [
      "The r-squared is: 0.110749492\n",
      "\n",
      "\n"
     ]
    },
    {
     "data": {
      "image/png": "[encoded data removed]",
      "text/plain": [
       "<Figure size 432x288 with 1 Axes>"
      ]
     },
     "metadata": {
      "needs_background": "light"
     },
     "output_type": "display_data"
    }
   ],
   "source": [
    "## Display r-squared statement: \n",
    "display_r_squared_line(northern_hemi_df['Lat'], northern_hemi_df['Wind Speed'])\n",
    "\n",
    "## Call calc_linear_regress_func to calculate and display the regression line equation\n",
    "north_Lat_wind_line_eq = calc_linear_regress_func(northern_hemi_df['Lat'], northern_hemi_df['Wind Speed'])\n",
    "\n",
    "# plt.figure(figsize=(15,10))\n",
    "\n",
    "## Call print_regress_line_func\n",
    "print_regress_line_func(north_Lat_wind_line_eq, 30, 35)\n",
    "\n",
    "## Set the title, x-label and y-label\n",
    "plt.title('Northern Hemisphere - Wind Speed (mph) vs. Latitude Linear Regression', loc='center', wrap=True)\n",
    "plt.xlabel('Latitude')\n",
    "plt.ylabel('Wind Speed (mph)')\n",
    "\n",
    "# Save the plot\n",
    "plt.savefig(\"../output_data/NorthernHemisphere_wind_vs_Latitude_LinearRegression.png\")\n",
    "\n",
    "## Display the plot:\n",
    "plt.tight_layout()\n",
    "plt.show()"
   ]
  },
  {
   "cell_type": "markdown",
   "metadata": {},
   "source": [
    "Note: In Northern hemisphere, there is a very small positive correlation between the Wind Speed and Latitude."
   ]
  },
  {
   "cell_type": "code",
   "execution_count": null,
   "metadata": {},
   "outputs": [],
   "source": []
  },
  {
   "cell_type": "markdown",
   "metadata": {},
   "source": [
    "####  Southern Hemisphere - Wind Speed (mph) vs. Latitude Linear Regression"
   ]
  },
  {
   "cell_type": "code",
   "execution_count": 75,
   "metadata": {},
   "outputs": [
    {
     "name": "stdout",
     "output_type": "stream",
     "text": [
      "The r-squared is: -0.011644367\n",
      "\n",
      "\n"
     ]
    },
    {
     "data": {
      "image/png": "[encoded data removed]",
      "text/plain": [
       "<Figure size 432x288 with 1 Axes>"
      ]
     },
     "metadata": {
      "needs_background": "light"
     },
     "output_type": "display_data"
    }
   ],
   "source": [
    "## Display r-squared statement: \n",
    "display_r_squared_line(southern_hemi_df['Lat'], southern_hemi_df['Wind Speed'])\n",
    "\n",
    "## Call calc_linear_regress_func to calculate and display the regression line equation\n",
    "south_hemi_wind_line_eq = calc_linear_regress_func(southern_hemi_df['Lat'], southern_hemi_df['Wind Speed'])\n",
    "\n",
    "## Call print_regress_line_func\n",
    "print_regress_line_func(south_hemi_wind_line_eq, -30, 20)\n",
    "\n",
    "## Set the title, x-label and y-label\n",
    "plt.title('Southern Hemisphere - Wind Speed (mph) vs. Latitude Linear Regression', loc='center', wrap=True)\n",
    "plt.xlabel('Latitude')\n",
    "plt.ylabel('Wind Speed (mph)')\n",
    "\n",
    "# Save the plot\n",
    "plt.savefig(\"../output_data/SouthernHemisphere_wind_vs_Latitude_LinearRegression.png\")\n",
    "\n",
    "## Display the plot:\n",
    "plt.show()\n"
   ]
  },
  {
   "cell_type": "markdown",
   "metadata": {},
   "source": [
    "Note: In the Southern hemisphere, based on the data gathered, as the latitute increases, the wind speed stays the fairly stable."
   ]
  },
  {
   "cell_type": "code",
   "execution_count": null,
   "metadata": {},
   "outputs": [],
   "source": []
  },
  {
   "cell_type": "code",
   "execution_count": null,
   "metadata": {},
   "outputs": [],
   "source": []
  }
 ],
 "metadata": {
  "anaconda-cloud": {},
  "kernel_info": {
   "name": "python3"
  },
  "kernelspec": {
   "display_name": "Python 3",
   "language": "python",
   "name": "python3"
  },
  "language_info": {
   "codemirror_mode": {
    "name": "ipython",
    "version": 3
   },
   "file_extension": ".py",
   "mimetype": "text/x-python",
   "name": "python",
   "nbconvert_exporter": "python",
   "pygments_lexer": "ipython3",
   "version": "3.8.5"
  },
  "latex_envs": {
   "LaTeX_envs_menu_present": true,
   "autoclose": false,
   "autocomplete": true,
   "bibliofile": "biblio.bib",
   "cite_by": "apalike",
   "current_citInitial": 1,
   "eqLabelWithNumbers": true,
   "eqNumInitial": 1,
   "hotkeys": {
    "equation": "Ctrl-E",
    "itemize": "Ctrl-I"
   },
   "labels_anchors": false,
   "latex_user_defs": false,
   "report_style_numbering": false,
   "user_envs_cfg": false
  },
  "nteract": {
   "version": "0.12.3"
  }
 },
 "nbformat": 4,
 "nbformat_minor": 4
}
