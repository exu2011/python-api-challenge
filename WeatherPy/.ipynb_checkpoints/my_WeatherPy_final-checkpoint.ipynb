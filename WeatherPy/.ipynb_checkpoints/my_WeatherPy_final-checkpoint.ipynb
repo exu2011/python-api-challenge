{
 "cells": [
  {
   "cell_type": "markdown",
   "metadata": {},
   "source": [
    "# WeatherPy\n",
    "----\n",
    "\n",
    "#### Note\n",
    "* Instructions have been included for each segment. You do not have to follow them exactly, but they are included to help you think through the steps."
   ]
  },
  {
   "cell_type": "code",
   "execution_count": 27,
   "metadata": {
    "scrolled": true
   },
   "outputs": [],
   "source": [
    "# Dependencies and Setup\n",
    "import matplotlib.pyplot as plt\n",
    "import pandas as pd\n",
    "import numpy as np\n",
    "import requests\n",
    "import time\n",
    "from scipy.stats import linregress\n",
    "import scipy.stats as st\n",
    "import pprint as pprint\n",
    "import json\n",
    "\n",
    "# Import API key\n",
    "from api_keys import weather_api_key\n",
    "\n",
    "# Incorporated citipy to determine city based on latitude and longitude\n",
    "## Install it from cmd prompt: (base) C:\\me\\Programming>pip install citipy\n",
    "from citipy import citipy\n",
    "\n",
    "# Output File (CSV)\n",
    "output_data_file = \"../output_data/cities.csv\"\n",
    "\n",
    "# Range of latitudes and longitudes\n",
    "lat_range = (-90, 90)\n",
    "lng_range = (-180, 180)"
   ]
  },
  {
   "cell_type": "code",
   "execution_count": null,
   "metadata": {},
   "outputs": [],
   "source": []
  },
  {
   "cell_type": "markdown",
   "metadata": {},
   "source": [
    "## Generate Cities List"
   ]
  },
  {
   "cell_type": "code",
   "execution_count": 28,
   "metadata": {},
   "outputs": [
    {
     "data": {
      "text/plain": [
       "591"
      ]
     },
     "execution_count": 28,
     "metadata": {},
     "output_type": "execute_result"
    }
   ],
   "source": [
    "# List for holding lat_lngs and cities\n",
    "lat_lngs = []\n",
    "cities = []\n",
    "\n",
    "# Create a set of random lat and lng combinations\n",
    "## random.uniform: Draw samples from a uniform distribution.\n",
    "## returns a zip object, which is an iterator of tuples where the first item in each passed iterator is paired together, and then the second item in each passed iterator are paired together etc.\n",
    "lats = np.random.uniform(lat_range[0], lat_range[1], size=1500)\n",
    "lngs = np.random.uniform(lng_range[0], lng_range[1], size=1500)\n",
    "\n",
    "## create (lat, lng) tuple lists\n",
    "lat_lngs = zip(lats, lngs)\n",
    "\n",
    "# Identify nearest city for each lat, lng combination\n",
    "for lat_lng in lat_lngs:\n",
    "    city = citipy.nearest_city(lat_lng[0], lat_lng[1]).city_name\n",
    "    \n",
    "    # If the city is unique, then add it to a our cities list\n",
    "    if city not in cities:\n",
    "        cities.append(city)\n",
    "\n",
    "# Print the city count to confirm sufficient count\n",
    "len(cities)"
   ]
  },
  {
   "cell_type": "code",
   "execution_count": 29,
   "metadata": {},
   "outputs": [],
   "source": [
    "## fetch the first 60 cities and use it as a test set for coding\n",
    "# test_cities = cities[0:70]"
   ]
  },
  {
   "cell_type": "markdown",
   "metadata": {},
   "source": [
    "### Perform API Calls\n",
    "* Perform a weather check on each city using a series of successive API calls.\n",
    "* Include a print log of each city as it'sbeing processed (with the city number and city name).\n"
   ]
  },
  {
   "cell_type": "markdown",
   "metadata": {},
   "source": [
    "Weather Check Using API Calls"
   ]
  },
  {
   "cell_type": "code",
   "execution_count": 30,
   "metadata": {},
   "outputs": [],
   "source": [
    "MAX_NUM_RECORD_PER_SET = 49\n",
    "\n",
    "# Save config information.\n",
    "url = \"http://api.openweathermap.org/data/2.5/weather?\"\n",
    "# api.openweathermap.org/data/2.5/weather?q={city name}&appid={API key}\n",
    "\n",
    "units = \"imperial\"\n",
    "\n",
    "# Build partial query URL\n",
    "query_url = f\"{url}appid={weather_api_key}&units={units}&q=\""
   ]
  },
  {
   "cell_type": "code",
   "execution_count": 31,
   "metadata": {},
   "outputs": [
    {
     "name": "stdout",
     "output_type": "stream",
     "text": [
      "Beginning Data Retrieval\n",
      "-------------------------------\n",
      "Processing Record 0 of Set 1 | marigot\n",
      "Processing Record 1 of Set 1 | mar del plata\n",
      "Processing Record 2 of Set 1 | whitehorse\n",
      "City | sentyabrskiy not found. Skipping...\n",
      "Processing Record 3 of Set 1 | villa carlos paz\n",
      "Processing Record 4 of Set 1 | poum\n",
      "Processing Record 5 of Set 1 | mataura\n",
      "Processing Record 6 of Set 1 | mikuni\n",
      "Processing Record 7 of Set 1 | atar\n",
      "Processing Record 8 of Set 1 | bluff\n",
      "Processing Record 9 of Set 1 | pangnirtung\n",
      "Processing Record 10 of Set 1 | punta arenas\n",
      "City | taolanaro not found. Skipping...\n",
      "Processing Record 11 of Set 1 | nacogdoches\n",
      "Processing Record 12 of Set 1 | inhambane\n",
      "Processing Record 13 of Set 1 | nyakabindi\n",
      "Processing Record 14 of Set 1 | nikolskoye\n",
      "Processing Record 15 of Set 1 | busselton\n",
      "Processing Record 16 of Set 1 | bethel\n",
      "Processing Record 17 of Set 1 | grenada\n",
      "Processing Record 18 of Set 1 | kautokeino\n",
      "Processing Record 19 of Set 1 | qaanaaq\n",
      "Processing Record 20 of Set 1 | tikhvin\n",
      "Processing Record 21 of Set 1 | sao filipe\n",
      "Processing Record 22 of Set 1 | madingou\n",
      "Processing Record 23 of Set 1 | neiafu\n",
      "Processing Record 24 of Set 1 | mitsamiouli\n",
      "Processing Record 25 of Set 1 | lompoc\n",
      "Processing Record 26 of Set 1 | san patricio\n",
      "Processing Record 27 of Set 1 | clyde river\n",
      "Processing Record 28 of Set 1 | ushuaia\n",
      "Processing Record 29 of Set 1 | half moon bay\n",
      "Processing Record 30 of Set 1 | tabou\n",
      "Processing Record 31 of Set 1 | girne\n",
      "Processing Record 32 of Set 1 | cape town\n",
      "City | chagda not found. Skipping...\n",
      "Processing Record 33 of Set 1 | tasiilaq\n",
      "Processing Record 34 of Set 1 | klaksvik\n",
      "Processing Record 35 of Set 1 | yeniseysk\n",
      "Processing Record 36 of Set 1 | butaritari\n",
      "Processing Record 37 of Set 1 | albany\n",
      "Processing Record 38 of Set 1 | marsaxlokk\n",
      "Processing Record 39 of Set 1 | khatanga\n",
      "Processing Record 40 of Set 1 | dikson\n",
      "Processing Record 41 of Set 1 | nanortalik\n",
      "Processing Record 42 of Set 1 | atuona\n",
      "Processing Record 43 of Set 1 | sitka\n",
      "Processing Record 44 of Set 1 | erzin\n",
      "Processing Record 45 of Set 1 | saskylakh\n",
      "Processing Record 46 of Set 1 | hobart\n",
      "Processing Record 47 of Set 1 | lebu\n",
      "Processing Record 48 of Set 1 | tuktoyaktuk\n",
      "Processing Record 49 of Set 1 | saint-philippe\n",
      "Processing Record 0 of Set 2 | berlevag\n",
      "Processing Record 1 of Set 2 | talnakh\n",
      "City | nizhneyansk not found. Skipping...\n",
      "Processing Record 2 of Set 2 | vila\n",
      "Processing Record 3 of Set 2 | hambantota\n",
      "Processing Record 4 of Set 2 | avarua\n",
      "Processing Record 5 of Set 2 | tilichiki\n",
      "Processing Record 6 of Set 2 | tiznit\n",
      "City | cheuskiny not found. Skipping...\n",
      "Processing Record 7 of Set 2 | iqaluit\n",
      "Processing Record 8 of Set 2 | port alfred\n",
      "Processing Record 9 of Set 2 | plettenberg bay\n",
      "Processing Record 10 of Set 2 | puerto ayora\n",
      "Processing Record 11 of Set 2 | jamestown\n",
      "Processing Record 12 of Set 2 | polis\n",
      "Processing Record 13 of Set 2 | trairi\n",
      "Processing Record 14 of Set 2 | bredasdorp\n",
      "Processing Record 15 of Set 2 | east london\n",
      "Processing Record 16 of Set 2 | rikitea\n",
      "City | samusu not found. Skipping...\n",
      "Processing Record 17 of Set 2 | portland\n",
      "Processing Record 18 of Set 2 | palmer\n",
      "Processing Record 19 of Set 2 | esperance\n",
      "City | uk not found. Skipping...\n",
      "Processing Record 20 of Set 2 | lavrentiya\n",
      "Processing Record 21 of Set 2 | melfi\n",
      "City | tsihombe not found. Skipping...\n",
      "Processing Record 22 of Set 2 | hermanus\n",
      "Processing Record 23 of Set 2 | pisco\n",
      "Processing Record 24 of Set 2 | hasaki\n",
      "Processing Record 25 of Set 2 | georgetown\n",
      "Processing Record 26 of Set 2 | vao\n",
      "Processing Record 27 of Set 2 | geraldton\n",
      "Processing Record 28 of Set 2 | yellowknife\n",
      "Processing Record 29 of Set 2 | ostrovnoy\n",
      "Processing Record 30 of Set 2 | santa helena de goias\n",
      "Processing Record 31 of Set 2 | llanes\n",
      "Processing Record 32 of Set 2 | rawson\n",
      "Processing Record 33 of Set 2 | kathmandu\n",
      "Processing Record 34 of Set 2 | maumere\n",
      "Processing Record 35 of Set 2 | boca do acre\n",
      "Processing Record 36 of Set 2 | lircay\n",
      "Processing Record 37 of Set 2 | kiama\n",
      "Processing Record 38 of Set 2 | ancud\n",
      "Processing Record 39 of Set 2 | saint-vallier\n",
      "Processing Record 40 of Set 2 | khasan\n",
      "Processing Record 41 of Set 2 | chokurdakh\n",
      "Processing Record 42 of Set 2 | thompson\n",
      "City | fort saint john not found. Skipping...\n",
      "Processing Record 43 of Set 2 | hilo\n",
      "Processing Record 44 of Set 2 | magadan\n",
      "Processing Record 45 of Set 2 | castro\n",
      "Processing Record 46 of Set 2 | matara\n",
      "Processing Record 47 of Set 2 | samarai\n",
      "Processing Record 48 of Set 2 | faanui\n",
      "Processing Record 49 of Set 2 | itiuba\n",
      "Processing Record 0 of Set 3 | dinghai\n",
      "Processing Record 1 of Set 3 | hatillo\n",
      "Processing Record 2 of Set 3 | kargasok\n",
      "Processing Record 3 of Set 3 | lagoa\n",
      "Processing Record 4 of Set 3 | san luis\n",
      "Processing Record 5 of Set 3 | treinta y tres\n",
      "City | illoqqortoormiut not found. Skipping...\n",
      "City | bolungarvik not found. Skipping...\n",
      "Processing Record 6 of Set 3 | belyy yar\n",
      "City | barentsburg not found. Skipping...\n",
      "Processing Record 7 of Set 3 | kavaratti\n",
      "Processing Record 8 of Set 3 | ketchikan\n",
      "Processing Record 9 of Set 3 | baiquan\n",
      "Processing Record 10 of Set 3 | muli\n",
      "Processing Record 11 of Set 3 | kang\n",
      "Processing Record 12 of Set 3 | sangar\n",
      "Processing Record 13 of Set 3 | moree\n",
      "Processing Record 14 of Set 3 | yichang\n",
      "Processing Record 15 of Set 3 | caravelas\n",
      "City | attawapiskat not found. Skipping...\n",
      "Processing Record 16 of Set 3 | vila velha\n",
      "Processing Record 17 of Set 3 | new norfolk\n",
      "City | umm durman not found. Skipping...\n",
      "Processing Record 18 of Set 3 | verkhoyansk\n",
      "Processing Record 19 of Set 3 | praia da vitoria\n",
      "Processing Record 20 of Set 3 | vrangel\n",
      "Processing Record 21 of Set 3 | abha\n",
      "Processing Record 22 of Set 3 | marawi\n",
      "Processing Record 23 of Set 3 | kurilsk\n",
      "Processing Record 24 of Set 3 | carnarvon\n",
      "Processing Record 25 of Set 3 | saint-francois\n",
      "Processing Record 26 of Set 3 | dunedin\n",
      "Processing Record 27 of Set 3 | vaini\n",
      "Processing Record 28 of Set 3 | katsuura\n",
      "Processing Record 29 of Set 3 | oksfjord\n",
      "Processing Record 30 of Set 3 | acucena\n",
      "Processing Record 31 of Set 3 | deputatskiy\n",
      "Processing Record 32 of Set 3 | cherskiy\n",
      "Processing Record 33 of Set 3 | cam ranh\n",
      "City | belushya guba not found. Skipping...\n",
      "Processing Record 34 of Set 3 | barabai\n",
      "Processing Record 35 of Set 3 | yenagoa\n",
      "Processing Record 36 of Set 3 | pevek\n",
      "Processing Record 37 of Set 3 | fortuna\n",
      "Processing Record 38 of Set 3 | lorengau\n",
      "Processing Record 39 of Set 3 | kakogawa\n",
      "City | mys shmidta not found. Skipping...\n",
      "Processing Record 40 of Set 3 | longyearbyen\n",
      "Processing Record 41 of Set 3 | grand gaube\n",
      "Processing Record 42 of Set 3 | orlovskiy\n",
      "Processing Record 43 of Set 3 | kuytun\n",
      "Processing Record 44 of Set 3 | upernavik\n",
      "Processing Record 45 of Set 3 | arlit\n",
      "Processing Record 46 of Set 3 | ribeira grande\n",
      "Processing Record 47 of Set 3 | gamba\n",
      "Processing Record 48 of Set 3 | morgan city\n",
      "Processing Record 49 of Set 3 | dongying\n",
      "Processing Record 0 of Set 4 | pultusk\n",
      "Processing Record 1 of Set 4 | college\n",
      "Processing Record 2 of Set 4 | sankeshwar\n",
      "Processing Record 3 of Set 4 | karasjok\n",
      "Processing Record 4 of Set 4 | hithadhoo\n",
      "Processing Record 5 of Set 4 | shiyan\n",
      "Processing Record 6 of Set 4 | korla\n",
      "Processing Record 7 of Set 4 | orsha\n",
      "City | yuzhno-yeniseyskiy not found. Skipping...\n",
      "Processing Record 8 of Set 4 | bambous virieux\n",
      "Processing Record 9 of Set 4 | guerrero negro\n",
      "Processing Record 10 of Set 4 | mogadishu\n",
      "Processing Record 11 of Set 4 | coihaique\n",
      "Processing Record 12 of Set 4 | tual\n",
      "Processing Record 13 of Set 4 | torit\n",
      "Processing Record 14 of Set 4 | nelson bay\n",
      "Processing Record 15 of Set 4 | imbituba\n",
      "Processing Record 16 of Set 4 | namibe\n",
      "Processing Record 17 of Set 4 | te anau\n",
      "Processing Record 18 of Set 4 | lufilufi\n",
      "Processing Record 19 of Set 4 | torbay\n",
      "Processing Record 20 of Set 4 | necochea\n",
      "Processing Record 21 of Set 4 | yangambi\n",
      "Processing Record 22 of Set 4 | aykhal\n",
      "Processing Record 23 of Set 4 | buala\n",
      "Processing Record 24 of Set 4 | srednekolymsk\n",
      "Processing Record 25 of Set 4 | norman wells\n",
      "Processing Record 26 of Set 4 | meadow lake\n",
      "Processing Record 27 of Set 4 | los llanos de aridane\n",
      "Processing Record 28 of Set 4 | kapaa\n",
      "Processing Record 29 of Set 4 | la asuncion\n",
      "Processing Record 30 of Set 4 | ponta do sol\n",
      "Processing Record 31 of Set 4 | tiksi\n"
     ]
    },
    {
     "name": "stdout",
     "output_type": "stream",
     "text": [
      "Processing Record 32 of Set 4 | nakamura\n",
      "Processing Record 33 of Set 4 | oktyabrskoye\n",
      "Processing Record 34 of Set 4 | pangody\n",
      "Processing Record 35 of Set 4 | tessalit\n",
      "Processing Record 36 of Set 4 | araouane\n",
      "Processing Record 37 of Set 4 | ust-uda\n",
      "Processing Record 38 of Set 4 | taoudenni\n",
      "Processing Record 39 of Set 4 | inuvik\n",
      "Processing Record 40 of Set 4 | port hedland\n",
      "Processing Record 41 of Set 4 | nantucket\n",
      "Processing Record 42 of Set 4 | fukue\n",
      "Processing Record 43 of Set 4 | zhigansk\n",
      "Processing Record 44 of Set 4 | luderitz\n",
      "Processing Record 45 of Set 4 | belmopan\n",
      "Processing Record 46 of Set 4 | rudbar\n",
      "Processing Record 47 of Set 4 | leningradskiy\n",
      "Processing Record 48 of Set 4 | ilulissat\n",
      "Processing Record 49 of Set 4 | lundazi\n",
      "Processing Record 0 of Set 5 | eureka\n",
      "Processing Record 1 of Set 5 | san pedro\n",
      "Processing Record 2 of Set 5 | hay river\n",
      "Processing Record 3 of Set 5 | bermeo\n",
      "Processing Record 4 of Set 5 | dingle\n",
      "Processing Record 5 of Set 5 | skjervoy\n",
      "Processing Record 6 of Set 5 | phan thiet\n",
      "Processing Record 7 of Set 5 | saint anthony\n",
      "Processing Record 8 of Set 5 | barrow\n",
      "City | ituni not found. Skipping...\n",
      "Processing Record 9 of Set 5 | chicama\n",
      "Processing Record 10 of Set 5 | hamilton\n",
      "Processing Record 11 of Set 5 | bagenalstown\n",
      "Processing Record 12 of Set 5 | pimenta bueno\n",
      "Processing Record 13 of Set 5 | cidreira\n",
      "Processing Record 14 of Set 5 | amanganj\n",
      "Processing Record 15 of Set 5 | airai\n",
      "Processing Record 16 of Set 5 | puerto carreno\n",
      "Processing Record 17 of Set 5 | erenhot\n",
      "Processing Record 18 of Set 5 | artesia\n",
      "Processing Record 19 of Set 5 | santa cruz de la palma\n",
      "Processing Record 20 of Set 5 | kerema\n",
      "Processing Record 21 of Set 5 | mandal\n",
      "Processing Record 22 of Set 5 | tuatapere\n",
      "Processing Record 23 of Set 5 | jinchang\n",
      "Processing Record 24 of Set 5 | simao\n",
      "City | dinsor not found. Skipping...\n",
      "Processing Record 25 of Set 5 | margate\n",
      "Processing Record 26 of Set 5 | wuwei\n",
      "Processing Record 27 of Set 5 | beringovskiy\n",
      "Processing Record 28 of Set 5 | bowen\n",
      "Processing Record 29 of Set 5 | yulara\n",
      "Processing Record 30 of Set 5 | la ronge\n",
      "Processing Record 31 of Set 5 | tibati\n",
      "Processing Record 32 of Set 5 | quelimane\n",
      "Processing Record 33 of Set 5 | puerto colombia\n",
      "Processing Record 34 of Set 5 | verkhnevilyuysk\n",
      "Processing Record 35 of Set 5 | kruisfontein\n",
      "Processing Record 36 of Set 5 | cabo san lucas\n",
      "Processing Record 37 of Set 5 | bonnyville\n",
      "Processing Record 38 of Set 5 | preobrazheniye\n",
      "Processing Record 39 of Set 5 | bima\n",
      "Processing Record 40 of Set 5 | saint-georges\n",
      "Processing Record 41 of Set 5 | pout\n",
      "Processing Record 42 of Set 5 | amga\n",
      "Processing Record 43 of Set 5 | sandwick\n",
      "Processing Record 44 of Set 5 | sibolga\n",
      "Processing Record 45 of Set 5 | east angus\n",
      "Processing Record 46 of Set 5 | anloga\n",
      "Processing Record 47 of Set 5 | kearney\n",
      "Processing Record 48 of Set 5 | arraial do cabo\n",
      "Processing Record 49 of Set 5 | shingu\n",
      "Processing Record 0 of Set 6 | bella union\n",
      "Processing Record 1 of Set 6 | brae\n",
      "Processing Record 2 of Set 6 | svencionys\n",
      "Processing Record 3 of Set 6 | padang\n",
      "Processing Record 4 of Set 6 | merrill\n",
      "Processing Record 5 of Set 6 | aripuana\n",
      "Processing Record 6 of Set 6 | asau\n",
      "Processing Record 7 of Set 6 | sakaiminato\n",
      "Processing Record 8 of Set 6 | yarmouth\n",
      "Processing Record 9 of Set 6 | husavik\n",
      "Processing Record 10 of Set 6 | cedar city\n",
      "Processing Record 11 of Set 6 | port elizabeth\n",
      "Processing Record 12 of Set 6 | port lincoln\n",
      "Processing Record 13 of Set 6 | basco\n",
      "Processing Record 14 of Set 6 | sur\n",
      "Processing Record 15 of Set 6 | eskil\n",
      "Processing Record 16 of Set 6 | netanya\n",
      "Processing Record 17 of Set 6 | hailar\n",
      "Processing Record 18 of Set 6 | ishigaki\n",
      "City | phan rang not found. Skipping...\n",
      "Processing Record 19 of Set 6 | ashtabula\n",
      "Processing Record 20 of Set 6 | asyut\n",
      "Processing Record 21 of Set 6 | broome\n",
      "Processing Record 22 of Set 6 | oranjemund\n",
      "Processing Record 23 of Set 6 | barcelona\n",
      "Processing Record 24 of Set 6 | matagami\n",
      "Processing Record 25 of Set 6 | fairbanks\n",
      "Processing Record 26 of Set 6 | santa fe\n",
      "Processing Record 27 of Set 6 | emerald\n",
      "Processing Record 28 of Set 6 | kahului\n",
      "Processing Record 29 of Set 6 | chara\n",
      "Processing Record 30 of Set 6 | qasigiannguit\n",
      "City | ngukurr not found. Skipping...\n",
      "Processing Record 31 of Set 6 | gornopravdinsk\n",
      "Processing Record 32 of Set 6 | chuy\n",
      "City | karaul not found. Skipping...\n",
      "Processing Record 33 of Set 6 | baghdad\n",
      "Processing Record 34 of Set 6 | nemuro\n",
      "Processing Record 35 of Set 6 | olafsvik\n",
      "Processing Record 36 of Set 6 | ahipara\n",
      "Processing Record 37 of Set 6 | palu\n",
      "Processing Record 38 of Set 6 | yarada\n",
      "Processing Record 39 of Set 6 | touros\n",
      "Processing Record 40 of Set 6 | southampton\n",
      "City | saleaula not found. Skipping...\n",
      "Processing Record 41 of Set 6 | santa maria\n",
      "Processing Record 42 of Set 6 | khandyga\n",
      "Processing Record 43 of Set 6 | nata\n",
      "Processing Record 44 of Set 6 | berdigestyakh\n",
      "Processing Record 45 of Set 6 | roswell\n",
      "Processing Record 46 of Set 6 | waingapu\n",
      "City | lolua not found. Skipping...\n",
      "Processing Record 47 of Set 6 | antofagasta\n",
      "Processing Record 48 of Set 6 | colac\n",
      "Processing Record 49 of Set 6 | sakakah\n",
      "Processing Record 0 of Set 7 | lalin\n",
      "City | tumannyy not found. Skipping...\n",
      "Processing Record 1 of Set 7 | puerto madryn\n",
      "Processing Record 2 of Set 7 | provideniya\n",
      "Processing Record 3 of Set 7 | hobyo\n",
      "Processing Record 4 of Set 7 | belaya gora\n",
      "Processing Record 5 of Set 7 | yar-sale\n",
      "Processing Record 6 of Set 7 | manzanillo\n",
      "Processing Record 7 of Set 7 | akonolinga\n",
      "Processing Record 8 of Set 7 | phek\n",
      "Processing Record 9 of Set 7 | kodiak\n",
      "Processing Record 10 of Set 7 | peleduy\n",
      "Processing Record 11 of Set 7 | carnot\n",
      "Processing Record 12 of Set 7 | kidal\n",
      "Processing Record 13 of Set 7 | albert lea\n",
      "Processing Record 14 of Set 7 | strelka\n",
      "Processing Record 15 of Set 7 | zhuhai\n",
      "Processing Record 16 of Set 7 | soe\n",
      "Processing Record 17 of Set 7 | mbandaka\n",
      "City | marcona not found. Skipping...\n",
      "Processing Record 18 of Set 7 | aklavik\n",
      "Processing Record 19 of Set 7 | axim\n",
      "Processing Record 20 of Set 7 | kavieng\n",
      "Processing Record 21 of Set 7 | kabo\n",
      "Processing Record 22 of Set 7 | nishihara\n",
      "Processing Record 23 of Set 7 | mayo\n",
      "Processing Record 24 of Set 7 | haldaur\n",
      "Processing Record 25 of Set 7 | elmira\n",
      "Processing Record 26 of Set 7 | auki\n",
      "Processing Record 27 of Set 7 | moen\n",
      "Processing Record 28 of Set 7 | souillac\n",
      "Processing Record 29 of Set 7 | mahebourg\n",
      "Processing Record 30 of Set 7 | krasnoarmeysk\n",
      "Processing Record 31 of Set 7 | clovis\n",
      "Processing Record 32 of Set 7 | ponta delgada\n",
      "Processing Record 33 of Set 7 | camacha\n",
      "Processing Record 34 of Set 7 | alofi\n",
      "Processing Record 35 of Set 7 | huarmey\n",
      "Processing Record 36 of Set 7 | pascagoula\n",
      "Processing Record 37 of Set 7 | coquimbo\n",
      "Processing Record 38 of Set 7 | weihe\n",
      "Processing Record 39 of Set 7 | parakou\n",
      "Processing Record 40 of Set 7 | voznesenye\n",
      "Processing Record 41 of Set 7 | marienburg\n",
      "Processing Record 42 of Set 7 | itoman\n",
      "Processing Record 43 of Set 7 | bisho\n",
      "Processing Record 44 of Set 7 | san quintin\n",
      "Processing Record 45 of Set 7 | bilibino\n",
      "Processing Record 46 of Set 7 | iracoubo\n",
      "Processing Record 47 of Set 7 | salalah\n",
      "Processing Record 48 of Set 7 | dzaoudzi\n",
      "Processing Record 49 of Set 7 | nikolayevsk-na-amure\n",
      "Processing Record 0 of Set 8 | victoria\n",
      "Processing Record 1 of Set 8 | san mariano\n",
      "Processing Record 2 of Set 8 | taitung\n",
      "City | saryshagan not found. Skipping...\n",
      "Processing Record 3 of Set 8 | nouadhibou\n",
      "Processing Record 4 of Set 8 | voh\n",
      "Processing Record 5 of Set 8 | progreso\n",
      "Processing Record 6 of Set 8 | ixtapa\n",
      "City | amderma not found. Skipping...\n",
      "City | rungata not found. Skipping...\n",
      "Processing Record 7 of Set 8 | djenne\n",
      "Processing Record 8 of Set 8 | edgecumbe\n",
      "Processing Record 9 of Set 8 | agua prieta\n",
      "Processing Record 10 of Set 8 | menongue\n",
      "Processing Record 11 of Set 8 | rio gallegos\n",
      "Processing Record 12 of Set 8 | bengkulu\n",
      "Processing Record 13 of Set 8 | saint-pierre\n",
      "Processing Record 14 of Set 8 | churuquita grande\n",
      "Processing Record 15 of Set 8 | pundaguitan\n",
      "Processing Record 16 of Set 8 | stornoway\n",
      "Processing Record 17 of Set 8 | haapiti\n",
      "Processing Record 18 of Set 8 | hualmay\n",
      "Processing Record 19 of Set 8 | vestmannaeyjar\n",
      "Processing Record 20 of Set 8 | sola\n"
     ]
    },
    {
     "name": "stdout",
     "output_type": "stream",
     "text": [
      "Processing Record 21 of Set 8 | esterhazy\n",
      "Processing Record 22 of Set 8 | harper\n",
      "City | grand river south east not found. Skipping...\n",
      "Processing Record 23 of Set 8 | codrington\n",
      "Processing Record 24 of Set 8 | lima\n",
      "Processing Record 25 of Set 8 | paamiut\n",
      "Processing Record 26 of Set 8 | durango\n",
      "Processing Record 27 of Set 8 | san francisco\n",
      "Processing Record 28 of Set 8 | naze\n",
      "Processing Record 29 of Set 8 | male\n",
      "Processing Record 30 of Set 8 | egvekinot\n",
      "Processing Record 31 of Set 8 | dalvik\n",
      "Processing Record 32 of Set 8 | usinsk\n",
      "City | warqla not found. Skipping...\n",
      "Processing Record 33 of Set 8 | constancia\n",
      "Processing Record 34 of Set 8 | alta gracia\n",
      "Processing Record 35 of Set 8 | kachug\n",
      "Processing Record 36 of Set 8 | manado\n",
      "Processing Record 37 of Set 8 | henties bay\n",
      "Processing Record 38 of Set 8 | nizhnevartovsk\n",
      "Processing Record 39 of Set 8 | rimouski\n",
      "Processing Record 40 of Set 8 | kewanee\n",
      "Processing Record 41 of Set 8 | yoichi\n",
      "Processing Record 42 of Set 8 | kortkeros\n",
      "Processing Record 43 of Set 8 | ucluelet\n",
      "Processing Record 44 of Set 8 | port hardy\n",
      "Processing Record 45 of Set 8 | westport\n",
      "Processing Record 46 of Set 8 | hinche\n",
      "Processing Record 47 of Set 8 | ahuimanu\n",
      "Processing Record 48 of Set 8 | la rioja\n",
      "Processing Record 49 of Set 8 | namatanai\n",
      "City | afanasyevo not found. Skipping...\n",
      "Processing Record 0 of Set 9 | qiongshan\n",
      "City | longlac not found. Skipping...\n",
      "Processing Record 1 of Set 9 | coahuayana\n",
      "Processing Record 2 of Set 9 | saint george\n",
      "Processing Record 3 of Set 9 | constitucion\n",
      "Processing Record 4 of Set 9 | lac du bonnet\n",
      "Processing Record 5 of Set 9 | sisophon\n",
      "Processing Record 6 of Set 9 | rosarito\n",
      "City | ondorhaan not found. Skipping...\n",
      "Processing Record 7 of Set 9 | flinders\n",
      "Processing Record 8 of Set 9 | krasnogvardeyskiy\n",
      "Processing Record 9 of Set 9 | olinda\n",
      "Processing Record 10 of Set 9 | sobolevo\n",
      "Processing Record 11 of Set 9 | miyako\n",
      "Processing Record 12 of Set 9 | juegang\n",
      "Processing Record 13 of Set 9 | sungaipenuh\n",
      "Processing Record 14 of Set 9 | puerto leguizamo\n",
      "Processing Record 15 of Set 9 | dauriya\n",
      "Processing Record 16 of Set 9 | dillon\n",
      "Processing Record 17 of Set 9 | vila franca do campo\n",
      "Processing Record 18 of Set 9 | bacolod\n",
      "Processing Record 19 of Set 9 | soma\n",
      "Processing Record 20 of Set 9 | kapuskasing\n",
      "Processing Record 21 of Set 9 | banda aceh\n",
      "Processing Record 22 of Set 9 | nosy varika\n",
      "Processing Record 23 of Set 9 | biltine\n",
      "Processing Record 24 of Set 9 | tomatlan\n",
      "Processing Record 25 of Set 9 | abadiania\n",
      "Processing Record 26 of Set 9 | papetoai\n",
      "Processing Record 27 of Set 9 | praxedis guerrero\n",
      "Processing Record 28 of Set 9 | romanovka\n",
      "Processing Record 29 of Set 9 | san cristobal\n",
      "Processing Record 30 of Set 9 | kokopo\n",
      "Processing Record 31 of Set 9 | saint-augustin\n",
      "Processing Record 32 of Set 9 | severo-kurilsk\n",
      "Processing Record 33 of Set 9 | tazovskiy\n",
      "Processing Record 34 of Set 9 | bejar\n",
      "Processing Record 35 of Set 9 | palana\n",
      "Processing Record 36 of Set 9 | conceicao do araguaia\n",
      "Processing Record 37 of Set 9 | alekseyevsk\n",
      "Processing Record 38 of Set 9 | beitbridge\n",
      "Processing Record 39 of Set 9 | urumqi\n",
      "Processing Record 40 of Set 9 | ilinskiy\n",
      "Processing Record 41 of Set 9 | comodoro rivadavia\n",
      "Processing Record 42 of Set 9 | mossendjo\n",
      "Processing Record 43 of Set 9 | cayenne\n",
      "Processing Record 44 of Set 9 | kaitangata\n",
      "Processing Record 45 of Set 9 | kenai\n",
      "Processing Record 46 of Set 9 | saldanha\n",
      "Processing Record 47 of Set 9 | fort nelson\n",
      "City | grande-riviere not found. Skipping...\n",
      "Processing Record 48 of Set 9 | morris\n",
      "Processing Record 49 of Set 9 | miranda\n",
      "Processing Record 0 of Set 10 | innisfail\n",
      "Processing Record 1 of Set 10 | maragogi\n",
      "Processing Record 2 of Set 10 | ekhabi\n",
      "Processing Record 3 of Set 10 | safakulevo\n",
      "Processing Record 4 of Set 10 | karratha\n",
      "Processing Record 5 of Set 10 | rocha\n",
      "Processing Record 6 of Set 10 | banepa\n",
      "Processing Record 7 of Set 10 | tabas\n",
      "Processing Record 8 of Set 10 | nema\n",
      "Processing Record 9 of Set 10 | dhidhdhoo\n",
      "Processing Record 10 of Set 10 | bandarbeyla\n",
      "Processing Record 11 of Set 10 | dawei\n",
      "Processing Record 12 of Set 10 | qaqortoq\n",
      "City | gurskoye not found. Skipping...\n",
      "Processing Record 13 of Set 10 | carahue\n",
      "Processing Record 14 of Set 10 | pathein\n",
      "Processing Record 15 of Set 10 | sao benedito do rio preto\n",
      "Processing Record 16 of Set 10 | marinette\n",
      "Processing Record 17 of Set 10 | santa paula\n",
      "Processing Record 18 of Set 10 | dukat\n",
      "Processing Record 19 of Set 10 | aleksandro-nevskiy\n",
      "Processing Record 20 of Set 10 | launceston\n",
      "Processing Record 21 of Set 10 | tamandare\n",
      "Processing Record 22 of Set 10 | kosonsoy\n",
      "Processing Record 23 of Set 10 | bodden town\n",
      "Processing Record 24 of Set 10 | mariental\n",
      "Processing Record 25 of Set 10 | panjakent\n",
      "Processing Record 26 of Set 10 | mount isa\n",
      "Processing Record 27 of Set 10 | avera\n",
      "Processing Record 28 of Set 10 | jiaonan\n",
      "Processing Record 29 of Set 10 | messina\n",
      "Processing Record 30 of Set 10 | muros\n",
      "Processing Record 31 of Set 10 | yuanping\n",
      "Processing Record 32 of Set 10 | raudeberg\n",
      "Processing Record 33 of Set 10 | port hawkesbury\n",
      "Processing Record 34 of Set 10 | walvis bay\n",
      "Processing Record 35 of Set 10 | sept-iles\n",
      "Processing Record 36 of Set 10 | acapulco\n",
      "Processing Record 37 of Set 10 | narsaq\n",
      "Processing Record 38 of Set 10 | port blair\n",
      "Processing Record 39 of Set 10 | birao\n",
      "City | jiroft not found. Skipping...\n",
      "Processing Record 40 of Set 10 | kawalu\n",
      "Processing Record 41 of Set 10 | acari\n",
      "Processing Record 42 of Set 10 | fort saint james\n",
      "Processing Record 43 of Set 10 | uyskoye\n",
      "Processing Record 44 of Set 10 | sao jose da coroa grande\n",
      "Processing Record 45 of Set 10 | krasnoselkup\n",
      "Processing Record 46 of Set 10 | nueve de julio\n",
      "Processing Record 47 of Set 10 | dudinka\n",
      "Processing Record 48 of Set 10 | la palma\n",
      "Processing Record 49 of Set 10 | snezhnogorsk\n",
      "Processing Record 0 of Set 11 | novobirilyussy\n",
      "Processing Record 1 of Set 11 | muzhi\n",
      "Processing Record 2 of Set 11 | shakawe\n",
      "Processing Record 3 of Set 11 | mecca\n",
      "Processing Record 4 of Set 11 | raga\n",
      "Processing Record 5 of Set 11 | bay roberts\n",
      "Processing Record 6 of Set 11 | washim\n",
      "Processing Record 7 of Set 11 | labuhan\n",
      "Processing Record 8 of Set 11 | novikovo\n",
      "Processing Record 9 of Set 11 | tyukhtet\n",
      "Processing Record 10 of Set 11 | lata\n",
      "Processing Record 11 of Set 11 | yataity\n",
      "Processing Record 12 of Set 11 | svetlograd\n",
      "Processing Record 13 of Set 11 | ossora\n",
      "Processing Record 14 of Set 11 | semey\n",
      "City | vaitupu not found. Skipping...\n",
      "Processing Record 15 of Set 11 | udachnyy\n",
      "Processing Record 16 of Set 11 | alta\n",
      "Processing Record 17 of Set 11 | sergeyevka\n",
      "Processing Record 18 of Set 11 | sosnovo-ozerskoye\n",
      "Processing Record 19 of Set 11 | rovaniemi\n",
      "Processing Record 20 of Set 11 | marrakesh\n",
      "Processing Record 21 of Set 11 | sugal\n",
      "Processing Record 22 of Set 11 | mahon\n",
      "Processing Record 23 of Set 11 | ulladulla\n",
      "Processing Record 24 of Set 11 | yangjiang\n",
      "Processing Record 25 of Set 11 | riviere-au-renard\n",
      "City | rawannawi not found. Skipping...\n",
      "Processing Record 26 of Set 11 | leh\n",
      "Processing Record 27 of Set 11 | strezhevoy\n",
      "Processing Record 28 of Set 11 | kisangani\n",
      "Processing Record 29 of Set 11 | mtsamboro\n",
      "Processing Record 30 of Set 11 | sabang\n",
      "Processing Record 31 of Set 11 | mutsu\n",
      "Processing Record 32 of Set 11 | anadyr\n",
      "Processing Record 33 of Set 11 | turangi\n",
      "Processing Record 34 of Set 11 | ryotsu\n",
      "Processing Record 35 of Set 11 | svetlogorsk\n",
      "Processing Record 36 of Set 11 | save\n",
      "Processing Record 37 of Set 11 | yeppoon\n",
      "City | doctor pedro p. pena not found. Skipping...\n",
      "Processing Record 38 of Set 11 | turukhansk\n",
      "Processing Record 39 of Set 11 | myaundzha\n",
      "Processing Record 40 of Set 11 | sao joao da barra\n",
      "Processing Record 41 of Set 11 | murwara\n",
      "Processing Record 42 of Set 11 | tres arroyos\n",
      "Processing Record 43 of Set 11 | hamina\n",
      "Processing Record 44 of Set 11 | port moresby\n",
      "Processing Record 45 of Set 11 | copiapo\n",
      "Processing Record 46 of Set 11 | sao miguel\n",
      "Processing Record 47 of Set 11 | bentiu\n",
      "City | karamay not found. Skipping...\n",
      "Processing Record 48 of Set 11 | sayat\n",
      "Processing Record 49 of Set 11 | tigil\n",
      "-------------------------------\n",
      "Data Retrieval Complete\n",
      "-------------------------------\n"
     ]
    }
   ],
   "source": [
    "## Declare a list of variables to hold the Max Temperature, Humidity, Cloudiness, Wind Speed, and Country\n",
    "lat_ar = []\n",
    "lng_ar = []\n",
    "max_temperature_ar = []\n",
    "humidity_ar = []\n",
    "cloudiness_ar = []\n",
    "wind_speed_ar = []\n",
    "date_ar = []\n",
    "country_ar = []\n",
    "\n",
    "set_no = 1\n",
    "record_no = 0\n",
    "\n",
    "## print the log file header\n",
    "print(\"Beginning Data Retrieval\")\n",
    "print(\"-------------------------------\")\n",
    "\n",
    "## for loop: \n",
    "##for i in range(70):\n",
    "for i in range(len(cities)):\n",
    "    ## Avoid overloading the system with API requests\n",
    "    time.sleep(1) \n",
    "    \n",
    "    ##city_url = query_url + cities[i]\n",
    "    city_url = query_url + cities[i]\n",
    "    \n",
    "    ## print(f\"City_url = {city_url}\")\n",
    "    \n",
    "    response_json = requests.get(city_url).json()\n",
    "\n",
    "    ## Catch the situations with the attribute name, but value is empty\n",
    "    try: \n",
    "        lat_ar.append(response_json['coord']['lat'])\n",
    "        lng_ar.append(response_json['coord']['lon'])\n",
    "        max_temperature_ar.append(response_json['main']['temp_max'])\n",
    "        humidity_ar.append(response_json['main']['humidity'])\n",
    "        cloudiness_ar.append(response_json['clouds']['all'])\n",
    "        wind_speed_ar.append(response_json['wind']['speed'])\n",
    "        date_ar.append(response_json['dt'])\n",
    "        country_ar.append(response_json['sys']['country'])\n",
    "        \n",
    "        ## print the log file line for each city: \n",
    "        print(f\"Processing Record {record_no} of Set {set_no} | {cities[i]}\")\n",
    "            \n",
    "        ## check to see if city_no = 50, if so, increment set_no\n",
    "        ## set the record_no and set_no for the next round of log printing\n",
    "        if record_no == MAX_NUM_RECORD_PER_SET:\n",
    "            record_no = 0\n",
    "            set_no += 1\n",
    "            ##print(f\"record_no = {record_no}, set_no = {set_no}\")\n",
    "        else:\n",
    "            record_no += 1\n",
    "            ##print(f\"Just add 1 to record_no: record_no = {record_no}\")     \n",
    "        \n",
    "    except KeyError:\n",
    "        ## don't have data -> put NaN\n",
    "        lat_ar.append(np.nan)\n",
    "        lng_ar.append(np.nan)\n",
    "        max_temperature_ar.append(np.nan)\n",
    "        humidity_ar.append(np.nan)\n",
    "        cloudiness_ar.append(0)\n",
    "        wind_speed_ar.append(np.nan)\n",
    "        date_ar.append(np.nan)\n",
    "        country_ar.append(np.nan)\n",
    "        print(f\"City | {cities[i]} not found. Skipping...\")\n",
    "        ##print(f\"record_no = {record_no}, set_no = {set_no}\")\n",
    "    \n",
    "## print the log file ending sentence\n",
    "print(\"-------------------------------\")\n",
    "print(\"Data Retrieval Complete\")\n",
    "print(\"-------------------------------\")\n",
    "  "
   ]
  },
  {
   "cell_type": "code",
   "execution_count": null,
   "metadata": {},
   "outputs": [],
   "source": []
  },
  {
   "cell_type": "markdown",
   "metadata": {},
   "source": [
    "### Convert Raw Data to DataFrame\n",
    "* Export the city data into a .csv.\n",
    "* Display the DataFrame"
   ]
  },
  {
   "cell_type": "code",
   "execution_count": 32,
   "metadata": {},
   "outputs": [],
   "source": [
    "# len(cities)\n",
    "# # city_weather_df = pd.DataFrame({\"City\": cities, \n",
    "# #                                 \"Lat\": lat_ar \n",
    "# # #                               \"Lng\": lng_ar\n",
    "# # #                                \"Max Temp\": max_temperature_ar, \n",
    "# # #                                \"Humidity\": humidity_ar,\n",
    "# # #                                \"Cloudiness\": cloudiness_ar,\n",
    "# #                                #\"Wind Speed\": wind_speed_ar,\n",
    "# #                                #\"Country\": country_ar\n",
    "# #                                #\"Date\": date_ar\n",
    "# #                                })\n",
    "# len(lat_ar)\n",
    "# len(lng_ar)\n",
    "# len(cities)\n",
    "# # print(f\"lat_ar[0] = {str(lat_ar[0])}\")\n",
    "# # print(f\"lat_ar[603] = {str(lat_ar[603])}\")\n",
    "# # print(f\"lng_ar[0] = {str(lat_ar[0])}\")\n",
    "# # print(f\"lng_ar[603] = {str(lng_ar[603])}\")\n",
    "# # print(f\"cities[0] = {str(cities[0])}\")\n",
    "# # print(f\"cities[603] = {str(cities[603])}\")\n",
    "\n",
    "\n",
    "\n",
    "\n",
    "# # city_weather_df.head\n"
   ]
  },
  {
   "cell_type": "code",
   "execution_count": null,
   "metadata": {},
   "outputs": [],
   "source": []
  },
  {
   "cell_type": "code",
   "execution_count": null,
   "metadata": {},
   "outputs": [],
   "source": []
  },
  {
   "cell_type": "code",
   "execution_count": null,
   "metadata": {},
   "outputs": [],
   "source": []
  },
  {
   "cell_type": "code",
   "execution_count": null,
   "metadata": {},
   "outputs": [],
   "source": []
  },
  {
   "cell_type": "code",
   "execution_count": null,
   "metadata": {},
   "outputs": [],
   "source": []
  },
  {
   "cell_type": "code",
   "execution_count": null,
   "metadata": {},
   "outputs": [],
   "source": []
  },
  {
   "cell_type": "code",
   "execution_count": null,
   "metadata": {},
   "outputs": [],
   "source": []
  },
  {
   "cell_type": "code",
   "execution_count": null,
   "metadata": {},
   "outputs": [],
   "source": []
  },
  {
   "cell_type": "code",
   "execution_count": null,
   "metadata": {},
   "outputs": [],
   "source": []
  },
  {
   "cell_type": "code",
   "execution_count": 33,
   "metadata": {},
   "outputs": [
    {
     "name": "stdout",
     "output_type": "stream",
     "text": [
      "The size of the city_weather_df = 591\n",
      "The size of the clean_city_weather_df size is 550\n",
      "\n"
     ]
    },
    {
     "data": {
      "text/html": [
       "<div>\n",
       "<style scoped>\n",
       "    .dataframe tbody tr th:only-of-type {\n",
       "        vertical-align: middle;\n",
       "    }\n",
       "\n",
       "    .dataframe tbody tr th {\n",
       "        vertical-align: top;\n",
       "    }\n",
       "\n",
       "    .dataframe thead th {\n",
       "        text-align: right;\n",
       "    }\n",
       "</style>\n",
       "<table border=\"1\" class=\"dataframe\">\n",
       "  <thead>\n",
       "    <tr style=\"text-align: right;\">\n",
       "      <th></th>\n",
       "      <th>City</th>\n",
       "      <th>Cloudiness</th>\n",
       "      <th>Country</th>\n",
       "      <th>Date</th>\n",
       "      <th>Humidity</th>\n",
       "      <th>Lat</th>\n",
       "      <th>Lng</th>\n",
       "      <th>Max Temp</th>\n",
       "      <th>Wind Speed</th>\n",
       "    </tr>\n",
       "  </thead>\n",
       "  <tbody>\n",
       "    <tr>\n",
       "      <th>0</th>\n",
       "      <td>marigot</td>\n",
       "      <td>75</td>\n",
       "      <td>MF</td>\n",
       "      <td>1.617075e+09</td>\n",
       "      <td>73.0</td>\n",
       "      <td>18.0667</td>\n",
       "      <td>-63.0833</td>\n",
       "      <td>78.80</td>\n",
       "      <td>9.22</td>\n",
       "    </tr>\n",
       "    <tr>\n",
       "      <th>1</th>\n",
       "      <td>mar del plata</td>\n",
       "      <td>40</td>\n",
       "      <td>AR</td>\n",
       "      <td>1.617075e+09</td>\n",
       "      <td>93.0</td>\n",
       "      <td>-38.0023</td>\n",
       "      <td>-57.5575</td>\n",
       "      <td>62.01</td>\n",
       "      <td>6.42</td>\n",
       "    </tr>\n",
       "    <tr>\n",
       "      <th>2</th>\n",
       "      <td>whitehorse</td>\n",
       "      <td>90</td>\n",
       "      <td>CA</td>\n",
       "      <td>1.617075e+09</td>\n",
       "      <td>47.0</td>\n",
       "      <td>60.7161</td>\n",
       "      <td>-135.0538</td>\n",
       "      <td>32.00</td>\n",
       "      <td>5.75</td>\n",
       "    </tr>\n",
       "    <tr>\n",
       "      <th>3</th>\n",
       "      <td>sentyabrskiy</td>\n",
       "      <td>0</td>\n",
       "      <td>NaN</td>\n",
       "      <td>NaN</td>\n",
       "      <td>NaN</td>\n",
       "      <td>NaN</td>\n",
       "      <td>NaN</td>\n",
       "      <td>NaN</td>\n",
       "      <td>NaN</td>\n",
       "    </tr>\n",
       "    <tr>\n",
       "      <th>4</th>\n",
       "      <td>villa carlos paz</td>\n",
       "      <td>0</td>\n",
       "      <td>AR</td>\n",
       "      <td>1.617075e+09</td>\n",
       "      <td>86.0</td>\n",
       "      <td>-31.4241</td>\n",
       "      <td>-64.4978</td>\n",
       "      <td>55.00</td>\n",
       "      <td>1.99</td>\n",
       "    </tr>\n",
       "  </tbody>\n",
       "</table>\n",
       "</div>"
      ],
      "text/plain": [
       "               City  Cloudiness Country          Date  Humidity      Lat  \\\n",
       "0           marigot          75      MF  1.617075e+09      73.0  18.0667   \n",
       "1     mar del plata          40      AR  1.617075e+09      93.0 -38.0023   \n",
       "2        whitehorse          90      CA  1.617075e+09      47.0  60.7161   \n",
       "3      sentyabrskiy           0     NaN           NaN       NaN      NaN   \n",
       "4  villa carlos paz           0      AR  1.617075e+09      86.0 -31.4241   \n",
       "\n",
       "        Lng  Max Temp  Wind Speed  \n",
       "0  -63.0833     78.80        9.22  \n",
       "1  -57.5575     62.01        6.42  \n",
       "2 -135.0538     32.00        5.75  \n",
       "3       NaN       NaN         NaN  \n",
       "4  -64.4978     55.00        1.99  "
      ]
     },
     "execution_count": 33,
     "metadata": {},
     "output_type": "execute_result"
    }
   ],
   "source": [
    "## Creata a dataframe with all the data retrieved\n",
    "##city_weather_df = pd.DataFrame(\"City\": cities, \n",
    "city_weather_df = pd.DataFrame({\"City\": cities, \n",
    "                               \"Lat\": lat_ar, \n",
    "                               \"Lng\": lng_ar,\n",
    "                               \"Max Temp\": max_temperature_ar, \n",
    "                               \"Humidity\": humidity_ar,\n",
    "                               \"Cloudiness\": cloudiness_ar,\n",
    "                               \"Wind Speed\": wind_speed_ar,\n",
    "                               \"Country\": country_ar,\n",
    "                               \"Date\": date_ar\n",
    "                               })\n",
    "\n",
    "## before drop_na, \n",
    "old_len = len(city_weather_df[\"City\"])\n",
    "print(f\"The size of the city_weather_df = {str(old_len)}\")\n",
    "# print(f\"city_weather_df size is {len(city_weather_df[\"City\"])}\")\n",
    "\n",
    "## Clean up df by dropping rows with NaN\n",
    "clean_city_weather_df = city_weather_df.dropna(how='any')\n",
    "\n",
    "new_len = len(clean_city_weather_df[\"City\"])\n",
    "print(f\"The size of the clean_city_weather_df size is {str(new_len)}\\n\")\n",
    "\n",
    "## export the city data into a csv file\n",
    "clean_city_weather_df.to_csv('../output_data/cities.csv',encoding = 'utf-8',index = False)\n",
    "\n",
    "## display the DataFrame\n",
    "city_weather_df.head()"
   ]
  },
  {
   "cell_type": "code",
   "execution_count": 34,
   "metadata": {},
   "outputs": [
    {
     "data": {
      "text/html": [
       "<div>\n",
       "<style scoped>\n",
       "    .dataframe tbody tr th:only-of-type {\n",
       "        vertical-align: middle;\n",
       "    }\n",
       "\n",
       "    .dataframe tbody tr th {\n",
       "        vertical-align: top;\n",
       "    }\n",
       "\n",
       "    .dataframe thead th {\n",
       "        text-align: right;\n",
       "    }\n",
       "</style>\n",
       "<table border=\"1\" class=\"dataframe\">\n",
       "  <thead>\n",
       "    <tr style=\"text-align: right;\">\n",
       "      <th></th>\n",
       "      <th>Cloudiness</th>\n",
       "      <th>Date</th>\n",
       "      <th>Humidity</th>\n",
       "      <th>Lat</th>\n",
       "      <th>Lng</th>\n",
       "      <th>Max Temp</th>\n",
       "      <th>Wind Speed</th>\n",
       "    </tr>\n",
       "  </thead>\n",
       "  <tbody>\n",
       "    <tr>\n",
       "      <th>count</th>\n",
       "      <td>550.000000</td>\n",
       "      <td>5.500000e+02</td>\n",
       "      <td>550.000000</td>\n",
       "      <td>550.000000</td>\n",
       "      <td>550.000000</td>\n",
       "      <td>550.000000</td>\n",
       "      <td>550.000000</td>\n",
       "    </tr>\n",
       "    <tr>\n",
       "      <th>mean</th>\n",
       "      <td>52.758182</td>\n",
       "      <td>1.617075e+09</td>\n",
       "      <td>71.860000</td>\n",
       "      <td>21.251286</td>\n",
       "      <td>19.579717</td>\n",
       "      <td>55.355255</td>\n",
       "      <td>8.098164</td>\n",
       "    </tr>\n",
       "    <tr>\n",
       "      <th>std</th>\n",
       "      <td>39.743780</td>\n",
       "      <td>2.860008e+02</td>\n",
       "      <td>22.016645</td>\n",
       "      <td>34.205236</td>\n",
       "      <td>93.537849</td>\n",
       "      <td>25.183247</td>\n",
       "      <td>5.692676</td>\n",
       "    </tr>\n",
       "    <tr>\n",
       "      <th>min</th>\n",
       "      <td>0.000000</td>\n",
       "      <td>1.617075e+09</td>\n",
       "      <td>7.000000</td>\n",
       "      <td>-54.800000</td>\n",
       "      <td>-179.166700</td>\n",
       "      <td>-24.110000</td>\n",
       "      <td>0.200000</td>\n",
       "    </tr>\n",
       "    <tr>\n",
       "      <th>25%</th>\n",
       "      <td>8.000000</td>\n",
       "      <td>1.617075e+09</td>\n",
       "      <td>60.000000</td>\n",
       "      <td>-8.414475</td>\n",
       "      <td>-64.480425</td>\n",
       "      <td>37.317500</td>\n",
       "      <td>3.792500</td>\n",
       "    </tr>\n",
       "    <tr>\n",
       "      <th>50%</th>\n",
       "      <td>62.000000</td>\n",
       "      <td>1.617075e+09</td>\n",
       "      <td>77.500000</td>\n",
       "      <td>27.673250</td>\n",
       "      <td>22.914700</td>\n",
       "      <td>60.800000</td>\n",
       "      <td>6.700000</td>\n",
       "    </tr>\n",
       "    <tr>\n",
       "      <th>75%</th>\n",
       "      <td>93.000000</td>\n",
       "      <td>1.617076e+09</td>\n",
       "      <td>88.000000</td>\n",
       "      <td>50.671675</td>\n",
       "      <td>108.181150</td>\n",
       "      <td>75.945000</td>\n",
       "      <td>10.665000</td>\n",
       "    </tr>\n",
       "    <tr>\n",
       "      <th>max</th>\n",
       "      <td>100.000000</td>\n",
       "      <td>1.617076e+09</td>\n",
       "      <td>100.000000</td>\n",
       "      <td>78.218600</td>\n",
       "      <td>179.316700</td>\n",
       "      <td>102.200000</td>\n",
       "      <td>33.380000</td>\n",
       "    </tr>\n",
       "  </tbody>\n",
       "</table>\n",
       "</div>"
      ],
      "text/plain": [
       "       Cloudiness          Date    Humidity         Lat         Lng  \\\n",
       "count  550.000000  5.500000e+02  550.000000  550.000000  550.000000   \n",
       "mean    52.758182  1.617075e+09   71.860000   21.251286   19.579717   \n",
       "std     39.743780  2.860008e+02   22.016645   34.205236   93.537849   \n",
       "min      0.000000  1.617075e+09    7.000000  -54.800000 -179.166700   \n",
       "25%      8.000000  1.617075e+09   60.000000   -8.414475  -64.480425   \n",
       "50%     62.000000  1.617075e+09   77.500000   27.673250   22.914700   \n",
       "75%     93.000000  1.617076e+09   88.000000   50.671675  108.181150   \n",
       "max    100.000000  1.617076e+09  100.000000   78.218600  179.316700   \n",
       "\n",
       "         Max Temp  Wind Speed  \n",
       "count  550.000000  550.000000  \n",
       "mean    55.355255    8.098164  \n",
       "std     25.183247    5.692676  \n",
       "min    -24.110000    0.200000  \n",
       "25%     37.317500    3.792500  \n",
       "50%     60.800000    6.700000  \n",
       "75%     75.945000   10.665000  \n",
       "max    102.200000   33.380000  "
      ]
     },
     "execution_count": 34,
     "metadata": {},
     "output_type": "execute_result"
    }
   ],
   "source": [
    "clean_city_weather_df.describe()"
   ]
  },
  {
   "cell_type": "code",
   "execution_count": null,
   "metadata": {},
   "outputs": [],
   "source": []
  },
  {
   "cell_type": "markdown",
   "metadata": {},
   "source": [
    "## Inspect the data and remove the cities where the humidity > 100%.\n",
    "----\n",
    "Skip this step if there are no cities that have humidity > 100%. "
   ]
  },
  {
   "cell_type": "code",
   "execution_count": 35,
   "metadata": {},
   "outputs": [
    {
     "name": "stdout",
     "output_type": "stream",
     "text": [
      "Number of cities with humidity > 100: 0\n"
     ]
    },
    {
     "data": {
      "text/plain": [
       "Int64Index([], dtype='int64')"
      ]
     },
     "execution_count": 35,
     "metadata": {},
     "output_type": "execute_result"
    }
   ],
   "source": [
    "#  Get the indices of cities that have humidity over 100%.\n",
    "## The easiest way to find the max_humidity is to describe the df to see the max value\n",
    "clean_city_weather_df.describe()\n",
    "\n",
    "## Alternatively, use the following code: \n",
    "## get the index list from the df\n",
    "idx = clean_city_weather_df.index\n",
    "\n",
    "## Get the row indices that satisfy the humidity condition\n",
    "humidity_exceed_max_indices = idx[clean_city_weather_df[\"Humidity\"] > 100]\n",
    "\n",
    "print(f\"Number of cities with humidity > 100: {str(len(humidity_exceed_max_indices.tolist()))}\")\n",
    "\n",
    "## print the indices\n",
    "humidity_exceed_max_indices\n"
   ]
  },
  {
   "cell_type": "code",
   "execution_count": null,
   "metadata": {},
   "outputs": [],
   "source": []
  },
  {
   "cell_type": "code",
   "execution_count": 36,
   "metadata": {},
   "outputs": [
    {
     "data": {
      "text/html": [
       "<div>\n",
       "<style scoped>\n",
       "    .dataframe tbody tr th:only-of-type {\n",
       "        vertical-align: middle;\n",
       "    }\n",
       "\n",
       "    .dataframe tbody tr th {\n",
       "        vertical-align: top;\n",
       "    }\n",
       "\n",
       "    .dataframe thead th {\n",
       "        text-align: right;\n",
       "    }\n",
       "</style>\n",
       "<table border=\"1\" class=\"dataframe\">\n",
       "  <thead>\n",
       "    <tr style=\"text-align: right;\">\n",
       "      <th></th>\n",
       "      <th>City</th>\n",
       "      <th>Cloudiness</th>\n",
       "      <th>Country</th>\n",
       "      <th>Date</th>\n",
       "      <th>Humidity</th>\n",
       "      <th>Lat</th>\n",
       "      <th>Lng</th>\n",
       "      <th>Max Temp</th>\n",
       "      <th>Wind Speed</th>\n",
       "    </tr>\n",
       "  </thead>\n",
       "  <tbody>\n",
       "    <tr>\n",
       "      <th>0</th>\n",
       "      <td>marigot</td>\n",
       "      <td>75</td>\n",
       "      <td>MF</td>\n",
       "      <td>1.617075e+09</td>\n",
       "      <td>73.0</td>\n",
       "      <td>18.0667</td>\n",
       "      <td>-63.0833</td>\n",
       "      <td>78.80</td>\n",
       "      <td>9.22</td>\n",
       "    </tr>\n",
       "    <tr>\n",
       "      <th>1</th>\n",
       "      <td>mar del plata</td>\n",
       "      <td>40</td>\n",
       "      <td>AR</td>\n",
       "      <td>1.617075e+09</td>\n",
       "      <td>93.0</td>\n",
       "      <td>-38.0023</td>\n",
       "      <td>-57.5575</td>\n",
       "      <td>62.01</td>\n",
       "      <td>6.42</td>\n",
       "    </tr>\n",
       "    <tr>\n",
       "      <th>2</th>\n",
       "      <td>whitehorse</td>\n",
       "      <td>90</td>\n",
       "      <td>CA</td>\n",
       "      <td>1.617075e+09</td>\n",
       "      <td>47.0</td>\n",
       "      <td>60.7161</td>\n",
       "      <td>-135.0538</td>\n",
       "      <td>32.00</td>\n",
       "      <td>5.75</td>\n",
       "    </tr>\n",
       "    <tr>\n",
       "      <th>4</th>\n",
       "      <td>villa carlos paz</td>\n",
       "      <td>0</td>\n",
       "      <td>AR</td>\n",
       "      <td>1.617075e+09</td>\n",
       "      <td>86.0</td>\n",
       "      <td>-31.4241</td>\n",
       "      <td>-64.4978</td>\n",
       "      <td>55.00</td>\n",
       "      <td>1.99</td>\n",
       "    </tr>\n",
       "    <tr>\n",
       "      <th>5</th>\n",
       "      <td>poum</td>\n",
       "      <td>85</td>\n",
       "      <td>NC</td>\n",
       "      <td>1.617075e+09</td>\n",
       "      <td>73.0</td>\n",
       "      <td>-20.2333</td>\n",
       "      <td>164.0167</td>\n",
       "      <td>80.49</td>\n",
       "      <td>12.62</td>\n",
       "    </tr>\n",
       "  </tbody>\n",
       "</table>\n",
       "</div>"
      ],
      "text/plain": [
       "               City  Cloudiness Country          Date  Humidity      Lat  \\\n",
       "0           marigot          75      MF  1.617075e+09      73.0  18.0667   \n",
       "1     mar del plata          40      AR  1.617075e+09      93.0 -38.0023   \n",
       "2        whitehorse          90      CA  1.617075e+09      47.0  60.7161   \n",
       "4  villa carlos paz           0      AR  1.617075e+09      86.0 -31.4241   \n",
       "5              poum          85      NC  1.617075e+09      73.0 -20.2333   \n",
       "\n",
       "        Lng  Max Temp  Wind Speed  \n",
       "0  -63.0833     78.80        9.22  \n",
       "1  -57.5575     62.01        6.42  \n",
       "2 -135.0538     32.00        5.75  \n",
       "4  -64.4978     55.00        1.99  \n",
       "5  164.0167     80.49       12.62  "
      ]
     },
     "execution_count": 36,
     "metadata": {},
     "output_type": "execute_result"
    }
   ],
   "source": [
    "# Make a new DataFrame equal to the city data to drop all humidity outliers by index.\n",
    "# Passing \"inplace=False\" will make a copy of the city_data DataFrame, which we call \"clean_city_data\".\n",
    "\n",
    "## Skip this step because no city in clean_city_weather_df has humidity > 100. \n",
    "## No rows has humidity > 100 in clean_cityclean_city_weather_df\n",
    "\n",
    "## print the clean_city_weather_df\n",
    "clean_city_weather_df.head()"
   ]
  },
  {
   "cell_type": "code",
   "execution_count": null,
   "metadata": {},
   "outputs": [],
   "source": []
  },
  {
   "cell_type": "markdown",
   "metadata": {},
   "source": [
    "## Plotting the Data\n",
    "* Use proper labeling of the plots using plot titles (including date of analysis) and axes labels.\n",
    "* Save the plotted figures as .pngs."
   ]
  },
  {
   "cell_type": "markdown",
   "metadata": {},
   "source": [
    "## Latitude vs. Temperature Plot"
   ]
  },
  {
   "cell_type": "code",
   "execution_count": 37,
   "metadata": {},
   "outputs": [
    {
     "data": {
      "image/png": "[encoded data removed]",
      "text/plain": [
       "<matplotlib.figure.Figure at 0x1a15803438>"
      ]
     },
     "metadata": {},
     "output_type": "display_data"
    }
   ],
   "source": [
    "plt.figure(figsize=(7,5))\n",
    "\n",
    "## Plot the lat vs the Max Temp\n",
    "plt.scatter(x = clean_city_weather_df['Lat'], y = clean_city_weather_df['Max Temp'], linewidths = 0.75, color = 'blue', edgecolor = 'black', s = 35)\n",
    "plt.grid()\n",
    "\n",
    "## Label the plot\n",
    "plt.xlabel('Latitude')\n",
    "plt.ylabel('Max Temperature (F)')\n",
    "plt.title(\"City Latitute vs. Max Temperature (03/28/21)\")\n",
    "\n",
    "## Save the plot\n",
    "plt.savefig(\"../output_data/CityLat_vs_MaxTemp.png\")\n",
    "\n",
    "## Show plot\n",
    "plt.tight_layout()\n",
    "plt.show()"
   ]
  },
  {
   "cell_type": "markdown",
   "metadata": {},
   "source": [
    "Note: The hottest place is near equator whose latitude is zero. Temperature decreases as we move away from the equator. When moving away from equator, a) in the Northern hemisphere, the larger the latitute, the lower the temperature; b) In the Southern hemisphere, as the latitute decreases, so is the temperature. \n",
    "\n"
   ]
  },
  {
   "cell_type": "markdown",
   "metadata": {},
   "source": [
    "## Latitude vs. Humidity Plot"
   ]
  },
  {
   "cell_type": "code",
   "execution_count": 38,
   "metadata": {},
   "outputs": [
    {
     "data": {
      "image/png": "[encoded data removed]",
      "text/plain": [
       "<matplotlib.figure.Figure at 0x1a15820c88>"
      ]
     },
     "metadata": {},
     "output_type": "display_data"
    }
   ],
   "source": [
    "plt.figure(figsize=(7,5))\n",
    "\n",
    "## Plot the lat vs Humidity\n",
    "plt.scatter(x = clean_city_weather_df['Lat'], y = clean_city_weather_df['Humidity'], linewidths = 0.75, color = 'blue', edgecolor = 'black', s = 35)\n",
    "plt.grid()\n",
    "\n",
    "## Label the plot\n",
    "plt.xlabel('Latitude')\n",
    "plt.ylabel('Humidity (%)')\n",
    "plt.title(\"City Latitute vs. Humidity (03/28/21)\")\n",
    "\n",
    "## Save the plot\n",
    "plt.savefig(\"../output_data/CityLat_vs_Humidity.png\")\n",
    "\n",
    "## Show plot\n",
    "plt.tight_layout()\n",
    "plt.show()"
   ]
  },
  {
   "cell_type": "markdown",
   "metadata": {},
   "source": [
    "Note: Humidity is very high (>70%) near equator. \n",
    "In the Northern hemisphere, the humidity increases when latitute become bigger. In Southern hemisphere, the correlation between latitude and humidity is less strong.\n",
    "\n",
    "\n"
   ]
  },
  {
   "cell_type": "markdown",
   "metadata": {},
   "source": [
    "## Latitude vs. Cloudiness Plot"
   ]
  },
  {
   "cell_type": "code",
   "execution_count": 39,
   "metadata": {},
   "outputs": [
    {
     "data": {
      "image/png": "[encoded data removed]",
      "text/plain": [
       "<matplotlib.figure.Figure at 0x1a1e63e860>"
      ]
     },
     "metadata": {},
     "output_type": "display_data"
    }
   ],
   "source": [
    "plt.figure(figsize=(7,5))\n",
    "\n",
    "## Plot the lat vs Humidity\n",
    "plt.scatter(x = clean_city_weather_df['Lat'], y = clean_city_weather_df['Cloudiness'], linewidths = 0.75, color = 'blue', edgecolor = 'black', s = 35)\n",
    "plt.grid()\n",
    "\n",
    "## Label the plot\n",
    "plt.xlabel('Latitude')\n",
    "plt.ylabel('Cloudiness (%)')\n",
    "plt.title(\"City Latitude vs. Cloudiness (03/28/21)\")\n",
    "\n",
    "## Save the plot\n",
    "plt.savefig(\"../output_data/CityLat_vs_Cloudiness.png\")\n",
    "\n",
    "## Show plot\n",
    "plt.tight_layout()\n",
    "plt.show()"
   ]
  },
  {
   "cell_type": "markdown",
   "metadata": {},
   "source": [
    "Note: No clear relationship between latitude and cloudiness, but variation of cloudiness among cities are evenly distributed throughout different latitudes.\n",
    "\n"
   ]
  },
  {
   "cell_type": "markdown",
   "metadata": {},
   "source": [
    "## Latitude vs. Wind Speed Plot"
   ]
  },
  {
   "cell_type": "code",
   "execution_count": 40,
   "metadata": {
    "scrolled": true
   },
   "outputs": [
    {
     "data": {
      "image/png": "[encoded data removed]",
      "text/plain": [
       "<matplotlib.figure.Figure at 0x1a1e7a7b70>"
      ]
     },
     "metadata": {},
     "output_type": "display_data"
    }
   ],
   "source": [
    "plt.figure(figsize=(7,5))\n",
    "\n",
    "## Plot the lat vs Humidity\n",
    "plt.scatter(x = clean_city_weather_df['Lat'], y = clean_city_weather_df['Wind Speed'], linewidths = 0.75, color = 'blue', edgecolor = 'black', s = 35)\n",
    "plt.grid()\n",
    "\n",
    "## Label the plot\n",
    "plt.xlabel('Latitude')\n",
    "plt.ylabel('Wind Speed (mph)')\n",
    "plt.title(\"City Latitude vs. Wind Speed (03/28/21)\")\n",
    "\n",
    "## Save the plot\n",
    "plt.savefig(\"../output_data/CityLat_vs_WindSpeed.png\")\n",
    "\n",
    "## Show plot\n",
    "plt.tight_layout()\n",
    "plt.show()"
   ]
  },
  {
   "cell_type": "markdown",
   "metadata": {},
   "source": [
    "Note: No strong correlation bewteen latitude and wind speed. However, we do see that as we move away from equator, the wind speed increase for a small number of cities in Northern atmosphere. "
   ]
  },
  {
   "cell_type": "markdown",
   "metadata": {},
   "source": [
    "## Linear Regression"
   ]
  },
  {
   "cell_type": "code",
   "execution_count": 41,
   "metadata": {},
   "outputs": [],
   "source": [
    "## The Equator, or line of 0 degrees latitude, divides the Earth into the Northern and Southern hemispheres. \n",
    "## Create two dataframes, one holds northern hemisphere data, one holds southern hemisphere data\n",
    "northern_hemi_df = clean_city_weather_df.loc[clean_city_weather_df['Lat'] >= 0]\n",
    "southern_hemi_df = clean_city_weather_df.loc[clean_city_weather_df['Lat'] < 0]"
   ]
  },
  {
   "cell_type": "code",
   "execution_count": 42,
   "metadata": {},
   "outputs": [],
   "source": [
    "## Define a function to print r-squared value\n",
    "## R-squared is a goodness-of-fit measure for linear regression models\n",
    "def display_r_squared_line(x_values, y_values):\n",
    "    print(f\"The r-squared is: {round(st.pearsonr(x_values, y_values)[0],9)}\")\n",
    "    print(\"\\n\")\n",
    "\n",
    "## Define a function for creating linear regression, and then draw scatter plot\n",
    "def calc_linear_regress_func(x_values, y_values):\n",
    "    ## Calculate the line y = kx + b\n",
    "    (slope, intercept, rvalue, pvalue, stderr) = linregress(x_values, y_values)\n",
    "    regress_values = x_values * slope + intercept\n",
    "    line_eq = \"y = \" + str(round(slope,2)) + \"x + \" + str(round(intercept,2))\n",
    "    \n",
    "    ## Plot the scatter plot with regression line\n",
    "    plt.scatter(x_values, y_values)\n",
    "    plt.plot(x_values, regress_values, \"r-\")\n",
    "    \n",
    "    return line_eq\n",
    "\n",
    "## print the regression line\n",
    "def print_regress_line_func(line_eq, a, b):\n",
    "    plt.annotate(line_eq, (a, b), fontsize=15, color=\"red\")\n",
    "\n",
    "## print the equation on the plot\n",
    "def display_line_eq_func(line_eq):\n",
    "    ax1.annotate(line_eq, xy=(20, 40), xycoords='data',xytext=(0.8, 0.95), textcoords='axes fraction',horizontalalignment='right', verticalalignment='top',fontsize=15,color=\"red\")\n",
    "    "
   ]
  },
  {
   "cell_type": "code",
   "execution_count": null,
   "metadata": {},
   "outputs": [],
   "source": []
  },
  {
   "cell_type": "markdown",
   "metadata": {},
   "source": [
    "####  Northern Hemisphere - Max Temp vs. Latitude Linear Regression"
   ]
  },
  {
   "cell_type": "code",
   "execution_count": 43,
   "metadata": {},
   "outputs": [
    {
     "name": "stdout",
     "output_type": "stream",
     "text": [
      "The r-squared is: -0.891097091\n",
      "\n",
      "\n"
     ]
    },
    {
     "data": {
      "image/png": "[encoded data removed]",
      "text/plain": [
       "<matplotlib.figure.Figure at 0x1a1e8dee10>"
      ]
     },
     "metadata": {},
     "output_type": "display_data"
    }
   ],
   "source": [
    "## Display r-squared statement: \n",
    "display_r_squared_line(northern_hemi_df['Lat'], northern_hemi_df['Max Temp'])\n",
    "\n",
    "## Call calc_linear_regress_func to calculate and display the regression line equation\n",
    "north_hemi_temp_line_eq = calc_linear_regress_func(northern_hemi_df['Lat'], northern_hemi_df['Max Temp'])\n",
    "\n",
    "## Call print_regress_line_func\n",
    "print_regress_line_func(north_hemi_temp_line_eq, 6, 10)\n",
    "\n",
    "## Set the title, x-label and y-label\n",
    "plt.title('Northern Hemisphere - Max Temp vs. Latitude Linear Regression', loc='center', wrap=True)\n",
    "\n",
    "plt.xlabel('Latitude')\n",
    "plt.ylabel('Max Temp (F)')\n",
    "\n",
    "# Save the plot\n",
    "plt.savefig(\"../output_data/NorthernHemisphere_MaxTemp_vs_Latitude_LinearRegression.png\")\n",
    "\n",
    "## Display the plot:\n",
    "plt.tight_layout()\n",
    "plt.show()\n"
   ]
  },
  {
   "cell_type": "markdown",
   "metadata": {},
   "source": [
    "Note: The relatively tight fit of the regression model with the data points of Latitute & Max Temperature for the Northern Hemisphere. \n",
    "?? Not sure why the r-squared is negative. I thought it should be around 0.6 - 0.7 instead."
   ]
  },
  {
   "cell_type": "code",
   "execution_count": null,
   "metadata": {},
   "outputs": [],
   "source": []
  },
  {
   "cell_type": "markdown",
   "metadata": {},
   "source": [
    "####  Southern Hemisphere - Max Temp vs. Latitude Linear Regression"
   ]
  },
  {
   "cell_type": "code",
   "execution_count": 44,
   "metadata": {},
   "outputs": [
    {
     "name": "stdout",
     "output_type": "stream",
     "text": [
      "The r-squared is: 0.581038062\n",
      "\n",
      "\n"
     ]
    },
    {
     "data": {
      "image/png": "[encoded data removed]",
      "text/plain": [
       "<matplotlib.figure.Figure at 0x1a1ea9f7f0>"
      ]
     },
     "metadata": {},
     "output_type": "display_data"
    }
   ],
   "source": [
    "## Display r-squared statement: \n",
    "display_r_squared_line(southern_hemi_df['Lat'], southern_hemi_df['Max Temp'])\n",
    "\n",
    "## Call calc_linear_regress_func to calculate and display the regression line equation\n",
    "south_hemi_temp_line_eq = calc_linear_regress_func(southern_hemi_df['Lat'], southern_hemi_df['Max Temp'])\n",
    "\n",
    "## Call print_regress_line_func\n",
    "print_regress_line_func(south_hemi_temp_line_eq, -30, 50)\n",
    "\n",
    "## Set the title, x-label and y-label\n",
    "plt.title('Southern Hemisphere - Max Temp vs. Latitude Linear Regression', loc='center', wrap=True)\n",
    "plt.xlabel('Latitude')\n",
    "plt.ylabel('Max Temp (F)')\n",
    "\n",
    "# Save the plot\n",
    "plt.savefig(\"../output_data/SouthernHemisphere_MaxTemp_vs_Latitude_LinearRegression.png\")\n",
    "\n",
    "## Display the plot:\n",
    "plt.show()\n"
   ]
  },
  {
   "cell_type": "markdown",
   "metadata": {},
   "source": [
    "Note: We can see a positive correlation was observed between the latitude and the maximum temperature for Southern Hemisphere."
   ]
  },
  {
   "cell_type": "markdown",
   "metadata": {},
   "source": [
    "####  Northern Hemisphere - Humidity (%) vs. Latitude Linear Regression"
   ]
  },
  {
   "cell_type": "code",
   "execution_count": 45,
   "metadata": {},
   "outputs": [
    {
     "name": "stdout",
     "output_type": "stream",
     "text": [
      "The r-squared is: 0.288709717\n",
      "\n",
      "\n"
     ]
    },
    {
     "data": {
      "image/png": "[encoded data removed]",
      "text/plain": [
       "<matplotlib.figure.Figure at 0x1a1eb91400>"
      ]
     },
     "metadata": {},
     "output_type": "display_data"
    }
   ],
   "source": [
    "## Display r-squared statement: \n",
    "display_r_squared_line(northern_hemi_df['Lat'], northern_hemi_df['Humidity'])\n",
    "\n",
    "## Call calc_linear_regress_func to calculate and display the regression line equation\n",
    "north_Lat_hum_line_eq = calc_linear_regress_func(northern_hemi_df['Lat'], northern_hemi_df['Humidity'])\n",
    "\n",
    "## Call print_regress_line_func\n",
    "print_regress_line_func(north_Lat_hum_line_eq, 38, 15)\n",
    "\n",
    "## Set the title, x-label and y-label\n",
    "# plt.title('Northern Hemisphere - Humidity (%) vs. Latitude Linear Regression',fontsize =15)\n",
    "plt.title('Northern Hemisphere - Humidity (%) vs. Latitude Linear Regression', loc='center', wrap=True)\n",
    "plt.xlabel('Latitude')\n",
    "plt.ylabel('Humidity (%)')\n",
    "\n",
    "# Save the plot\n",
    "plt.savefig(\"../output_data/NorthernHemisphere_Humidity_vs_Latitude_LinearRegression.png\")\n",
    "\n",
    "## Display the plot:\n",
    "plt.tight_layout()\n",
    "plt.show()"
   ]
  },
  {
   "cell_type": "markdown",
   "metadata": {},
   "source": [
    "Note: Moderate positive correlation between Lat and Humidity for the Northern Hemisphere."
   ]
  },
  {
   "cell_type": "markdown",
   "metadata": {},
   "source": [
    "####  Southern Hemisphere - Humidity (%) vs. Latitude Linear Regression"
   ]
  },
  {
   "cell_type": "code",
   "execution_count": 46,
   "metadata": {},
   "outputs": [
    {
     "name": "stdout",
     "output_type": "stream",
     "text": [
      "The r-squared is: 0.085855118\n",
      "\n",
      "\n"
     ]
    },
    {
     "data": {
      "image/png": "[encoded data removed]",
      "text/plain": [
       "<matplotlib.figure.Figure at 0x1a1ec7c048>"
      ]
     },
     "metadata": {},
     "output_type": "display_data"
    }
   ],
   "source": [
    "## Display r-squared statement: \n",
    "display_r_squared_line(southern_hemi_df['Lat'], southern_hemi_df['Humidity'])\n",
    "\n",
    "## Call calc_linear_regress_func to calculate and display the regression line equation\n",
    "south_hemi_hum_line_eq = calc_linear_regress_func(southern_hemi_df['Lat'], southern_hemi_df['Humidity'])\n",
    "\n",
    "## Call print_regress_line_func\n",
    "print_regress_line_func(south_hemi_hum_line_eq, -25, 40)\n",
    "\n",
    "## Set the title, x-label and y-label\n",
    "plt.title('Southern Hemisphere - Humidity (%) vs. Latitude Linear Regression',loc='center', wrap=True)\n",
    "plt.xlabel('Latitude')\n",
    "plt.ylabel('Humidity (%)')\n",
    "\n",
    "# Save the plot\n",
    "plt.savefig(\"../output_data/SouthernHemisphere_Humidity_vs_Latitude_LinearRegression.png\")\n",
    "\n",
    "## Display the plot:\n",
    "plt.show()\n"
   ]
  },
  {
   "cell_type": "markdown",
   "metadata": {},
   "source": [
    "Note: For Southern hemisphere, We can see a small positive correlation between humidity and latitude. "
   ]
  },
  {
   "cell_type": "code",
   "execution_count": null,
   "metadata": {},
   "outputs": [],
   "source": []
  },
  {
   "cell_type": "markdown",
   "metadata": {},
   "source": [
    "####  Northern Hemisphere - Cloudiness (%) vs. Latitude Linear Regression"
   ]
  },
  {
   "cell_type": "code",
   "execution_count": 47,
   "metadata": {},
   "outputs": [
    {
     "name": "stdout",
     "output_type": "stream",
     "text": [
      "The r-squared is: 0.286202632\n",
      "\n",
      "\n"
     ]
    },
    {
     "data": {
      "image/png": "[encoded data removed]",
      "text/plain": [
       "<matplotlib.figure.Figure at 0x1a1e7bb748>"
      ]
     },
     "metadata": {},
     "output_type": "display_data"
    }
   ],
   "source": [
    "## Display r-squared statement: \n",
    "display_r_squared_line(northern_hemi_df['Lat'], northern_hemi_df['Cloudiness'])\n",
    "\n",
    "## Call calc_linear_regress_func to calculate and display the regression line equation\n",
    "north_Lat_cloud_line_eq = calc_linear_regress_func(northern_hemi_df['Lat'], northern_hemi_df['Cloudiness'])\n",
    "\n",
    "## Call print_regress_line_func\n",
    "print_regress_line_func(north_Lat_cloud_line_eq, 35, 45)\n",
    "\n",
    "## Set the title, x-label and y-label\n",
    "plt.title('Northern Hemisphere - Cloudiness (%) vs. Latitude Linear Regression', loc='center', wrap=True)\n",
    "plt.xlabel('Latitude')\n",
    "plt.ylabel('Cloudiness')\n",
    "\n",
    "# Save the plot\n",
    "plt.savefig(\"../output_data/NorthernHemisphere_Cloudiness_vs_Latitude_LinearRegression.png\")\n",
    "\n",
    "## Display the plot:\n",
    "plt.tight_layout()\n",
    "plt.show()"
   ]
  },
  {
   "cell_type": "markdown",
   "metadata": {},
   "source": [
    "Note: Slightly positive correlation between latitude and Cloudiness. "
   ]
  },
  {
   "cell_type": "code",
   "execution_count": null,
   "metadata": {},
   "outputs": [],
   "source": []
  },
  {
   "cell_type": "markdown",
   "metadata": {},
   "source": [
    "####  Southern Hemisphere - Cloudiness (%) vs. Latitude Linear Regression"
   ]
  },
  {
   "cell_type": "code",
   "execution_count": 48,
   "metadata": {},
   "outputs": [
    {
     "name": "stdout",
     "output_type": "stream",
     "text": [
      "The r-squared is: 0.323201876\n",
      "\n",
      "\n"
     ]
    },
    {
     "data": {
      "image/png": "[encoded data removed]",
      "text/plain": [
       "<matplotlib.figure.Figure at 0x1a1ee5cb70>"
      ]
     },
     "metadata": {},
     "output_type": "display_data"
    }
   ],
   "source": [
    "## Display r-squared statement: \n",
    "display_r_squared_line(southern_hemi_df['Lat'], southern_hemi_df['Cloudiness'])\n",
    "\n",
    "## Call calc_linear_regress_func to calculate and display the regression line equation\n",
    "south_hemi_cloud_line_eq = calc_linear_regress_func(southern_hemi_df['Lat'], southern_hemi_df['Cloudiness'])\n",
    "\n",
    "## Call print_regress_line_func\n",
    "print_regress_line_func(south_hemi_cloud_line_eq, -25, 30)\n",
    "\n",
    "## Set the title, x-label and y-label\n",
    "plt.title('Southern Hemisphere - Cloudiness (%) vs. Latitude Linear Regression', loc='center', wrap=True)\n",
    "plt.xlabel('Latitude')\n",
    "plt.ylabel('Cloudiness')\n",
    "\n",
    "# Save the plot\n",
    "plt.savefig(\"../output_data/SouthernHemisphere_Cloudiness_vs_Latitude_LinearRegression.png\")\n",
    "\n",
    "## Display the plot:\n",
    "plt.show()\n"
   ]
  },
  {
   "cell_type": "markdown",
   "metadata": {},
   "source": [
    "Note: The correlation between cloudiness and city latitude is not strong. We can see a slightly correlation between them."
   ]
  },
  {
   "cell_type": "code",
   "execution_count": null,
   "metadata": {},
   "outputs": [],
   "source": []
  },
  {
   "cell_type": "markdown",
   "metadata": {},
   "source": [
    "####  Northern Hemisphere - Wind Speed (mph) vs. Latitude Linear Regression"
   ]
  },
  {
   "cell_type": "code",
   "execution_count": 51,
   "metadata": {},
   "outputs": [
    {
     "name": "stdout",
     "output_type": "stream",
     "text": [
      "The r-squared is: 0.10932199\n",
      "\n",
      "\n"
     ]
    },
    {
     "data": {
      "image/png": "[encoded data removed]",
      "text/plain": [
       "<matplotlib.figure.Figure at 0x1a1e8de2b0>"
      ]
     },
     "metadata": {},
     "output_type": "display_data"
    }
   ],
   "source": [
    "## Display r-squared statement: \n",
    "display_r_squared_line(northern_hemi_df['Lat'], northern_hemi_df['Wind Speed'])\n",
    "\n",
    "## Call calc_linear_regress_func to calculate and display the regression line equation\n",
    "north_Lat_wind_line_eq = calc_linear_regress_func(northern_hemi_df['Lat'], northern_hemi_df['Wind Speed'])\n",
    "\n",
    "# plt.figure(figsize=(15,10))\n",
    "\n",
    "## Call print_regress_line_func\n",
    "print_regress_line_func(north_Lat_wind_line_eq, 10, 25)\n",
    "\n",
    "## Set the title, x-label and y-label\n",
    "plt.title('Northern Hemisphere - Wind Speed (mph) vs. Latitude Linear Regression', loc='center', wrap=True)\n",
    "plt.xlabel('Latitude')\n",
    "plt.ylabel('Wind Speed (mph)')\n",
    "\n",
    "# Save the plot\n",
    "plt.savefig(\"../output_data/NorthernHemisphere_wind_vs_Latitude_LinearRegression.png\")\n",
    "\n",
    "## Display the plot:\n",
    "plt.tight_layout()\n",
    "plt.show()"
   ]
  },
  {
   "cell_type": "markdown",
   "metadata": {},
   "source": [
    "Note: In Northern hemisphere, there is a very small positive correlation between the Wind Speed and Latitude."
   ]
  },
  {
   "cell_type": "code",
   "execution_count": null,
   "metadata": {},
   "outputs": [],
   "source": []
  },
  {
   "cell_type": "markdown",
   "metadata": {},
   "source": [
    "####  Southern Hemisphere - Wind Speed (mph) vs. Latitude Linear Regression"
   ]
  },
  {
   "cell_type": "code",
   "execution_count": 52,
   "metadata": {},
   "outputs": [
    {
     "name": "stdout",
     "output_type": "stream",
     "text": [
      "The r-squared is: -0.031434179\n",
      "\n",
      "\n"
     ]
    },
    {
     "data": {
      "image/png": "[encoded data removed]",
      "text/plain": [
       "<matplotlib.figure.Figure at 0x1a1f20fcc0>"
      ]
     },
     "metadata": {},
     "output_type": "display_data"
    }
   ],
   "source": [
    "## Display r-squared statement: \n",
    "display_r_squared_line(southern_hemi_df['Lat'], southern_hemi_df['Wind Speed'])\n",
    "\n",
    "## Call calc_linear_regress_func to calculate and display the regression line equation\n",
    "south_hemi_wind_line_eq = calc_linear_regress_func(southern_hemi_df['Lat'], southern_hemi_df['Wind Speed'])\n",
    "\n",
    "## Call print_regress_line_func\n",
    "print_regress_line_func(south_hemi_wind_line_eq, -30, 17)\n",
    "\n",
    "## Set the title, x-label and y-label\n",
    "plt.title('Southern Hemisphere - Wind Speed (mph) vs. Latitude Linear Regression', loc='center', wrap=True)\n",
    "plt.xlabel('Latitude')\n",
    "plt.ylabel('Wind Speed (mph)')\n",
    "\n",
    "# Save the plot\n",
    "plt.savefig(\"../output_data/SouthernHemisphere_wind_vs_Latitude_LinearRegression.png\")\n",
    "\n",
    "## Display the plot:\n",
    "plt.show()\n"
   ]
  },
  {
   "cell_type": "markdown",
   "metadata": {},
   "source": [
    "Note: In the Southern hemisphere, based on the data gathered, as the latitute increases, the wind speed stays the fairly stable."
   ]
  },
  {
   "cell_type": "code",
   "execution_count": null,
   "metadata": {},
   "outputs": [],
   "source": []
  },
  {
   "cell_type": "code",
   "execution_count": null,
   "metadata": {},
   "outputs": [],
   "source": []
  }
 ],
 "metadata": {
  "anaconda-cloud": {},
  "kernel_info": {
   "name": "python3"
  },
  "kernelspec": {
   "display_name": "Python 3",
   "language": "python",
   "name": "python3"
  },
  "language_info": {
   "codemirror_mode": {
    "name": "ipython",
    "version": 3
   },
   "file_extension": ".py",
   "mimetype": "text/x-python",
   "name": "python",
   "nbconvert_exporter": "python",
   "pygments_lexer": "ipython3",
   "version": "3.6.4"
  },
  "latex_envs": {
   "LaTeX_envs_menu_present": true,
   "autoclose": false,
   "autocomplete": true,
   "bibliofile": "biblio.bib",
   "cite_by": "apalike",
   "current_citInitial": 1,
   "eqLabelWithNumbers": true,
   "eqNumInitial": 1,
   "hotkeys": {
    "equation": "Ctrl-E",
    "itemize": "Ctrl-I"
   },
   "labels_anchors": false,
   "latex_user_defs": false,
   "report_style_numbering": false,
   "user_envs_cfg": false
  },
  "nteract": {
   "version": "0.12.3"
  }
 },
 "nbformat": 4,
 "nbformat_minor": 4
}
